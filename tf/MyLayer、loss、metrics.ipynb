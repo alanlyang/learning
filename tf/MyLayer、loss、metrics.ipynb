{
 "metadata": {
  "language_info": {
   "codemirror_mode": {
    "name": "ipython",
    "version": 3
   },
   "file_extension": ".py",
   "mimetype": "text/x-python",
   "name": "python",
   "nbconvert_exporter": "python",
   "pygments_lexer": "ipython3",
   "version": "3.7.3-final"
  },
  "orig_nbformat": 2,
  "kernelspec": {
   "name": "python_defaultSpec_1600151745624",
   "display_name": "Python 3.7.3 64-bit ('base': conda)"
  }
 },
 "nbformat": 4,
 "nbformat_minor": 2,
 "cells": [
  {
   "cell_type": "markdown",
   "metadata": {},
   "source": [
    "## 自定义层\n",
    "keras支持用户自定义层  \n",
    "除了通过继承tf.keras.Modle实现自定义的模型外（推荐的编程方式，灵活度高，可移植性强）  \n",
    "还支持继承tf.keras.layers.Layer来实现层的自定义  \n",
    "需要重写 \\__init__, build, call 方法"
   ]
  },
  {
   "cell_type": "code",
   "execution_count": 1,
   "metadata": {},
   "outputs": [],
   "source": [
    "import tensorflow as tf\n",
    "import numpy as np\n",
    "import matplotlib.pyplot as plt\n",
    "\n",
    "from tensorflow import data as tfdata\n",
    "from tensorflow import keras\n",
    "from tensorflow.keras import layers\n",
    "from tensorflow.keras import optimizers\n",
    "from tensorflow import losses\n",
    "from tensorflow.keras import initializers as init\n",
    "\n",
    "from tensorflow.keras.utils import plot_model"
   ]
  },
  {
   "cell_type": "markdown",
   "metadata": {},
   "source": [
    "``` python3\n",
    "class MyLayer(tf.keras.layers.Layer):\n",
    "    def __init__(self):\n",
    "        super().__init__()\n",
    "        # 你的初始化代码\n",
    "    \n",
    "    def build(self, input_shape):\n",
    "        # input_shape 是一个tensorShape对象，提供输入的形状\n",
    "        # 在第一次使用该层时调用该部分代码，在这里创建变量可以使变量的形状自适应输入的形状\n",
    "        # 而不需要使用者额外指定变量形状\n",
    "        # 如果已经可以完全确定变量的形状，也可以在__init__部分创建变量\n",
    "        self.variable_0 = self.add_weight(...)\n",
    "        self.variable_0 = self.add_weight(...)\n",
    "    \n",
    "    def call(self, inputs):\n",
    "        # 模型的调用代码，处理输入并返回输出\n",
    "        return output\n",
    "```"
   ]
  },
  {
   "cell_type": "markdown",
   "metadata": {},
   "source": [
    "例如，如果要实现一个全连接层，可以如下编写：\n",
    "- 在build方法中创建两个变量\n",
    "- 在call方法中使用创建的变量进行运算"
   ]
  },
  {
   "cell_type": "code",
   "execution_count": 2,
   "metadata": {},
   "outputs": [],
   "source": [
    "class LinearLayer(tf.keras.layers.Layer):\n",
    "    def __init__(self, units):\n",
    "        super().__init__()\n",
    "        # 神经元的个数\n",
    "        self.units = units\n",
    "\n",
    "    def build(self, input_shape):\n",
    "        # 这里input_shape使第一次运行call()时参数inputs的形状\n",
    "        # 定义权重矩阵\n",
    "        self.w = self.add_variable(name=\"w\", shape=[input_shape[-1], self.units], initializer=tf.zeros_initializer())\n",
    "        # 定义偏置矩阵\n",
    "        self.b = self.add_variable(name=\"b\", shape=[self.units], initializer=tf.zeros_initializer())\n",
    "    \n",
    "    def call(self, inputs):\n",
    "        y_pred = tf.matmul(inputs, self.w) + self.b\n",
    "        return y_pred\n"
   ]
  },
  {
   "cell_type": "markdown",
   "metadata": {},
   "source": [
    "## 自定义损失函数\n",
    "自定义损失函数需要继承tf.keras.losses.Loss类  \n",
    "重写call方法即可，  \n",
    "输入真实值y_true和模型预测值y_pred  \n",
    "输出模型预测值和真实值之间通过自定义损失函数计算出的损失值   \n",
    "\n",
    "例如： 均方差损失函数 \n"
   ]
  },
  {
   "cell_type": "code",
   "execution_count": 3,
   "metadata": {},
   "outputs": [],
   "source": [
    "class MyLoss(tf.keras.losses.Loss):\n",
    "    def call(self, y_true, y_pred):\n",
    "        return tf.reduce_mean(tf.square(y_pred - y_true))"
   ]
  },
  {
   "cell_type": "markdown",
   "metadata": {},
   "source": [
    "## 自定义评估指标\n",
    "自定义评估函数需要继承tf.keras.metrics.Metric类   \n",
    "重写 \\__init__   \n",
    "重写 update_state  \n",
    "重写 result\n",
    "\n",
    "例如实现 SparseCategoricalAccuracy"
   ]
  },
  {
   "cell_type": "code",
   "execution_count": 4,
   "metadata": {},
   "outputs": [],
   "source": [
    "class SparseCategoricalAccuracy(tf.keras.metrics.Metric):\n",
    "    def __init__(self):\n",
    "        super().__init__()\n",
    "        # add_weight为Metric的方法，用于创建state variables(权重矩阵，可以指定权重初始化器)\n",
    "        self.total = self.add_weight(name='total', dtype=tf.int32, initializer=tf.zeros_initializer())\n",
    "        self.count = self.add_weight(name='count', dtype=tf.int32, initializer=tf.zeros_initializer())\n",
    "    \n",
    "    def update_state(self, y_true, y_pred, sample_weight=None):\n",
    "        # 对权重矩阵进行更新\n",
    "        # 相等为1, 否则为0\n",
    "        values = tf.cast(tf.equal(y_true, tf.argmax(y_pred, axis=1, output_type=tf.int32)), tf.int32)\n",
    "        # 总样本数\n",
    "        self.total.assign_add(tf.shape(y_true)[0])\n",
    "        # 计算等分总值\n",
    "        self.count.assign_add(tf.reduce_sum(values))\n",
    "    \n",
    "    def result(self):\n",
    "        # 这里可以对输出进行自定义\n",
    "        return self.count/self.total"
   ]
  },
  {
   "cell_type": "code",
   "execution_count": null,
   "metadata": {},
   "outputs": [],
   "source": []
  }
 ]
}