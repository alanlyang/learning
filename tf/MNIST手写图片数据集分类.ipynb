{
 "cells": [
  {
   "cell_type": "code",
   "execution_count": 4,
   "metadata": {},
   "outputs": [],
   "source": [
    "import tensorflow as tf\n",
    "\n",
    "from tensorflow import keras\n",
    "from tensorflow.keras import datasets"
   ]
  },
  {
   "cell_type": "code",
   "execution_count": 11,
   "metadata": {},
   "outputs": [
    {
     "name": "stdout",
     "output_type": "stream",
     "text": [
      "x: (60000, 28, 28)\t y:(60000,)\t x_test:(10000, 28, 28)\ty_test:(10000,)\n"
     ]
    }
   ],
   "source": [
    "(x, y), (x_test, y_test) = datasets.mnist.load_data()\n",
    "print(\"x: {}\\t y:{}\\t x_test:{}\\ty_test:{}\".format(x.shape, y.shape, x_test.shape, y_test.shape))\n"
   ]
  },
  {
   "cell_type": "code",
   "execution_count": 12,
   "metadata": {},
   "outputs": [],
   "source": [
    "# numpy数组必须转化为tensor以后才能被tensorflow提供的各种高级功能\n",
    "train_db = tf.data.Dataset.from_tensor_slices((x, y))\n",
    "\n",
    "# 转化为DataSet对象后，通常还需要对原始数据进行一系列的操作，例如标准化，预处理\n",
    "\n",
    "# 随机打散  buffer_size为缓冲池大小，返回仍然是一个Dataset对象\n",
    "train_db = train_db.shuffle(10000) \n",
    "\n",
    "# 设置batch_size\n",
    "train_db = train_db.batch(128)"
   ]
  },
  {
   "cell_type": "code",
   "execution_count": 15,
   "metadata": {},
   "outputs": [],
   "source": [
    "# 预处理函数\n",
    "def preprocess(x, y):\n",
    "    # 自动传入x, y 对象。shape 为[b, 28, 28], [b]\n",
    "    # 标准化像素值到0-1\n",
    "    x = tf.cast(x, dtype=tf.float32)/255\n",
    "    # 打平为一维数组\n",
    "    x = tf.reshape(x, [-1, 28*28])\n",
    "    # y 处理为整型\n",
    "    y = tf.cast(y, dtype=tf.int32)\n",
    "    y = tf.one_hot(y, depth=10)\n",
    "    \n",
    "    return x,y"
   ]
  },
  {
   "cell_type": "code",
   "execution_count": 16,
   "metadata": {},
   "outputs": [],
   "source": [
    "train_db = train_db.map(preprocess)\n",
    "\n",
    "train_db = train_db.repeat(20)"
   ]
  },
  {
   "cell_type": "code",
   "execution_count": 24,
   "metadata": {},
   "outputs": [],
   "source": [
    "test_db = tf.data.Dataset.from_tensor_slices((x_test, y_test))\n",
    "test_db = test_db.shuffle(1000).batch(128).map(preprocess)"
   ]
  },
  {
   "cell_type": "code",
   "execution_count": 25,
   "metadata": {},
   "outputs": [
    {
     "name": "stdout",
     "output_type": "stream",
     "text": [
      "(128, 784) \t (128, 10)\n"
     ]
    }
   ],
   "source": [
    "x, y = next(iter(train_db))\n",
    "print(x.shape, \"\\t\", y.shape)"
   ]
  },
  {
   "cell_type": "code",
   "execution_count": 35,
   "metadata": {},
   "outputs": [],
   "source": [
    "\n",
    "def main():\n",
    "    # 指标记录\n",
    "    accs, losses = [], []\n",
    "    # 学习率\n",
    "    lr = 0.01\n",
    "    \n",
    "    # 权重初始化\n",
    "    w1, b1 = tf.Variable(tf.random.normal([784, 256], stddev=0.1)), tf.Variable(tf.zeros([256]))\n",
    "    w2, b2 = tf.Variable(tf.random.normal([256, 128], stddev=0.1)), tf.Variable(tf.zeros([128]))\n",
    "    w3, b3 = tf.Variable(tf.random.normal([128, 10], stddev=0.1)), tf.Variable(tf.zeros([10]))\n",
    "    \n",
    "    # 训练， Dataset类型可以使用 step, (X,y)的形式进行迭代\n",
    "    for step, (x, y) in enumerate(train_db):\n",
    "        x = tf.reshape(x, (-1, 784))\n",
    "        with tf.GradientTape() as tape:\n",
    "            # 网络结构\n",
    "            h1 = x @ w1 + b1\n",
    "            h1 = tf.nn.relu(h1)\n",
    "            \n",
    "            h2 = h1@w2 + b2\n",
    "            h2 = tf.nn.relu(h2)\n",
    "            \n",
    "            out = h2@w3 + b3\n",
    "            \n",
    "            # loss\n",
    "            loss = tf.square(y - out)\n",
    "            loss = tf.reduce_mean(loss)\n",
    "        \n",
    "        # 计算各个梯度信息\n",
    "        grads = tape.gradient(loss, [w1, b1, w2, b2, w3, b3])\n",
    "        \n",
    "        # 梯度更新\n",
    "        for p, g in zip([w1, b1, w2, b2, w3, b3], grads):\n",
    "            p.assign_sub(lr*g)\n",
    "        \n",
    "        # 验证集准确率\n",
    "        if step % 800 == 0:\n",
    "            losses.append(float(loss))\n",
    "            total , total_correct =- 0., 0\n",
    "            for x, y in test_db:\n",
    "                h1 = x @ w1 + b1\n",
    "                h1 = tf.nn.relu(h1)\n",
    "\n",
    "                h2 = h1@w2 + b2\n",
    "                h2 = tf.nn.relu(h2)\n",
    "\n",
    "                out = h2@w3 + b3\n",
    "                \n",
    "                pred = tf.argmax(out, axis=1)\n",
    "                y = tf.argmax(y, axis=1)\n",
    "                \n",
    "                correct = tf.equal(pred, y)\n",
    "                total_correct += tf.reduce_sum(tf.cast(correct, dtype=tf.int32)).numpy()\n",
    "                total += x.shape[0]\n",
    "            print(step,\"loss:\", loss,  \"验证集准确率: \", total_correct/total)\n",
    "            accs.append(total_correct/total)\n",
    "    return losses, accs\n",
    "                \n",
    "    "
   ]
  },
  {
   "cell_type": "code",
   "execution_count": 36,
   "metadata": {},
   "outputs": [
    {
     "name": "stdout",
     "output_type": "stream",
     "text": [
      "0 loss: tf.Tensor(0.85535944, shape=(), dtype=float32) 验证集准确率:  0.0789\n",
      "800 loss: tf.Tensor(0.08140639, shape=(), dtype=float32) 验证集准确率:  0.5987\n",
      "1600 loss: tf.Tensor(0.064361475, shape=(), dtype=float32) 验证集准确率:  0.702\n",
      "2400 loss: tf.Tensor(0.056051463, shape=(), dtype=float32) 验证集准确率:  0.7563\n",
      "3200 loss: tf.Tensor(0.049647518, shape=(), dtype=float32) 验证集准确率:  0.7885\n",
      "4000 loss: tf.Tensor(0.042791605, shape=(), dtype=float32) 验证集准确率:  0.8116\n",
      "4800 loss: tf.Tensor(0.04693512, shape=(), dtype=float32) 验证集准确率:  0.8239\n",
      "5600 loss: tf.Tensor(0.04005591, shape=(), dtype=float32) 验证集准确率:  0.8365\n",
      "6400 loss: tf.Tensor(0.036599893, shape=(), dtype=float32) 验证集准确率:  0.8457\n",
      "7200 loss: tf.Tensor(0.03825946, shape=(), dtype=float32) 验证集准确率:  0.8521\n",
      "8000 loss: tf.Tensor(0.029656097, shape=(), dtype=float32) 验证集准确率:  0.8574\n",
      "8800 loss: tf.Tensor(0.037333556, shape=(), dtype=float32) 验证集准确率:  0.8629\n"
     ]
    }
   ],
   "source": [
    "losses, accs = main()"
   ]
  },
  {
   "cell_type": "code",
   "execution_count": 37,
   "metadata": {},
   "outputs": [
    {
     "data": {
      "text/plain": [
       "[<matplotlib.lines.Line2D at 0x7fa03e569590>]"
      ]
     },
     "execution_count": 37,
     "metadata": {},
     "output_type": "execute_result"
    },
    {
     "data": {
      "image/png": "[encoded data removed]",
      "text/plain": [
       "<Figure size 432x288 with 1 Axes>"
      ]
     },
     "metadata": {
      "needs_background": "light"
     },
     "output_type": "display_data"
    }
   ],
   "source": [
    "from matplotlib import pyplot as plt\n",
    "plt.figure()\n",
    "x = [i*80 for i in range(len(losses))]\n",
    "plt.plot(x, losses, color='C0', marker='s', label='训练')"
   ]
  },
  {
   "cell_type": "code",
   "execution_count": null,
   "metadata": {},
   "outputs": [],
   "source": []
  }
 ],
 "metadata": {
  "kernelspec": {
   "display_name": "Python 3",
   "language": "python",
   "name": "python3"
  },
  "language_info": {
   "codemirror_mode": {
    "name": "ipython",
    "version": 3
   },
   "file_extension": ".py",
   "mimetype": "text/x-python",
   "name": "python",
   "nbconvert_exporter": "python",
   "pygments_lexer": "ipython3",
   "version": "3.7.6"
  }
 },
 "nbformat": 4,
 "nbformat_minor": 4
}
