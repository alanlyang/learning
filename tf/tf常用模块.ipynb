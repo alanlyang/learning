{
 "metadata": {
  "language_info": {
   "codemirror_mode": {
    "name": "ipython",
    "version": 3
   },
   "file_extension": ".py",
   "mimetype": "text/x-python",
   "name": "python",
   "nbconvert_exporter": "python",
   "pygments_lexer": "ipython3",
   "version": "3.7.3-final"
  },
  "orig_nbformat": 2,
  "kernelspec": {
   "name": "python_defaultSpec_1600154728974",
   "display_name": "Python 3.7.3 64-bit ('base': conda)"
  }
 },
 "nbformat": 4,
 "nbformat_minor": 2,
 "cells": [
  {
   "cell_type": "code",
   "execution_count": null,
   "metadata": {},
   "outputs": [],
   "source": [
    "import tensorflow as tf\n",
    "import numpy as np\n",
    "import matplotlib.pyplot as plt\n",
    "import tensorflow_datasets as tfds\n",
    "\n",
    "from tensorflow import data as tfdata\n",
    "from tensorflow import keras\n",
    "from tensorflow.keras import layers\n",
    "from tensorflow.keras import optimizers\n",
    "from tensorflow import losses\n",
    "from tensorflow.keras import initializers as init\n",
    "\n",
    "from tensorflow.keras.utils import plot_model"
   ]
  },
  {
   "cell_type": "markdown",
   "metadata": {},
   "source": [
    "# \b变量的保存与恢复\n",
    "### tf.train.Checkpoint\n",
    "用处： \n",
    "    很多时候我们希望将模型训练完成后将训练好的参数变量保存骑来，在需要使用模型的其他地方载入模型和参数，就能直接得到训练好的参数   \n",
    "现状：\n",
    "    tensorflow的变量类型 ResourceVariable 不能被序列化  \n",
    "解决：\n",
    "    tensorflow提供了tf.train.Checkpoint 这个类来进行变量保存和恢复  \n",
    "    可以使用save() 和 restore() 方法将tensorflow中所有包含Checkpointable State的对象进行保存和恢复，  \n",
    "    - tf.keras.optimizer  \n",
    "    - tf.ResourceVariable  \n",
    "    - tf.keras.Layer  \n",
    "    - tf.keras.Model   \n",
    "    均可以被保存\n"
   ]
  },
  {
   "cell_type": "markdown",
   "metadata": {},
   "source": [
    "使用方法\n",
    "1、首先声明一个checkpoint对象\n",
    "```python\n",
    "    checkpoint = tf.train.Checkpoint(model=model)\n",
    "```\n",
    "Checkpoint接受的初始化参数比较特殊，是一个**kwargs, 即一系列的kv对， 键名可以随便取，value为需要保存的对象  \n",
    "例如，保存一个继承了tf.keras.Model的模型实例，和一个继承了tf.train.Optimizer的优化器  \n",
    "```python\n",
    "    checkpoint = tf.train.Checkpoint(myModel=model, myOptimizer=myOptimizer)\n",
    "```\n",
    "\n",
    "当模型训练完成需要保存的时候，使用  \n",
    "```python\n",
    "    checkpoint.save(save_path_with_prefix)\n",
    "```\n",
    "\n",
    "这里的save_path_with_prefix是保存文件的目录+前缀  \n",
    "\n",
    "checkpoint.save() 可以进行多次调用，每次调用救护得到一个.index和.data文件，序号依次增加\n"
   ]
  },
  {
   "cell_type": "markdown",
   "metadata": {},
   "source": [
    "<big>checkpoint只能保存模型的参数，不能保存模型的计算过程, 一般用于在具有模型源代码的时候恢复之前训练好的模型参数</big>"
   ]
  },
  {
   "cell_type": "markdown",
   "metadata": {},
   "source": [
    "当在其他地方需要重新载入一个之前保存的参数时，需要再次实例化一个checkpoint，同时保持键名一致， 再次调用restore方法。\n",
    "```python\n",
    "    model_to_be_restored = MyModel() #待恢复参数的同一模型\n",
    "    checkpoint = tf.train.Checkpoint(Mymodel=model_to_be_restored) # 保持键名一致\n",
    "    checkpoint.restore(save_path_with_prefix_and_index)\n",
    "```"
   ]
  },
  {
   "cell_type": "markdown",
   "metadata": {},
   "source": [
    "tf.train.Checkpoint相比于 之前版本的 tf.train.Saver相比 \n",
    "支持即时执行模式下 『延迟』恢复变量，  \n",
    "即： 当调用了checkpoint.restore()， 但模型中的变量还没有被建立的时候，Checkpoint可以 等到变量被建立的时候再进行数值恢复  \n",
    "即时执行模式下，模型中各个层的初始化和变量是在模型第一次被调用的时候才进行的"
   ]
  },
  {
   "cell_type": "markdown",
   "metadata": {},
   "source": [
    "## 使用tf,train.CheckpointManager"
   ]
  },
  {
   "cell_type": "markdown",
   "metadata": {},
   "source": [
    "使用场景：  \n",
    "   &nbsp;&nbsp; - 多次训练后累积大量的checkpoint，但是只需保留最后几个  \n",
    "   &nbsp;&nbsp; - 默认编号从1开始，希望使用别的编号方式   \n",
    "使用方法：  \n",
    "   &nbsp;&nbsp; 在定义的Checkpoint后接着定义一个CheckpointManager  "
   ]
  },
  {
   "cell_type": "code",
   "execution_count": null,
   "metadata": {},
   "outputs": [],
   "source": [
    "checkpoint = tf.train.Checkpoint(model=model)\n",
    "checkpoint_manager = tf.train.CheckpointManager(checkpoint, directory='./save', checkpoint_name=\"model.ckpt\", max_to_keep=k)"
   ]
  },
  {
   "cell_type": "markdown",
   "metadata": {},
   "source": [
    "其中  \n",
    "&nbsp;&nbsp; - directory: 文件保存路径  \n",
    "&nbsp;&nbsp; - checkpoint_name： 文件前缀名  \n",
    "&nbsp;&nbsp; - max_to_keep : 保留的checkpoint数目  \n",
    "\n",
    "此外  \n",
    "&nbsp;&nbsp;manager.save()可以接受一个checkpoint_number=xxx 来指定编号的命名"
   ]
  },
  {
   "cell_type": "markdown",
   "metadata": {},
   "source": [
    "# 训练过程可视化 ： TensorBoard\n"
   ]
  },
  {
   "cell_type": "markdown",
   "metadata": {},
   "source": [
    "- 1、首先在代码目录下建立一个文件夹, 如./log   \n",
    "- 2、实例化一个记录器： ```ummart_writer = tf.summary.create_file_writer(\"./log\")```\n",
    "- 3、通过with语句指定希望使用的记录器\n",
    "- 4、对需要记录的参数执行 ```tf.summary,scalar(name, tensor, step=batch_index)```\n",
    "    step参数可以根据需要自行设置\n",
    "- 5、在代码目录终端执行 tensorboard --logdir=./log\n",
    "- 6、在浏览器访问命令行输出的地址\n",
    "\n",
    "每运行依次tf.summary.scalar()， 记录器就会相记录文件中写入一条记录。"
   ]
  },
  {
   "cell_type": "markdown",
   "metadata": {},
   "source": [
    "### 查看Graph和Profile的信息\n",
    "还可以在训练时使用 tf.summary.trace_on 来开启Trace。  \n",
    "此时tensorflow会将训练的大量信息（如计算的图结构，每个操作的耗时）等记录下   \n",
    "训练完成后使用tf.summary.trace_export将记录结果输出到文件"
   ]
  },
  {
   "cell_type": "code",
   "execution_count": null,
   "metadata": {},
   "outputs": [],
   "source": [
    "# 使用如下\n",
    "tf.summary.trace_on(graph=True, profiler=True)\n",
    "# 进行训练\n",
    "with tf.summary.create_file_writer(\"./log\").as_default():\n",
    "    # 保存trace信息到文件\n",
    "    tf.summary.trace_export(name=\"model_trace\", step=0, profiler_outdir=log_dir)"
   ]
  },
  {
   "cell_type": "markdown",
   "metadata": {},
   "source": [
    "# 数据集的构建和预处理 tf.data\n",
    "\n",
    "tf.data包含了一套灵活的数据集构建api,能够帮助我们快速、高效的构建数据输入的流水线，尤其适用于数据量巨大的场景"
   ]
  },
  {
   "cell_type": "markdown",
   "metadata": {},
   "source": [
    "### 数据对象的建立\n",
    "tf.data的核心是tf.data.Dataset类，提供了对数据集的高层封装   \n",
    "t.data.Dateset由一些列的可迭代访问的元素(elememt)够更，每个元素包含一个或多个tensor.  \n",
    "\n",
    "最基础的是使用tf,data.Dataset.from_tensor_slices() .  \n",
    "适用于数据量较小（能够全部装进内存）\n",
    "即 如果数据集中所有元素通过张量的第0维,拼接成一个大的张量,  \n",
    "那么我们提供一个这样的张量或者第0维大小相同的多个张量作为输入，  \n",
    "即可按张量的第0维展开来作为数据集。数据集的元素数量为第0维的大小  \n",
    "\n",
    "对于特别巨大而无法完整载入内存的数据集，  \n",
    "可以先处理成tfRecord, 然后使用tf.data.TFRecordDataset()进行载入"
   ]
  },
  {
   "cell_type": "markdown",
   "metadata": {},
   "source": [
    "### 数据对象的预处理\n",
    "tf.data.Dataset提供了多种数据集预处理的方法   \n",
    "- Dataset.map(f): 对数据集中的每个元素应用函数f， 得到一个新的数据集（这部分往往结合tf.io进行读写和解码文件， tf.image进行图像处理）  \n",
    "- Dataset.shuffle(buffer_size): 将数据集打乱（设置一个固定大小的缓冲区，取出buffer_size个元素放入，并从缓冲区随机采样，采样后的数据用后续数据替换）\n",
    "- Dataset.batch(batch_size): 将数据集分批次，即对每batch_size个元素，使用tf.stack()在第0维合并，称为一个元素  \n",
    "- Dataset.repeat(): 重复数据集的元素\n",
    "- Dataset.reduce(): 与map对应的聚合操作\n",
    "- Dataset.take(): 从数据集中取出前若干个元素"
   ]
  },
  {
   "cell_type": "code",
   "execution_count": null,
   "metadata": {
    "tags": []
   },
   "outputs": [],
   "source": [
    "mnist_dataset = tfds.load(\"mnist\", split=tfds.Split.TRAIN, as_supervised=True)"
   ]
  },
  {
   "cell_type": "code",
   "execution_count": null,
   "metadata": {},
   "outputs": [],
   "source": [
    "# 将图片旋转90度\n",
    "def rot90(image, lable):\n",
    "    image = tf.image.rot90(image)\n",
    "    return image, lable\n",
    "# 对每个元素都旋转90度\n",
    "mnist_dataset = mnist_dataset.map(rot90)\n",
    "# 显示结果\n",
    "for image, lable in mnist_dataset:\n",
    "    plt.title(lable.numpy())\n",
    "    plt.imshow(image.numpy()[:, :, 0])\n",
    "    plt.show()\n",
    "    break"
   ]
  },
  {
   "cell_type": "code",
   "execution_count": null,
   "metadata": {},
   "outputs": [],
   "source": [
    "# Dataset分batch\n",
    "for batch_index, (image, lable) in enumerate(mnist_dataset.batch(4)):\n",
    "    # 用于多图绘制, 一个fig对象可以包含多个axs(子图)，接受三个参数numRows, numCols， plotNum(指定绘图区域)\n",
    "    fig, axs = plt.subplots(1, 4)\n",
    "    for i in range(4):\n",
    "        axs[i].set_title(lable.numpy()[i])\n",
    "        axs[i].imshow(image.numpy()[ i, :,:,0])\n",
    "    plt.show()\n",
    "    break\n",
    "\n"
   ]
  },
  {
   "cell_type": "code",
   "execution_count": 35,
   "metadata": {},
   "outputs": [
    {
     "output_type": "display_data",
     "data": {
      "text/plain": "<Figure size 432x288 with 4 Axes>",
      "image/svg+xml": "<?xml version=\"1.0\" encoding=\"utf-8\" standalone=\"no\"?>\n<!DOCTYPE svg PUBLIC \"-//W3C//DTD SVG 1.1//EN\"\n  \"http://www.w3.org/Graphics/SVG/1.1/DTD/svg11.dtd\">\n<!-- Created with matplotlib (https://matplotlib.org/) -->\n<svg height=\"118.978859pt\" version=\"1.1\" viewBox=\"0 0 368.925 118.978859\" width=\"368.925pt\" xmlns=\"http://www.w3.org/2000/svg\" xmlns:xlink=\"http://www.w3.org/1999/xlink\">\n <defs>\n  <style type=\"text/css\">\n*{stroke-linecap:butt;stroke-linejoin:round;white-space:pre;}\n  </style>\n </defs>\n <g id=\"figure_1\">\n  <g id=\"patch_1\">\n   <path d=\"M -0 118.978859 \nL 368.925 118.978859 \nL 368.925 0 \nL -0 0 \nz\n\" style=\"fill:none;\"/>\n  </g>\n  <g id=\"axes_1\">\n   <g id=\"patch_2\">\n    <path d=\"M 26.925 95.100734 \nL 99.707609 95.100734 \nL 99.707609 22.318125 \nL 26.925 22.318125 \nz\n\" style=\"fill:#ffffff;\"/>\n   </g>\n   <g clip-path=\"url(#p58f44ff6f1)\">\n    <image height=\"73\" id=\"image812df614e9\" transform=\"scale(1 -1)translate(0 -73)\" width=\"73\" x=\"26.925\" xlink:href=\"data:image/png;base64,\niVBORw0KGgoAAAANSUhEUgAAAEkAAABJCAYAAABxcwvcAAAABHNCSVQICAgIfAhkiAAABHtJREFUeJztm29MVWUcxz/ncgMUZGIllKhhQ4ut1DFUetOG/cEXZQZFttmfoauEVsyscL3pRWurtdVCaKH9w6RWC+ZaVo5e9IeMDRNdIjTFOVomTdtMDLlcenG6z3PXwcuPe+/xT/0+r377PX/3vd/n3PM85xznFqdiDCUmgQs9gUsBFUmAiiRARRKgIglQkQSoSAJUJAEqkoCgH52mZGcDMNh8pcl1LG5JSt+F22pMPO+Z75PS50SokwSoSAKchDe4jgPA7+uWmVTBg70ANF+zK6Gux+Nk+C8Tr+mrNHGgNhOA8L6DSR9TnSRARRKQ8HIL5uYA0Nb1Wcx6ncOOidd8u9ZTXlvUDsCj0w/HNY8FresByP8kZOf2VVdcff0bdZKAuJwUuQ8C6Ns8F4Cem7d66vWNnDXx2k21Js7avttTN7CoEIAzV2eY3FD1HyauL9wOwOLU2L/rjtN2bm+VlQIQOnwkZpuJUCcJUJEExLXcjtfcZOLOutc95T0jIwA8tvEJk8v86Id45mcILS8C4JHGj01uVcaJmG1ufPNxAOY835HQ2OokAb5scPcPzwISd080wXb377yp6m6T+6m+08Trst2xclKmmNyuqpcAuGPwaZOb2TB5V6mTBKhIAnxZbn4S+OZHE+9eeJkt6F4KwHNX7DOpyNK7dnWfyZ1unmbi8KlTsjHjmun/DBVJwCW33M5FR80SAFq3Dphc5D6qZd4XJrcyvcw20uWWPHxxUnH6UQBeffhek5vxtr+H9pEL+rOf32dyq8obktN3Unr5j6MiCYhrueW8YbcDCwqqAeit2Gxy+cF0AE4stHvnGXFNb/LM37jXxDvK3LOlOzNOJtSnOkmAiiQgruU2FrKH7de/2A/AULk9qp3qpALw5K07TW5n4VITjx6w24RkMzY8bMfB8ZQ7aamT7lOdJCDh+6TQsd8AKGncYHLd693TyujHQzlt9lB/y0N3AeB0dCc6/KQJvRvlruWyNuokASqSgKRtS4L2PQb+DLsXz8xAmslFH9rXVbjnPNf155pc6NdjyZpK0lEnCUiak656xR6wF+e6F/Ge++vHrXuw0r07f2/FLJP7sOp2wP+L+UD7HBPnMRCjpkWdJEBFEuDLedL8puMAdJXbXFGat94DWb+YeNo7bQDUddrnagWvhTxtnJFRE4f3HvCUD2yyT5dLp3z3T5RucnObfjax7Sk26iQBKpKAxF8sjcGhl0tMfK5/uslyNHTGxLe1PuUpLy3Zb+KGvK895SsX2QcBo4ODojHVSQJ8dVLkfUoA5wP7e7QWfOrXkBOiTvIJFUmAr8stmuDsPBNntLgX3/fzvzwfQ7Nsz2oTz6y0W5Hw0JCovTpJwHlzUjQpWVnu4FPtW2lHGy8HYM+S5rj6jNwaVB+y35uwYbo7Tm+/SUndE406SYCKJOCCLLfxOFtWDMCRe+x0+ldsMfHoWBiAFCfgyQHc0OB+UTn7hcReRx4PdZIAFUnARbPcLmbUSQJUJAEqkgAVSYCKJEBFEqAiCVCRBKhIAv4GzQcI922nnxsAAAAASUVORK5CYII=\" y=\"-22.100734\"/>\n   </g>\n   <g id=\"matplotlib.axis_1\">\n    <g id=\"xtick_1\">\n     <g id=\"line2d_1\">\n      <defs>\n       <path d=\"M 0 0 \nL 0 3.5 \n\" id=\"ma1f16854a9\" style=\"stroke:#000000;stroke-width:0.8;\"/>\n      </defs>\n      <g>\n       <use style=\"stroke:#000000;stroke-width:0.8;\" x=\"28.224689\" xlink:href=\"#ma1f16854a9\" y=\"95.100734\"/>\n      </g>\n     </g>\n     <g id=\"text_1\">\n      <!-- 0 -->\n      <defs>\n       <path d=\"M 31.78125 66.40625 \nQ 24.171875 66.40625 20.328125 58.90625 \nQ 16.5 51.421875 16.5 36.375 \nQ 16.5 21.390625 20.328125 13.890625 \nQ 24.171875 6.390625 31.78125 6.390625 \nQ 39.453125 6.390625 43.28125 13.890625 \nQ 47.125 21.390625 47.125 36.375 \nQ 47.125 51.421875 43.28125 58.90625 \nQ 39.453125 66.40625 31.78125 66.40625 \nz\nM 31.78125 74.21875 \nQ 44.046875 74.21875 50.515625 64.515625 \nQ 56.984375 54.828125 56.984375 36.375 \nQ 56.984375 17.96875 50.515625 8.265625 \nQ 44.046875 -1.421875 31.78125 -1.421875 \nQ 19.53125 -1.421875 13.0625 8.265625 \nQ 6.59375 17.96875 6.59375 36.375 \nQ 6.59375 54.828125 13.0625 64.515625 \nQ 19.53125 74.21875 31.78125 74.21875 \nz\n\" id=\"DejaVuSans-48\"/>\n      </defs>\n      <g transform=\"translate(25.043439 109.699171)scale(0.1 -0.1)\">\n       <use xlink:href=\"#DejaVuSans-48\"/>\n      </g>\n     </g>\n    </g>\n    <g id=\"xtick_2\">\n     <g id=\"line2d_2\">\n      <g>\n       <use style=\"stroke:#000000;stroke-width:0.8;\" x=\"80.212267\" xlink:href=\"#ma1f16854a9\" y=\"95.100734\"/>\n      </g>\n     </g>\n     <g id=\"text_2\">\n      <!-- 20 -->\n      <defs>\n       <path d=\"M 19.1875 8.296875 \nL 53.609375 8.296875 \nL 53.609375 0 \nL 7.328125 0 \nL 7.328125 8.296875 \nQ 12.9375 14.109375 22.625 23.890625 \nQ 32.328125 33.6875 34.8125 36.53125 \nQ 39.546875 41.84375 41.421875 45.53125 \nQ 43.3125 49.21875 43.3125 52.78125 \nQ 43.3125 58.59375 39.234375 62.25 \nQ 35.15625 65.921875 28.609375 65.921875 \nQ 23.96875 65.921875 18.8125 64.3125 \nQ 13.671875 62.703125 7.8125 59.421875 \nL 7.8125 69.390625 \nQ 13.765625 71.78125 18.9375 73 \nQ 24.125 74.21875 28.421875 74.21875 \nQ 39.75 74.21875 46.484375 68.546875 \nQ 53.21875 62.890625 53.21875 53.421875 \nQ 53.21875 48.921875 51.53125 44.890625 \nQ 49.859375 40.875 45.40625 35.40625 \nQ 44.1875 33.984375 37.640625 27.21875 \nQ 31.109375 20.453125 19.1875 8.296875 \nz\n\" id=\"DejaVuSans-50\"/>\n      </defs>\n      <g transform=\"translate(73.849767 109.699171)scale(0.1 -0.1)\">\n       <use xlink:href=\"#DejaVuSans-50\"/>\n       <use x=\"63.623047\" xlink:href=\"#DejaVuSans-48\"/>\n      </g>\n     </g>\n    </g>\n   </g>\n   <g id=\"matplotlib.axis_2\">\n    <g id=\"ytick_1\">\n     <g id=\"line2d_3\">\n      <defs>\n       <path d=\"M 0 0 \nL -3.5 0 \n\" id=\"mbaaa5c29b1\" style=\"stroke:#000000;stroke-width:0.8;\"/>\n      </defs>\n      <g>\n       <use style=\"stroke:#000000;stroke-width:0.8;\" x=\"26.925\" xlink:href=\"#mbaaa5c29b1\" y=\"23.617814\"/>\n      </g>\n     </g>\n     <g id=\"text_3\">\n      <!-- 0 -->\n      <g transform=\"translate(13.5625 27.417033)scale(0.1 -0.1)\">\n       <use xlink:href=\"#DejaVuSans-48\"/>\n      </g>\n     </g>\n    </g>\n    <g id=\"ytick_2\">\n     <g id=\"line2d_4\">\n      <g>\n       <use style=\"stroke:#000000;stroke-width:0.8;\" x=\"26.925\" xlink:href=\"#mbaaa5c29b1\" y=\"49.611603\"/>\n      </g>\n     </g>\n     <g id=\"text_4\">\n      <!-- 10 -->\n      <defs>\n       <path d=\"M 12.40625 8.296875 \nL 28.515625 8.296875 \nL 28.515625 63.921875 \nL 10.984375 60.40625 \nL 10.984375 69.390625 \nL 28.421875 72.90625 \nL 38.28125 72.90625 \nL 38.28125 8.296875 \nL 54.390625 8.296875 \nL 54.390625 0 \nL 12.40625 0 \nz\n\" id=\"DejaVuSans-49\"/>\n      </defs>\n      <g transform=\"translate(7.2 53.410822)scale(0.1 -0.1)\">\n       <use xlink:href=\"#DejaVuSans-49\"/>\n       <use x=\"63.623047\" xlink:href=\"#DejaVuSans-48\"/>\n      </g>\n     </g>\n    </g>\n    <g id=\"ytick_3\">\n     <g id=\"line2d_5\">\n      <g>\n       <use style=\"stroke:#000000;stroke-width:0.8;\" x=\"26.925\" xlink:href=\"#mbaaa5c29b1\" y=\"75.605392\"/>\n      </g>\n     </g>\n     <g id=\"text_5\">\n      <!-- 20 -->\n      <g transform=\"translate(7.2 79.404611)scale(0.1 -0.1)\">\n       <use xlink:href=\"#DejaVuSans-50\"/>\n       <use x=\"63.623047\" xlink:href=\"#DejaVuSans-48\"/>\n      </g>\n     </g>\n    </g>\n   </g>\n   <g id=\"patch_3\">\n    <path d=\"M 26.925 95.100734 \nL 26.925 22.318125 \n\" style=\"fill:none;stroke:#000000;stroke-linecap:square;stroke-linejoin:miter;stroke-width:0.8;\"/>\n   </g>\n   <g id=\"patch_4\">\n    <path d=\"M 99.707609 95.100734 \nL 99.707609 22.318125 \n\" style=\"fill:none;stroke:#000000;stroke-linecap:square;stroke-linejoin:miter;stroke-width:0.8;\"/>\n   </g>\n   <g id=\"patch_5\">\n    <path d=\"M 26.925 95.100734 \nL 99.707609 95.100734 \n\" style=\"fill:none;stroke:#000000;stroke-linecap:square;stroke-linejoin:miter;stroke-width:0.8;\"/>\n   </g>\n   <g id=\"patch_6\">\n    <path d=\"M 26.925 22.318125 \nL 99.707609 22.318125 \n\" style=\"fill:none;stroke:#000000;stroke-linecap:square;stroke-linejoin:miter;stroke-width:0.8;\"/>\n   </g>\n   <g id=\"text_6\">\n    <!-- 0 -->\n    <g transform=\"translate(59.498804 16.318125)scale(0.12 -0.12)\">\n     <use xlink:href=\"#DejaVuSans-48\"/>\n    </g>\n   </g>\n  </g>\n  <g id=\"axes_2\">\n   <g id=\"patch_7\">\n    <path d=\"M 114.26413 95.100734 \nL 187.046739 95.100734 \nL 187.046739 22.318125 \nL 114.26413 22.318125 \nz\n\" style=\"fill:#ffffff;\"/>\n   </g>\n   <g clip-path=\"url(#p8c41db00cd)\">\n    <image height=\"73\" id=\"imageb7aa3c2488\" transform=\"scale(1 -1)translate(0 -73)\" width=\"73\" x=\"114.26413\" xlink:href=\"data:image/png;base64,\niVBORw0KGgoAAAANSUhEUgAAAEkAAABJCAYAAABxcwvcAAAABHNCSVQICAgIfAhkiAAAAlZJREFUeJztms9LVGEUht9royJouhkVTLQWl7ZuW6TogLtQSslFBC5q0Y9NraSNf0GGbnKTG1HqLxhJdBFBkBZCLhSmxDbTQlqkYKMzLpIzDjrTK16/b4T3WZ17hss9PPN+l5nv3iAR3MlBlKTC9wAXAUkikCQCSSKQJAJJIpAkAkkikCSCmI+L/hy5AQD4+mjceg82uwAA6Xtx6+2vp5zOVQwliUCSCJwtt1hzk9Wd/cvHPp9sXQQA3J9KWG+ru9rq3O7u+Q33H5QkAkkiCFztJ8U/Nlj9pm2eOudWeNPq7PZ25DOxKEkEzm7cLTW/XV0qcpQkAkkicLbcPqSv5Q8al6hzcmF7/uDLt2gHOgVKEoGzJNU/OXKwyJ0Te7lldaYrymlOh5JEIEkEzpZbsLdv9VrmLwAgrKxydfkzoSQRSBKBs+W2933D6sHJZwAKt2/LGSWJQJIIJIlAkggkiUCSCCSJwMtjbpanV95bPTowDACofffJ+RxKEoGzR0oFFz38Y3t5oc5601fnSp4TJh8CAK4/XrVedmfnHKY7jpJEIEkEXm7cucP9pNRUmG+Oll5ua72vAQB9zbetl039iHy2k1CSCLz+BIjPrFg98/zfqzlDdWlf4xRFSSKQJAKvy+3o6zRjrwYAAEMvJnyNUxQliUCSCCSJQJIIJIlAkggkiUCSCCSJoGz2uOtTGQDA2z+N1hus/eVrnAKUJAJJIiib5VaV/AwAGFvvsd7djlmrLwX+vk8liUCSCLw8d7toKEkEkkQgSQSSRCBJBJJEIEkEkkQgSQQHW+BeOjsLtN8AAAAASUVORK5CYII=\" y=\"-22.100734\"/>\n   </g>\n   <g id=\"matplotlib.axis_3\">\n    <g id=\"xtick_3\">\n     <g id=\"line2d_6\">\n      <g>\n       <use style=\"stroke:#000000;stroke-width:0.8;\" x=\"115.56382\" xlink:href=\"#ma1f16854a9\" y=\"95.100734\"/>\n      </g>\n     </g>\n     <g id=\"text_7\">\n      <!-- 0 -->\n      <g transform=\"translate(112.38257 109.699171)scale(0.1 -0.1)\">\n       <use xlink:href=\"#DejaVuSans-48\"/>\n      </g>\n     </g>\n    </g>\n    <g id=\"xtick_4\">\n     <g id=\"line2d_7\">\n      <g>\n       <use style=\"stroke:#000000;stroke-width:0.8;\" x=\"167.551398\" xlink:href=\"#ma1f16854a9\" y=\"95.100734\"/>\n      </g>\n     </g>\n     <g id=\"text_8\">\n      <!-- 20 -->\n      <g transform=\"translate(161.188898 109.699171)scale(0.1 -0.1)\">\n       <use xlink:href=\"#DejaVuSans-50\"/>\n       <use x=\"63.623047\" xlink:href=\"#DejaVuSans-48\"/>\n      </g>\n     </g>\n    </g>\n   </g>\n   <g id=\"matplotlib.axis_4\">\n    <g id=\"ytick_4\">\n     <g id=\"line2d_8\">\n      <g>\n       <use style=\"stroke:#000000;stroke-width:0.8;\" x=\"114.26413\" xlink:href=\"#mbaaa5c29b1\" y=\"23.617814\"/>\n      </g>\n     </g>\n     <g id=\"text_9\">\n      <!-- 0 -->\n      <g transform=\"translate(100.90163 27.417033)scale(0.1 -0.1)\">\n       <use xlink:href=\"#DejaVuSans-48\"/>\n      </g>\n     </g>\n    </g>\n    <g id=\"ytick_5\">\n     <g id=\"line2d_9\">\n      <g>\n       <use style=\"stroke:#000000;stroke-width:0.8;\" x=\"114.26413\" xlink:href=\"#mbaaa5c29b1\" y=\"49.611603\"/>\n      </g>\n     </g>\n     <g id=\"text_10\">\n      <!-- 10 -->\n      <g transform=\"translate(94.53913 53.410822)scale(0.1 -0.1)\">\n       <use xlink:href=\"#DejaVuSans-49\"/>\n       <use x=\"63.623047\" xlink:href=\"#DejaVuSans-48\"/>\n      </g>\n     </g>\n    </g>\n    <g id=\"ytick_6\">\n     <g id=\"line2d_10\">\n      <g>\n       <use style=\"stroke:#000000;stroke-width:0.8;\" x=\"114.26413\" xlink:href=\"#mbaaa5c29b1\" y=\"75.605392\"/>\n      </g>\n     </g>\n     <g id=\"text_11\">\n      <!-- 20 -->\n      <g transform=\"translate(94.53913 79.404611)scale(0.1 -0.1)\">\n       <use xlink:href=\"#DejaVuSans-50\"/>\n       <use x=\"63.623047\" xlink:href=\"#DejaVuSans-48\"/>\n      </g>\n     </g>\n    </g>\n   </g>\n   <g id=\"patch_8\">\n    <path d=\"M 114.26413 95.100734 \nL 114.26413 22.318125 \n\" style=\"fill:none;stroke:#000000;stroke-linecap:square;stroke-linejoin:miter;stroke-width:0.8;\"/>\n   </g>\n   <g id=\"patch_9\">\n    <path d=\"M 187.046739 95.100734 \nL 187.046739 22.318125 \n\" style=\"fill:none;stroke:#000000;stroke-linecap:square;stroke-linejoin:miter;stroke-width:0.8;\"/>\n   </g>\n   <g id=\"patch_10\">\n    <path d=\"M 114.26413 95.100734 \nL 187.046739 95.100734 \n\" style=\"fill:none;stroke:#000000;stroke-linecap:square;stroke-linejoin:miter;stroke-width:0.8;\"/>\n   </g>\n   <g id=\"patch_11\">\n    <path d=\"M 114.26413 22.318125 \nL 187.046739 22.318125 \n\" style=\"fill:none;stroke:#000000;stroke-linecap:square;stroke-linejoin:miter;stroke-width:0.8;\"/>\n   </g>\n   <g id=\"text_12\">\n    <!-- 1 -->\n    <g transform=\"translate(146.837935 16.318125)scale(0.12 -0.12)\">\n     <use xlink:href=\"#DejaVuSans-49\"/>\n    </g>\n   </g>\n  </g>\n  <g id=\"axes_3\">\n   <g id=\"patch_12\">\n    <path d=\"M 201.603261 95.100734 \nL 274.38587 95.100734 \nL 274.38587 22.318125 \nL 201.603261 22.318125 \nz\n\" style=\"fill:#ffffff;\"/>\n   </g>\n   <g clip-path=\"url(#pbecc00fda3)\">\n    <image height=\"73\" id=\"image0c49a98a41\" transform=\"scale(1 -1)translate(0 -73)\" width=\"73\" x=\"201.603261\" xlink:href=\"data:image/png;base64,\niVBORw0KGgoAAAANSUhEUgAAAEkAAABJCAYAAABxcwvcAAAABHNCSVQICAgIfAhkiAAAA5xJREFUeJztm1tIFGEYhl/H9bRqWHkKlPIYGUga2AmKIkLCDpAdQKi8iE6IYAURFUbYXUQ3IUVXBVrSEbEDInSVWi5ZkJmlZYXWFlmY5WHHLsb9ZmXNPtN/doPvufp4Z+bfj3fff5z5/zVgdUD+MIRx0XzdwP+AmMRATGIgJjEQkxiISQzEJAZiEgMxiYFN5eCB0TOp7s+cQ3XHDu+H/NJFtwEAletXkOZ6+VpdcxNAksRATGKgZLq5VmYDAMJPvCPtVsr5ca/REAAASLlbRVrZ2zzzhN1hxtg+mIKSJAZiEoMAFetJmQ5j6pyKezzm8V69HwDQOhhCWqQ2AABIDwoe85r0mj0AgLn7mkkbHhyYfLMMJEkMlCSp5oMDAKDDHLq8J5nqq0dzAQD2Gw2kBcbEAADaDqSS1lhwmuoIzUhd3qZC84Pqn05h139GksRATGKg5Dkpx7ENAFCcVkfanfwcqu0tDV7XuJxOAEDyYSdp2XFFVL9ac2HK++QiSWKgJEnhF6MAAOWh+aRFttRPeBytJ4hq9x+Btr1my2kTH/KfkCQxEJMYKJluYTcbVQwLAMiY3UX1oLJPGY0kiYGYxEDp8u1k0UN0L23etG6qrXkpkSSx8Lsk2RITqK5ee9bjiLGEcu1ZFilpcFjSkySJgZjEwCfTLTDNWFt6syXe65grs5fq+cFhpj5s3MQTq6xvWZLEQExiYFl2bbPMqXWm9hIAIMkWSpp7381zybdXN188trevAwBENHWSNqSmVS8kSQwsS9JQl/mknFtdAgBo3Xhu3GuaB8ztpR/LneOcqRZJEgMxiYGSfbe/oYUaN2wtLoa0+CtfAQDliQ9I63L9pLpwZzEAwFbXZEWLo5AkMfBJksbCvYNrv262U5F8j+rGfuMRoSx3M2lW/QxHksRATGLgN+tJ7h3cjstLSNOO36d68civdLpXxZIWI9PNfxCTGPjNdHMT2/CN6s6hPqoTbMba0tb9taTVlYdb0pMkiYHfJUl/8pzqjy5zZTJhpNOSGS9Iq8NCS3qSJDEQkxj4dLq9P7KU6l/RxkK/Pek7aVkhjzzONr7Pzx4vvVYhSWLg0yTtKqihuiiqHcDoNe6xvsMNxw5RPR0PlfXmiSSJgZjEwKfrSdqCDKo/nTQ2iBqzK0n7ops36WUVBwEAqaXm/5bofeYTuUokSQzEJAZ+s3zrz0iSGIhJDMQkBmISAzGJgZjEQExiICYxEJMY/AYvL8Dj8hCqcwAAAABJRU5ErkJggg==\" y=\"-22.100734\"/>\n   </g>\n   <g id=\"matplotlib.axis_5\">\n    <g id=\"xtick_5\">\n     <g id=\"line2d_11\">\n      <g>\n       <use style=\"stroke:#000000;stroke-width:0.8;\" x=\"202.90295\" xlink:href=\"#ma1f16854a9\" y=\"95.100734\"/>\n      </g>\n     </g>\n     <g id=\"text_13\">\n      <!-- 0 -->\n      <g transform=\"translate(199.7217 109.699171)scale(0.1 -0.1)\">\n       <use xlink:href=\"#DejaVuSans-48\"/>\n      </g>\n     </g>\n    </g>\n    <g id=\"xtick_6\">\n     <g id=\"line2d_12\">\n      <g>\n       <use style=\"stroke:#000000;stroke-width:0.8;\" x=\"254.890528\" xlink:href=\"#ma1f16854a9\" y=\"95.100734\"/>\n      </g>\n     </g>\n     <g id=\"text_14\">\n      <!-- 20 -->\n      <g transform=\"translate(248.528028 109.699171)scale(0.1 -0.1)\">\n       <use xlink:href=\"#DejaVuSans-50\"/>\n       <use x=\"63.623047\" xlink:href=\"#DejaVuSans-48\"/>\n      </g>\n     </g>\n    </g>\n   </g>\n   <g id=\"matplotlib.axis_6\">\n    <g id=\"ytick_7\">\n     <g id=\"line2d_13\">\n      <g>\n       <use style=\"stroke:#000000;stroke-width:0.8;\" x=\"201.603261\" xlink:href=\"#mbaaa5c29b1\" y=\"23.617814\"/>\n      </g>\n     </g>\n     <g id=\"text_15\">\n      <!-- 0 -->\n      <g transform=\"translate(188.240761 27.417033)scale(0.1 -0.1)\">\n       <use xlink:href=\"#DejaVuSans-48\"/>\n      </g>\n     </g>\n    </g>\n    <g id=\"ytick_8\">\n     <g id=\"line2d_14\">\n      <g>\n       <use style=\"stroke:#000000;stroke-width:0.8;\" x=\"201.603261\" xlink:href=\"#mbaaa5c29b1\" y=\"49.611603\"/>\n      </g>\n     </g>\n     <g id=\"text_16\">\n      <!-- 10 -->\n      <g transform=\"translate(181.878261 53.410822)scale(0.1 -0.1)\">\n       <use xlink:href=\"#DejaVuSans-49\"/>\n       <use x=\"63.623047\" xlink:href=\"#DejaVuSans-48\"/>\n      </g>\n     </g>\n    </g>\n    <g id=\"ytick_9\">\n     <g id=\"line2d_15\">\n      <g>\n       <use style=\"stroke:#000000;stroke-width:0.8;\" x=\"201.603261\" xlink:href=\"#mbaaa5c29b1\" y=\"75.605392\"/>\n      </g>\n     </g>\n     <g id=\"text_17\">\n      <!-- 20 -->\n      <g transform=\"translate(181.878261 79.404611)scale(0.1 -0.1)\">\n       <use xlink:href=\"#DejaVuSans-50\"/>\n       <use x=\"63.623047\" xlink:href=\"#DejaVuSans-48\"/>\n      </g>\n     </g>\n    </g>\n   </g>\n   <g id=\"patch_13\">\n    <path d=\"M 201.603261 95.100734 \nL 201.603261 22.318125 \n\" style=\"fill:none;stroke:#000000;stroke-linecap:square;stroke-linejoin:miter;stroke-width:0.8;\"/>\n   </g>\n   <g id=\"patch_14\">\n    <path d=\"M 274.38587 95.100734 \nL 274.38587 22.318125 \n\" style=\"fill:none;stroke:#000000;stroke-linecap:square;stroke-linejoin:miter;stroke-width:0.8;\"/>\n   </g>\n   <g id=\"patch_15\">\n    <path d=\"M 201.603261 95.100734 \nL 274.38587 95.100734 \n\" style=\"fill:none;stroke:#000000;stroke-linecap:square;stroke-linejoin:miter;stroke-width:0.8;\"/>\n   </g>\n   <g id=\"patch_16\">\n    <path d=\"M 201.603261 22.318125 \nL 274.38587 22.318125 \n\" style=\"fill:none;stroke:#000000;stroke-linecap:square;stroke-linejoin:miter;stroke-width:0.8;\"/>\n   </g>\n   <g id=\"text_18\">\n    <!-- 3 -->\n    <defs>\n     <path d=\"M 40.578125 39.3125 \nQ 47.65625 37.796875 51.625 33 \nQ 55.609375 28.21875 55.609375 21.1875 \nQ 55.609375 10.40625 48.1875 4.484375 \nQ 40.765625 -1.421875 27.09375 -1.421875 \nQ 22.515625 -1.421875 17.65625 -0.515625 \nQ 12.796875 0.390625 7.625 2.203125 \nL 7.625 11.71875 \nQ 11.71875 9.328125 16.59375 8.109375 \nQ 21.484375 6.890625 26.8125 6.890625 \nQ 36.078125 6.890625 40.9375 10.546875 \nQ 45.796875 14.203125 45.796875 21.1875 \nQ 45.796875 27.640625 41.28125 31.265625 \nQ 36.765625 34.90625 28.71875 34.90625 \nL 20.21875 34.90625 \nL 20.21875 43.015625 \nL 29.109375 43.015625 \nQ 36.375 43.015625 40.234375 45.921875 \nQ 44.09375 48.828125 44.09375 54.296875 \nQ 44.09375 59.90625 40.109375 62.90625 \nQ 36.140625 65.921875 28.71875 65.921875 \nQ 24.65625 65.921875 20.015625 65.03125 \nQ 15.375 64.15625 9.8125 62.3125 \nL 9.8125 71.09375 \nQ 15.4375 72.65625 20.34375 73.4375 \nQ 25.25 74.21875 29.59375 74.21875 \nQ 40.828125 74.21875 47.359375 69.109375 \nQ 53.90625 64.015625 53.90625 55.328125 \nQ 53.90625 49.265625 50.4375 45.09375 \nQ 46.96875 40.921875 40.578125 39.3125 \nz\n\" id=\"DejaVuSans-51\"/>\n    </defs>\n    <g transform=\"translate(234.177065 16.318125)scale(0.12 -0.12)\">\n     <use xlink:href=\"#DejaVuSans-51\"/>\n    </g>\n   </g>\n  </g>\n  <g id=\"axes_4\">\n   <g id=\"patch_17\">\n    <path d=\"M 288.942391 95.100734 \nL 361.725 95.100734 \nL 361.725 22.318125 \nL 288.942391 22.318125 \nz\n\" style=\"fill:#ffffff;\"/>\n   </g>\n   <g clip-path=\"url(#paa1d114d87)\">\n    <image height=\"73\" id=\"image96d12d8c38\" transform=\"scale(1 -1)translate(0 -73)\" width=\"73\" x=\"288.942391\" xlink:href=\"data:image/png;base64,\niVBORw0KGgoAAAANSUhEUgAAAEkAAABJCAYAAABxcwvcAAAABHNCSVQICAgIfAhkiAAAAzxJREFUeJztmk1IVHEUxc/MmKiBpkULbVE4kRFaLrJPsiRIKJyKAQsLW5QFZikYQRDoolWElBsXIi2EwE1B1kIy+jDKwCwii7Biwoqhb0T8aMZpMcx9r8amk86bGeP+Vof7//O8nDlX3v+9Z9tqcwegRMQe7wZmA2oSgZpEoCYRqEkEahKBmkSQZOnFc7JFf2lNFV244B0AoOv2Kqnl1j+wspUZoUkisDRJIwU5ou8UtIStD7pviq67dAgAEOh7ZmVL00KTRKAmEdhidcB9dW6t6L7yJgBAmi1Zat2jaQCAC2UuqfkHXsaitb+iSSJQkwhiNm5mBtsLAQAvtrRKbRKTAIDl3YeltqxqwFgfG4tRd+FokgjikiSHcwkAYOfVXqlVpnvC9hW0HRO9+PR96xv7A5okAjWJIC7jJhTli+y8fDFs+a1vVPS2nhoAQG5Fv+Vt/Y4miSC+STIR+md+4Lpx6HXN/SR6yDcOADiyr0Zq9ruxSZUmiUBNIkiYcQsx4l4j2tVwQ3RtZvCwe/z9Bqm9rsoVHei37jmUJolATSJIuHEz42lcL/rpwWYAxkEYAIqf7BWdWe4Nrg8PR70PTRJBQifJMT9LtKcqDwDw+GjzlHvzOqoBAM666L+a0iQRqEkECT1uZkKj9/yMU2q925tEZ9iDLxWKTxrHloz26IyeJolATSKwZNwmSldH+5JTUnr2lujarOBLg4/+cantajgBAMhqm9mjX00SAZ2ksR1FoieqP4ethz6nAYDz2fcA/Hp3PBV202/E7v2Xa77xBV9DVTTWS206qdIkEahJBPS4tXh6RC9KSo2wE5hjcwAAfgT8EfcNmR70l3TVAQBaS9qktillQrQdNgDAJCK3G9pn3uv1G3/HfcoYPfY+SpNEQCfJ/OmMa/ND0dc6g/WF/T6ppV4x1qPNt/3rRH93GqlJXvkVANCU3yG1jSmRvx8oy+FuVTRJBGoSwaw54LI40tNFe/esAACk7PZK7YN3nuillY+oa2qSCNQkgv9u3KxAk0SgJhGoSQRqEoGaRKAmEahJBGoSgZpEoCYRqEkEahKBmkSgJhGoSQRqEoGaRKAmEahJBGoSgZpEoCYR/ASQGrvZ5zfYcgAAAABJRU5ErkJggg==\" y=\"-22.100734\"/>\n   </g>\n   <g id=\"matplotlib.axis_7\">\n    <g id=\"xtick_7\">\n     <g id=\"line2d_16\">\n      <g>\n       <use style=\"stroke:#000000;stroke-width:0.8;\" x=\"290.242081\" xlink:href=\"#ma1f16854a9\" y=\"95.100734\"/>\n      </g>\n     </g>\n     <g id=\"text_19\">\n      <!-- 0 -->\n      <g transform=\"translate(287.060831 109.699171)scale(0.1 -0.1)\">\n       <use xlink:href=\"#DejaVuSans-48\"/>\n      </g>\n     </g>\n    </g>\n    <g id=\"xtick_8\">\n     <g id=\"line2d_17\">\n      <g>\n       <use style=\"stroke:#000000;stroke-width:0.8;\" x=\"342.229658\" xlink:href=\"#ma1f16854a9\" y=\"95.100734\"/>\n      </g>\n     </g>\n     <g id=\"text_20\">\n      <!-- 20 -->\n      <g transform=\"translate(335.867158 109.699171)scale(0.1 -0.1)\">\n       <use xlink:href=\"#DejaVuSans-50\"/>\n       <use x=\"63.623047\" xlink:href=\"#DejaVuSans-48\"/>\n      </g>\n     </g>\n    </g>\n   </g>\n   <g id=\"matplotlib.axis_8\">\n    <g id=\"ytick_10\">\n     <g id=\"line2d_18\">\n      <g>\n       <use style=\"stroke:#000000;stroke-width:0.8;\" x=\"288.942391\" xlink:href=\"#mbaaa5c29b1\" y=\"23.617814\"/>\n      </g>\n     </g>\n     <g id=\"text_21\">\n      <!-- 0 -->\n      <g transform=\"translate(275.579891 27.417033)scale(0.1 -0.1)\">\n       <use xlink:href=\"#DejaVuSans-48\"/>\n      </g>\n     </g>\n    </g>\n    <g id=\"ytick_11\">\n     <g id=\"line2d_19\">\n      <g>\n       <use style=\"stroke:#000000;stroke-width:0.8;\" x=\"288.942391\" xlink:href=\"#mbaaa5c29b1\" y=\"49.611603\"/>\n      </g>\n     </g>\n     <g id=\"text_22\">\n      <!-- 10 -->\n      <g transform=\"translate(269.217391 53.410822)scale(0.1 -0.1)\">\n       <use xlink:href=\"#DejaVuSans-49\"/>\n       <use x=\"63.623047\" xlink:href=\"#DejaVuSans-48\"/>\n      </g>\n     </g>\n    </g>\n    <g id=\"ytick_12\">\n     <g id=\"line2d_20\">\n      <g>\n       <use style=\"stroke:#000000;stroke-width:0.8;\" x=\"288.942391\" xlink:href=\"#mbaaa5c29b1\" y=\"75.605392\"/>\n      </g>\n     </g>\n     <g id=\"text_23\">\n      <!-- 20 -->\n      <g transform=\"translate(269.217391 79.404611)scale(0.1 -0.1)\">\n       <use xlink:href=\"#DejaVuSans-50\"/>\n       <use x=\"63.623047\" xlink:href=\"#DejaVuSans-48\"/>\n      </g>\n     </g>\n    </g>\n   </g>\n   <g id=\"patch_18\">\n    <path d=\"M 288.942391 95.100734 \nL 288.942391 22.318125 \n\" style=\"fill:none;stroke:#000000;stroke-linecap:square;stroke-linejoin:miter;stroke-width:0.8;\"/>\n   </g>\n   <g id=\"patch_19\">\n    <path d=\"M 361.725 95.100734 \nL 361.725 22.318125 \n\" style=\"fill:none;stroke:#000000;stroke-linecap:square;stroke-linejoin:miter;stroke-width:0.8;\"/>\n   </g>\n   <g id=\"patch_20\">\n    <path d=\"M 288.942391 95.100734 \nL 361.725 95.100734 \n\" style=\"fill:none;stroke:#000000;stroke-linecap:square;stroke-linejoin:miter;stroke-width:0.8;\"/>\n   </g>\n   <g id=\"patch_21\">\n    <path d=\"M 288.942391 22.318125 \nL 361.725 22.318125 \n\" style=\"fill:none;stroke:#000000;stroke-linecap:square;stroke-linejoin:miter;stroke-width:0.8;\"/>\n   </g>\n   <g id=\"text_24\">\n    <!-- 7 -->\n    <defs>\n     <path d=\"M 8.203125 72.90625 \nL 55.078125 72.90625 \nL 55.078125 68.703125 \nL 28.609375 0 \nL 18.3125 0 \nL 43.21875 64.59375 \nL 8.203125 64.59375 \nz\n\" id=\"DejaVuSans-55\"/>\n    </defs>\n    <g transform=\"translate(321.516196 16.318125)scale(0.12 -0.12)\">\n     <use xlink:href=\"#DejaVuSans-55\"/>\n    </g>\n   </g>\n  </g>\n </g>\n <defs>\n  <clipPath id=\"p58f44ff6f1\">\n   <rect height=\"72.782609\" width=\"72.782609\" x=\"26.925\" y=\"22.318125\"/>\n  </clipPath>\n  <clipPath id=\"p8c41db00cd\">\n   <rect height=\"72.782609\" width=\"72.782609\" x=\"114.26413\" y=\"22.318125\"/>\n  </clipPath>\n  <clipPath id=\"pbecc00fda3\">\n   <rect height=\"72.782609\" width=\"72.782609\" x=\"201.603261\" y=\"22.318125\"/>\n  </clipPath>\n  <clipPath id=\"paa1d114d87\">\n   <rect height=\"72.782609\" width=\"72.782609\" x=\"288.942391\" y=\"22.318125\"/>\n  </clipPath>\n </defs>\n</svg>\n",
      "image/png": "[encoded data removed]"
     },
     "metadata": {
      "needs_background": "light"
     }
    },
    {
     "output_type": "display_data",
     "data": {
      "text/plain": "<Figure size 432x288 with 4 Axes>",
      "image/svg+xml": "<?xml version=\"1.0\" encoding=\"utf-8\" standalone=\"no\"?>\n<!DOCTYPE svg PUBLIC \"-//W3C//DTD SVG 1.1//EN\"\n  \"http://www.w3.org/Graphics/SVG/1.1/DTD/svg11.dtd\">\n<!-- Created with matplotlib (https://matplotlib.org/) -->\n<svg height=\"118.978859pt\" version=\"1.1\" viewBox=\"0 0 368.925 118.978859\" width=\"368.925pt\" xmlns=\"http://www.w3.org/2000/svg\" xmlns:xlink=\"http://www.w3.org/1999/xlink\">\n <defs>\n  <style type=\"text/css\">\n*{stroke-linecap:butt;stroke-linejoin:round;white-space:pre;}\n  </style>\n </defs>\n <g id=\"figure_1\">\n  <g id=\"patch_1\">\n   <path d=\"M -0 118.978859 \nL 368.925 118.978859 \nL 368.925 0 \nL -0 0 \nz\n\" style=\"fill:none;\"/>\n  </g>\n  <g id=\"axes_1\">\n   <g id=\"patch_2\">\n    <path d=\"M 26.925 95.100734 \nL 99.707609 95.100734 \nL 99.707609 22.318125 \nL 26.925 22.318125 \nz\n\" style=\"fill:#ffffff;\"/>\n   </g>\n   <g clip-path=\"url(#pfa9127f9a0)\">\n    <image height=\"73\" id=\"image68f9ea6baa\" transform=\"scale(1 -1)translate(0 -73)\" width=\"73\" x=\"26.925\" xlink:href=\"data:image/png;base64,\niVBORw0KGgoAAAANSUhEUgAAAEkAAABJCAYAAABxcwvcAAAABHNCSVQICAgIfAhkiAAAA59JREFUeJztm0tMlFcYhp8BZKbBUglVBJoWVLxgQpNaDUaDJhAtaWM3uDKNMd5iLJK4YNXUpMsuWNmWEBMWXuIFicTamrgwaUtoIVLjvYpBjUYI3sCAjDIzLv72OzYM8IEzTCb5ng0fb2bOOfP+73fm/PnBV+GrimCMS0qiF5AMmEkK0hK9gMnSt2ul1B3f/CD16ksbAcisvB3zOS1JCpIuSUO50fWeu9kAZGJJSghmkoKka7exSH+cGrexLUkKzCQFZpICM0mBmaTATFJgJikwkxSYSQqS7sQdzBmZ9jktSQrMJAVJ127+3ulfsiVJgZmkwExSYCYpSLqNeyRj+h84W5IUmEkK4tJuI+XLAOirHhItEvFJvWNhKwB17RWi+e/5Acj/LSha4NoDN+bDHm8cN8y0YUlSELMkPdrpntH/+e1+AFJwl/1p+IXUjf0l3s+yRtEGI+kAzNgUEq1tsEjqlvo1APg/fB51/uzL8dvQLUkKzCQFMWu372sbpA4TBqD40B7RFhx55l78TzcA5wMfOC3stcvAuiUi9X7qrmH6LK9120sPvDFrulTv3Rj4d+7YY0lSYCYpmLDd0go/AmBwyRzR/L90SD38xQoAygIXRCvfvRuAeafaRIvaBsPDo6SMpr+kntfk9JSSxQA0bCoWrSarS+qeVbMAmHNxzI8yZSxJCibeuH3ehhmsfiJS4JzbMH0hb8MNv5GVB2s97xeeDYgWjpKayRC+dAOAhub1otVsdUkafv+thh8XS5ICM0mB+pz0R8kJqSuXb5Ha/6u3iW++49rg5sYfASjK2iZa0ebOqa9SQUGLdw6zc1KCiNmJe+BLdzN7tHU2AFfK60Vb+tPXUi+uvQ5A+Hn0m1Ut+/o+dr/cvPNWY42HJUmBmaRA3W4nB7OkTr14S+r/NsrQo8eiHV79iaf9/rdoXRtc652pmAlAXfc60UL1OQBknHbvibx66eZctACA6qqfRTteWyl1YKhd+1EmjSVJgZmkwDfRf06m5c4FoPfzQtGyD7SN9fL/kZqZKXX/Z+7GdPt3zQB89W7PqPe0Bt11exVxf+Wfl+p9Ex58WipaZ+k7UkeC7gFCrLEkKZgwSfEgLT8PgPtVBaKNlPUDcHXlYdHODLkb5L3HvFP+/EaXvlBXdzyXKViSFJhJChLSbsmGJUmBmaTATFJgJikwkxSYSQrMJAVmkgIzSYGZpMBMUmAmKTCTFJhJCswkBWaSAjNJwWve+sV8Ud8B/AAAAABJRU5ErkJggg==\" y=\"-22.100734\"/>\n   </g>\n   <g id=\"matplotlib.axis_1\">\n    <g id=\"xtick_1\">\n     <g id=\"line2d_1\">\n      <defs>\n       <path d=\"M 0 0 \nL 0 3.5 \n\" id=\"mdf9547777f\" style=\"stroke:#000000;stroke-width:0.8;\"/>\n      </defs>\n      <g>\n       <use style=\"stroke:#000000;stroke-width:0.8;\" x=\"28.224689\" xlink:href=\"#mdf9547777f\" y=\"95.100734\"/>\n      </g>\n     </g>\n     <g id=\"text_1\">\n      <!-- 0 -->\n      <defs>\n       <path d=\"M 31.78125 66.40625 \nQ 24.171875 66.40625 20.328125 58.90625 \nQ 16.5 51.421875 16.5 36.375 \nQ 16.5 21.390625 20.328125 13.890625 \nQ 24.171875 6.390625 31.78125 6.390625 \nQ 39.453125 6.390625 43.28125 13.890625 \nQ 47.125 21.390625 47.125 36.375 \nQ 47.125 51.421875 43.28125 58.90625 \nQ 39.453125 66.40625 31.78125 66.40625 \nz\nM 31.78125 74.21875 \nQ 44.046875 74.21875 50.515625 64.515625 \nQ 56.984375 54.828125 56.984375 36.375 \nQ 56.984375 17.96875 50.515625 8.265625 \nQ 44.046875 -1.421875 31.78125 -1.421875 \nQ 19.53125 -1.421875 13.0625 8.265625 \nQ 6.59375 17.96875 6.59375 36.375 \nQ 6.59375 54.828125 13.0625 64.515625 \nQ 19.53125 74.21875 31.78125 74.21875 \nz\n\" id=\"DejaVuSans-48\"/>\n      </defs>\n      <g transform=\"translate(25.043439 109.699171)scale(0.1 -0.1)\">\n       <use xlink:href=\"#DejaVuSans-48\"/>\n      </g>\n     </g>\n    </g>\n    <g id=\"xtick_2\">\n     <g id=\"line2d_2\">\n      <g>\n       <use style=\"stroke:#000000;stroke-width:0.8;\" x=\"80.212267\" xlink:href=\"#mdf9547777f\" y=\"95.100734\"/>\n      </g>\n     </g>\n     <g id=\"text_2\">\n      <!-- 20 -->\n      <defs>\n       <path d=\"M 19.1875 8.296875 \nL 53.609375 8.296875 \nL 53.609375 0 \nL 7.328125 0 \nL 7.328125 8.296875 \nQ 12.9375 14.109375 22.625 23.890625 \nQ 32.328125 33.6875 34.8125 36.53125 \nQ 39.546875 41.84375 41.421875 45.53125 \nQ 43.3125 49.21875 43.3125 52.78125 \nQ 43.3125 58.59375 39.234375 62.25 \nQ 35.15625 65.921875 28.609375 65.921875 \nQ 23.96875 65.921875 18.8125 64.3125 \nQ 13.671875 62.703125 7.8125 59.421875 \nL 7.8125 69.390625 \nQ 13.765625 71.78125 18.9375 73 \nQ 24.125 74.21875 28.421875 74.21875 \nQ 39.75 74.21875 46.484375 68.546875 \nQ 53.21875 62.890625 53.21875 53.421875 \nQ 53.21875 48.921875 51.53125 44.890625 \nQ 49.859375 40.875 45.40625 35.40625 \nQ 44.1875 33.984375 37.640625 27.21875 \nQ 31.109375 20.453125 19.1875 8.296875 \nz\n\" id=\"DejaVuSans-50\"/>\n      </defs>\n      <g transform=\"translate(73.849767 109.699171)scale(0.1 -0.1)\">\n       <use xlink:href=\"#DejaVuSans-50\"/>\n       <use x=\"63.623047\" xlink:href=\"#DejaVuSans-48\"/>\n      </g>\n     </g>\n    </g>\n   </g>\n   <g id=\"matplotlib.axis_2\">\n    <g id=\"ytick_1\">\n     <g id=\"line2d_3\">\n      <defs>\n       <path d=\"M 0 0 \nL -3.5 0 \n\" id=\"md981cc3382\" style=\"stroke:#000000;stroke-width:0.8;\"/>\n      </defs>\n      <g>\n       <use style=\"stroke:#000000;stroke-width:0.8;\" x=\"26.925\" xlink:href=\"#md981cc3382\" y=\"23.617814\"/>\n      </g>\n     </g>\n     <g id=\"text_3\">\n      <!-- 0 -->\n      <g transform=\"translate(13.5625 27.417033)scale(0.1 -0.1)\">\n       <use xlink:href=\"#DejaVuSans-48\"/>\n      </g>\n     </g>\n    </g>\n    <g id=\"ytick_2\">\n     <g id=\"line2d_4\">\n      <g>\n       <use style=\"stroke:#000000;stroke-width:0.8;\" x=\"26.925\" xlink:href=\"#md981cc3382\" y=\"49.611603\"/>\n      </g>\n     </g>\n     <g id=\"text_4\">\n      <!-- 10 -->\n      <defs>\n       <path d=\"M 12.40625 8.296875 \nL 28.515625 8.296875 \nL 28.515625 63.921875 \nL 10.984375 60.40625 \nL 10.984375 69.390625 \nL 28.421875 72.90625 \nL 38.28125 72.90625 \nL 38.28125 8.296875 \nL 54.390625 8.296875 \nL 54.390625 0 \nL 12.40625 0 \nz\n\" id=\"DejaVuSans-49\"/>\n      </defs>\n      <g transform=\"translate(7.2 53.410822)scale(0.1 -0.1)\">\n       <use xlink:href=\"#DejaVuSans-49\"/>\n       <use x=\"63.623047\" xlink:href=\"#DejaVuSans-48\"/>\n      </g>\n     </g>\n    </g>\n    <g id=\"ytick_3\">\n     <g id=\"line2d_5\">\n      <g>\n       <use style=\"stroke:#000000;stroke-width:0.8;\" x=\"26.925\" xlink:href=\"#md981cc3382\" y=\"75.605392\"/>\n      </g>\n     </g>\n     <g id=\"text_5\">\n      <!-- 20 -->\n      <g transform=\"translate(7.2 79.404611)scale(0.1 -0.1)\">\n       <use xlink:href=\"#DejaVuSans-50\"/>\n       <use x=\"63.623047\" xlink:href=\"#DejaVuSans-48\"/>\n      </g>\n     </g>\n    </g>\n   </g>\n   <g id=\"patch_3\">\n    <path d=\"M 26.925 95.100734 \nL 26.925 22.318125 \n\" style=\"fill:none;stroke:#000000;stroke-linecap:square;stroke-linejoin:miter;stroke-width:0.8;\"/>\n   </g>\n   <g id=\"patch_4\">\n    <path d=\"M 99.707609 95.100734 \nL 99.707609 22.318125 \n\" style=\"fill:none;stroke:#000000;stroke-linecap:square;stroke-linejoin:miter;stroke-width:0.8;\"/>\n   </g>\n   <g id=\"patch_5\">\n    <path d=\"M 26.925 95.100734 \nL 99.707609 95.100734 \n\" style=\"fill:none;stroke:#000000;stroke-linecap:square;stroke-linejoin:miter;stroke-width:0.8;\"/>\n   </g>\n   <g id=\"patch_6\">\n    <path d=\"M 26.925 22.318125 \nL 99.707609 22.318125 \n\" style=\"fill:none;stroke:#000000;stroke-linecap:square;stroke-linejoin:miter;stroke-width:0.8;\"/>\n   </g>\n   <g id=\"text_6\">\n    <!-- 9 -->\n    <defs>\n     <path d=\"M 10.984375 1.515625 \nL 10.984375 10.5 \nQ 14.703125 8.734375 18.5 7.8125 \nQ 22.3125 6.890625 25.984375 6.890625 \nQ 35.75 6.890625 40.890625 13.453125 \nQ 46.046875 20.015625 46.78125 33.40625 \nQ 43.953125 29.203125 39.59375 26.953125 \nQ 35.25 24.703125 29.984375 24.703125 \nQ 19.046875 24.703125 12.671875 31.3125 \nQ 6.296875 37.9375 6.296875 49.421875 \nQ 6.296875 60.640625 12.9375 67.421875 \nQ 19.578125 74.21875 30.609375 74.21875 \nQ 43.265625 74.21875 49.921875 64.515625 \nQ 56.59375 54.828125 56.59375 36.375 \nQ 56.59375 19.140625 48.40625 8.859375 \nQ 40.234375 -1.421875 26.421875 -1.421875 \nQ 22.703125 -1.421875 18.890625 -0.6875 \nQ 15.09375 0.046875 10.984375 1.515625 \nz\nM 30.609375 32.421875 \nQ 37.25 32.421875 41.125 36.953125 \nQ 45.015625 41.5 45.015625 49.421875 \nQ 45.015625 57.28125 41.125 61.84375 \nQ 37.25 66.40625 30.609375 66.40625 \nQ 23.96875 66.40625 20.09375 61.84375 \nQ 16.21875 57.28125 16.21875 49.421875 \nQ 16.21875 41.5 20.09375 36.953125 \nQ 23.96875 32.421875 30.609375 32.421875 \nz\n\" id=\"DejaVuSans-57\"/>\n    </defs>\n    <g transform=\"translate(59.498804 16.318125)scale(0.12 -0.12)\">\n     <use xlink:href=\"#DejaVuSans-57\"/>\n    </g>\n   </g>\n  </g>\n  <g id=\"axes_2\">\n   <g id=\"patch_7\">\n    <path d=\"M 114.26413 95.100734 \nL 187.046739 95.100734 \nL 187.046739 22.318125 \nL 114.26413 22.318125 \nz\n\" style=\"fill:#ffffff;\"/>\n   </g>\n   <g clip-path=\"url(#p22a336f0c9)\">\n    <image height=\"73\" id=\"image4125a3e688\" transform=\"scale(1 -1)translate(0 -73)\" width=\"73\" x=\"114.26413\" xlink:href=\"data:image/png;base64,\niVBORw0KGgoAAAANSUhEUgAAAEkAAABJCAYAAABxcwvcAAAABHNCSVQICAgIfAhkiAAAAkdJREFUeJztmzFLA0EQhd+JlYWtYGORNPoHjIip/AOCkC6tASv/hk0qQVs7q9S2EUnsrKwUsQnYWthqEfYyIUvu5W737gLvaxIu3F54vNmdmdtNTpPzP4ilbFT9B9YBiUQgkQgkEoFEIpBIBBKJQCIRSCSCzVAD/Z4dpt+fbu5CDZvSeOgBAJpX4+BjZyEnEUgkgmDhNmknoYby8tG5BQB0W+302vfRT9RnOuQkAolEkMToJ733WwBmIQIA3a9ZmDyPDxbuOW69AQDu94a5nunGjxGCchJBFCc5bO60NXgpdL9bGKw7szi5vMj9bIucRCCRCKKGW2x2Rtvpd9+EH6qUkZMIgmXcVWCX++5omgLkTSGWIScRSCSCtQ43S5rFK9yqQSIRRAk3V+C6ohWYX3VcMfp5vZ9eK1q2rFKurIqcRBAl436cvK58D+su51LA71TbkgnVNpGTCCQSQW3CzYcNnaxyQ53JipFIBFH7SVn9njzYECyaZ7HISQRRC1w7iTb6vYXf82TJ9nVUc1DO5gk5iUAiEdTuRUDWPqcYZUcWchJB7ZxkscWsb5J3r4yAuDvg5CQCiUQgkQgkEoFEIghWltiVqKy91rvDchZmOYmgsJN8+yPRmX7kyWOyciObccdsj1jkJAKJRFA43NLJs7P4my8EgfkwXHqPh7KKWoucRBCswI1xlMvXzy5rsrbISQQSiaC0EwH2qFd6LCvjvEkVpyR9yEkEEomg1u3buiAnEUgkAolEIJEIJBKBRCKQSAQSiUAiEfwDxPCvwwMs5LAAAAAASUVORK5CYII=\" y=\"-22.100734\"/>\n   </g>\n   <g id=\"matplotlib.axis_3\">\n    <g id=\"xtick_3\">\n     <g id=\"line2d_6\">\n      <g>\n       <use style=\"stroke:#000000;stroke-width:0.8;\" x=\"115.56382\" xlink:href=\"#mdf9547777f\" y=\"95.100734\"/>\n      </g>\n     </g>\n     <g id=\"text_7\">\n      <!-- 0 -->\n      <g transform=\"translate(112.38257 109.699171)scale(0.1 -0.1)\">\n       <use xlink:href=\"#DejaVuSans-48\"/>\n      </g>\n     </g>\n    </g>\n    <g id=\"xtick_4\">\n     <g id=\"line2d_7\">\n      <g>\n       <use style=\"stroke:#000000;stroke-width:0.8;\" x=\"167.551398\" xlink:href=\"#mdf9547777f\" y=\"95.100734\"/>\n      </g>\n     </g>\n     <g id=\"text_8\">\n      <!-- 20 -->\n      <g transform=\"translate(161.188898 109.699171)scale(0.1 -0.1)\">\n       <use xlink:href=\"#DejaVuSans-50\"/>\n       <use x=\"63.623047\" xlink:href=\"#DejaVuSans-48\"/>\n      </g>\n     </g>\n    </g>\n   </g>\n   <g id=\"matplotlib.axis_4\">\n    <g id=\"ytick_4\">\n     <g id=\"line2d_8\">\n      <g>\n       <use style=\"stroke:#000000;stroke-width:0.8;\" x=\"114.26413\" xlink:href=\"#md981cc3382\" y=\"23.617814\"/>\n      </g>\n     </g>\n     <g id=\"text_9\">\n      <!-- 0 -->\n      <g transform=\"translate(100.90163 27.417033)scale(0.1 -0.1)\">\n       <use xlink:href=\"#DejaVuSans-48\"/>\n      </g>\n     </g>\n    </g>\n    <g id=\"ytick_5\">\n     <g id=\"line2d_9\">\n      <g>\n       <use style=\"stroke:#000000;stroke-width:0.8;\" x=\"114.26413\" xlink:href=\"#md981cc3382\" y=\"49.611603\"/>\n      </g>\n     </g>\n     <g id=\"text_10\">\n      <!-- 10 -->\n      <g transform=\"translate(94.53913 53.410822)scale(0.1 -0.1)\">\n       <use xlink:href=\"#DejaVuSans-49\"/>\n       <use x=\"63.623047\" xlink:href=\"#DejaVuSans-48\"/>\n      </g>\n     </g>\n    </g>\n    <g id=\"ytick_6\">\n     <g id=\"line2d_10\">\n      <g>\n       <use style=\"stroke:#000000;stroke-width:0.8;\" x=\"114.26413\" xlink:href=\"#md981cc3382\" y=\"75.605392\"/>\n      </g>\n     </g>\n     <g id=\"text_11\">\n      <!-- 20 -->\n      <g transform=\"translate(94.53913 79.404611)scale(0.1 -0.1)\">\n       <use xlink:href=\"#DejaVuSans-50\"/>\n       <use x=\"63.623047\" xlink:href=\"#DejaVuSans-48\"/>\n      </g>\n     </g>\n    </g>\n   </g>\n   <g id=\"patch_8\">\n    <path d=\"M 114.26413 95.100734 \nL 114.26413 22.318125 \n\" style=\"fill:none;stroke:#000000;stroke-linecap:square;stroke-linejoin:miter;stroke-width:0.8;\"/>\n   </g>\n   <g id=\"patch_9\">\n    <path d=\"M 187.046739 95.100734 \nL 187.046739 22.318125 \n\" style=\"fill:none;stroke:#000000;stroke-linecap:square;stroke-linejoin:miter;stroke-width:0.8;\"/>\n   </g>\n   <g id=\"patch_10\">\n    <path d=\"M 114.26413 95.100734 \nL 187.046739 95.100734 \n\" style=\"fill:none;stroke:#000000;stroke-linecap:square;stroke-linejoin:miter;stroke-width:0.8;\"/>\n   </g>\n   <g id=\"patch_11\">\n    <path d=\"M 114.26413 22.318125 \nL 187.046739 22.318125 \n\" style=\"fill:none;stroke:#000000;stroke-linecap:square;stroke-linejoin:miter;stroke-width:0.8;\"/>\n   </g>\n   <g id=\"text_12\">\n    <!-- 3 -->\n    <defs>\n     <path d=\"M 40.578125 39.3125 \nQ 47.65625 37.796875 51.625 33 \nQ 55.609375 28.21875 55.609375 21.1875 \nQ 55.609375 10.40625 48.1875 4.484375 \nQ 40.765625 -1.421875 27.09375 -1.421875 \nQ 22.515625 -1.421875 17.65625 -0.515625 \nQ 12.796875 0.390625 7.625 2.203125 \nL 7.625 11.71875 \nQ 11.71875 9.328125 16.59375 8.109375 \nQ 21.484375 6.890625 26.8125 6.890625 \nQ 36.078125 6.890625 40.9375 10.546875 \nQ 45.796875 14.203125 45.796875 21.1875 \nQ 45.796875 27.640625 41.28125 31.265625 \nQ 36.765625 34.90625 28.71875 34.90625 \nL 20.21875 34.90625 \nL 20.21875 43.015625 \nL 29.109375 43.015625 \nQ 36.375 43.015625 40.234375 45.921875 \nQ 44.09375 48.828125 44.09375 54.296875 \nQ 44.09375 59.90625 40.109375 62.90625 \nQ 36.140625 65.921875 28.71875 65.921875 \nQ 24.65625 65.921875 20.015625 65.03125 \nQ 15.375 64.15625 9.8125 62.3125 \nL 9.8125 71.09375 \nQ 15.4375 72.65625 20.34375 73.4375 \nQ 25.25 74.21875 29.59375 74.21875 \nQ 40.828125 74.21875 47.359375 69.109375 \nQ 53.90625 64.015625 53.90625 55.328125 \nQ 53.90625 49.265625 50.4375 45.09375 \nQ 46.96875 40.921875 40.578125 39.3125 \nz\n\" id=\"DejaVuSans-51\"/>\n    </defs>\n    <g transform=\"translate(146.837935 16.318125)scale(0.12 -0.12)\">\n     <use xlink:href=\"#DejaVuSans-51\"/>\n    </g>\n   </g>\n  </g>\n  <g id=\"axes_3\">\n   <g id=\"patch_12\">\n    <path d=\"M 201.603261 95.100734 \nL 274.38587 95.100734 \nL 274.38587 22.318125 \nL 201.603261 22.318125 \nz\n\" style=\"fill:#ffffff;\"/>\n   </g>\n   <g clip-path=\"url(#pce7467d24a)\">\n    <image height=\"73\" id=\"image8032552850\" transform=\"scale(1 -1)translate(0 -73)\" width=\"73\" x=\"201.603261\" xlink:href=\"data:image/png;base64,\niVBORw0KGgoAAAANSUhEUgAAAEkAAABJCAYAAABxcwvcAAAABHNCSVQICAgIfAhkiAAAAzNJREFUeJztmk1IVFEYht/5c5zQ0MkIRhdSFFSS0h9BWBFZwSwqFIIWsynCIKIkaJEQbi0iqIwiUFoUQdAi3FUSISGB1EL8pSKSMn+GkDTSO9PijudM3Mv02ly9XPiezfnmu+fO+Xx9D3POPdd3wNeQhpATv9sFeAERiSDodgEsxr6tAIBr7XdUbnOBtfwj1Qf1PROTjowtTiLwjJM+Hw4DsHfPUiNOIhCRCDwz3dxczImTCDzjJJ+LY4uTCEQkAs9Mt+KPZjthzKpcWSBi6ff92AYVr3n2AQAw/20sr7HFSQQiEoHPa8+TzgyPqDi+4kfOvnWnGwEA4c63eY0pTiIQkQhEJAIRicAz6yTs2gIAaOreplLxunuWbk9/RlVcOGauqfL9ZRInEXjGSYHkDACgY8+TnP3Kg0kVp8Lmn5fv5licRCAiEXhmuhmD5kp7OlWocn7MWPrtLtT/998lIQBAOM+xxUkEIhKBZ6bbAnNpXXLKZgWUShuOjylOIvCck5rvJ1QcP3dzWcYUJxGISAT0dBtq26ni4ti0iv0vSwEAsYeDurORMpuk3iI4RdFoyvHv/BfiJAIRiYCebo21XSpuig7oCzsy7SWd6p+bAwA0PLqgcqX9+nrJgzeLq9JlxEkES7JO2hgyN5Z9iVsq92Ven7z2Nscs91xtOWHJRXv0yasxYh7hRnunVO5GUp/Wni8dstxfcXkYADDeSZduiziJQEQiWLZtSUUwkhVb109HW9sA/L1pbRmvUXHPZCUAoKpEn+DaTbFsNhV9BQC8gvXFisUgTiKgnXS3a7+Km+oHcvR0jiur3+kP2fEyI04iEJEI6OnmM/TpVe374yp+Xf3Y2YrypKrjrIrXXV/YdE/ZdyYRJxGISAT/9aabL1Sg4tlDNZbrs6sCAID6i89t7y8Lms+jEitHVc6fOYy2e7jP0P3L3Aq1bt+rck49zxInEbjyzmSw3NzgfkpUZlWSabOqMSL6Q9/J25bvWf/ilIrXtpttoKvXqTIV4iQCEYnAc68ou4E4iUBEIhCRCEQkAhGJQEQiEJEIRCQCEYlARCIQkQhEJAIRiUBEIhCRCEQkAhGJ4A+B8ZswYWMnXwAAAABJRU5ErkJggg==\" y=\"-22.100734\"/>\n   </g>\n   <g id=\"matplotlib.axis_5\">\n    <g id=\"xtick_5\">\n     <g id=\"line2d_11\">\n      <g>\n       <use style=\"stroke:#000000;stroke-width:0.8;\" x=\"202.90295\" xlink:href=\"#mdf9547777f\" y=\"95.100734\"/>\n      </g>\n     </g>\n     <g id=\"text_13\">\n      <!-- 0 -->\n      <g transform=\"translate(199.7217 109.699171)scale(0.1 -0.1)\">\n       <use xlink:href=\"#DejaVuSans-48\"/>\n      </g>\n     </g>\n    </g>\n    <g id=\"xtick_6\">\n     <g id=\"line2d_12\">\n      <g>\n       <use style=\"stroke:#000000;stroke-width:0.8;\" x=\"254.890528\" xlink:href=\"#mdf9547777f\" y=\"95.100734\"/>\n      </g>\n     </g>\n     <g id=\"text_14\">\n      <!-- 20 -->\n      <g transform=\"translate(248.528028 109.699171)scale(0.1 -0.1)\">\n       <use xlink:href=\"#DejaVuSans-50\"/>\n       <use x=\"63.623047\" xlink:href=\"#DejaVuSans-48\"/>\n      </g>\n     </g>\n    </g>\n   </g>\n   <g id=\"matplotlib.axis_6\">\n    <g id=\"ytick_7\">\n     <g id=\"line2d_13\">\n      <g>\n       <use style=\"stroke:#000000;stroke-width:0.8;\" x=\"201.603261\" xlink:href=\"#md981cc3382\" y=\"23.617814\"/>\n      </g>\n     </g>\n     <g id=\"text_15\">\n      <!-- 0 -->\n      <g transform=\"translate(188.240761 27.417033)scale(0.1 -0.1)\">\n       <use xlink:href=\"#DejaVuSans-48\"/>\n      </g>\n     </g>\n    </g>\n    <g id=\"ytick_8\">\n     <g id=\"line2d_14\">\n      <g>\n       <use style=\"stroke:#000000;stroke-width:0.8;\" x=\"201.603261\" xlink:href=\"#md981cc3382\" y=\"49.611603\"/>\n      </g>\n     </g>\n     <g id=\"text_16\">\n      <!-- 10 -->\n      <g transform=\"translate(181.878261 53.410822)scale(0.1 -0.1)\">\n       <use xlink:href=\"#DejaVuSans-49\"/>\n       <use x=\"63.623047\" xlink:href=\"#DejaVuSans-48\"/>\n      </g>\n     </g>\n    </g>\n    <g id=\"ytick_9\">\n     <g id=\"line2d_15\">\n      <g>\n       <use style=\"stroke:#000000;stroke-width:0.8;\" x=\"201.603261\" xlink:href=\"#md981cc3382\" y=\"75.605392\"/>\n      </g>\n     </g>\n     <g id=\"text_17\">\n      <!-- 20 -->\n      <g transform=\"translate(181.878261 79.404611)scale(0.1 -0.1)\">\n       <use xlink:href=\"#DejaVuSans-50\"/>\n       <use x=\"63.623047\" xlink:href=\"#DejaVuSans-48\"/>\n      </g>\n     </g>\n    </g>\n   </g>\n   <g id=\"patch_13\">\n    <path d=\"M 201.603261 95.100734 \nL 201.603261 22.318125 \n\" style=\"fill:none;stroke:#000000;stroke-linecap:square;stroke-linejoin:miter;stroke-width:0.8;\"/>\n   </g>\n   <g id=\"patch_14\">\n    <path d=\"M 274.38587 95.100734 \nL 274.38587 22.318125 \n\" style=\"fill:none;stroke:#000000;stroke-linecap:square;stroke-linejoin:miter;stroke-width:0.8;\"/>\n   </g>\n   <g id=\"patch_15\">\n    <path d=\"M 201.603261 95.100734 \nL 274.38587 95.100734 \n\" style=\"fill:none;stroke:#000000;stroke-linecap:square;stroke-linejoin:miter;stroke-width:0.8;\"/>\n   </g>\n   <g id=\"patch_16\">\n    <path d=\"M 201.603261 22.318125 \nL 274.38587 22.318125 \n\" style=\"fill:none;stroke:#000000;stroke-linecap:square;stroke-linejoin:miter;stroke-width:0.8;\"/>\n   </g>\n   <g id=\"text_18\">\n    <!-- 7 -->\n    <defs>\n     <path d=\"M 8.203125 72.90625 \nL 55.078125 72.90625 \nL 55.078125 68.703125 \nL 28.609375 0 \nL 18.3125 0 \nL 43.21875 64.59375 \nL 8.203125 64.59375 \nz\n\" id=\"DejaVuSans-55\"/>\n    </defs>\n    <g transform=\"translate(234.177065 16.318125)scale(0.12 -0.12)\">\n     <use xlink:href=\"#DejaVuSans-55\"/>\n    </g>\n   </g>\n  </g>\n  <g id=\"axes_4\">\n   <g id=\"patch_17\">\n    <path d=\"M 288.942391 95.100734 \nL 361.725 95.100734 \nL 361.725 22.318125 \nL 288.942391 22.318125 \nz\n\" style=\"fill:#ffffff;\"/>\n   </g>\n   <g clip-path=\"url(#p34f129cbbe)\">\n    <image height=\"73\" id=\"image13c685c30c\" transform=\"scale(1 -1)translate(0 -73)\" width=\"73\" x=\"288.942391\" xlink:href=\"data:image/png;base64,\niVBORw0KGgoAAAANSUhEUgAAAEkAAABJCAYAAABxcwvcAAAABHNCSVQICAgIfAhkiAAAA5xJREFUeJztm11IU2EYx/+by4/BDENnH6JgElERpmFJdFEt0gsRSkhYUSQFpRERUXmRF0EXRURQCZqBVJBQRDC9MokUNCOzFJEoMNBCE6X5NXEfXRz2nNGGPnOe7QTP7+rv8+o5D3//79l73nNmsBnKfBAWxRjrBv4HxCQGplg34KdlpAcAUNh7lGpJtSmkEx3dUe/JjySJgW6S5Kczt4n0pvIK0jmOWHSjIEliICYxiOl0+2PfHfBTT9D4rYKXpOuQHYWOQiNJYhDTJM2lqf+jOIOiPT4v1XYl/iQtSdI5YhKDmE639fWfSXsue4PG0+OSSE+eKAQApDR2at/YP0iSGIhJDGI63bwzM4uOG2Eg7UnQupvF+hCWRDcm2YdssA/ZYt1GSHRjkp4RkxjoZj+pz7FZEVWtIccn8t0AgNRoNRSAJImBbpKU9mUBADDvc1MtwaC211Z0FwBQmX6Yap7Rsaj0JkliICYx0M10S2j+AAB457JQ7WDSHOlMkxkA8OtIDtWsD2W66QYxiYFuppsfT8BNbSjm0qPUSACSJAYRJ2nBlg8AOHn/NdVejO4EAEzf2EC1Va0fWcerenuM9LfiuqBxS/44aaPZTNo7O8vsOHwkSQzEJAYRT7fpi04AgN2irlnslhYAQG+9eotR3nSB9MYa5Wmtb34+6HhZrwIu3MXB5+va8Zx0Ub76QoWx/VOYnfORJDEQkxhEPN0m+5QdHud2F9WSjYkAgNx49fCDxx+Qrj6UBwDoL1E//dzDIwAAc9d3qjU4M0hXJA8HnXt4n/pcLrN9ef1zkCQxiDhJ2VeVJ6oHflyiWvO12wAAa5w55N/ctCoX7hqHh2rvzytrK0P3ANX6Z9SkIUSSXBkLy+w6PCRJDMQkBgYtvhHw+6zycsOb6jtU81/Ml2JrQyXp0hL15Qj/FA3kydRa0k25yvtLXpcr6PciRZLEQJMk+Rk/U0i6/fo90oEb/CvFnivnAACrn3at+LElSQzEJAaa7kym1qkX3rIOdZ9ozSPlZrgxq03L068YkiQGYhKDqD0I8Ax8JT1RmgYAKHhcTrXabc8AAFNedT2VFz9FOtQ6yw31tsbk0u4LoJIkBpquk8LBtE5ZPXudanpce7eQHjutbPR3FNRTbX/PKdLW0kHNepMkMRCTGOhmuukZSRIDMYmBmMRATGIgJjEQkxiISQzEJAZiEgMxiYGYxEBMYiAmMRCTGIhJDMQkBmISg7+OS7jKFXWENQAAAABJRU5ErkJggg==\" y=\"-22.100734\"/>\n   </g>\n   <g id=\"matplotlib.axis_7\">\n    <g id=\"xtick_7\">\n     <g id=\"line2d_16\">\n      <g>\n       <use style=\"stroke:#000000;stroke-width:0.8;\" x=\"290.242081\" xlink:href=\"#mdf9547777f\" y=\"95.100734\"/>\n      </g>\n     </g>\n     <g id=\"text_19\">\n      <!-- 0 -->\n      <g transform=\"translate(287.060831 109.699171)scale(0.1 -0.1)\">\n       <use xlink:href=\"#DejaVuSans-48\"/>\n      </g>\n     </g>\n    </g>\n    <g id=\"xtick_8\">\n     <g id=\"line2d_17\">\n      <g>\n       <use style=\"stroke:#000000;stroke-width:0.8;\" x=\"342.229658\" xlink:href=\"#mdf9547777f\" y=\"95.100734\"/>\n      </g>\n     </g>\n     <g id=\"text_20\">\n      <!-- 20 -->\n      <g transform=\"translate(335.867158 109.699171)scale(0.1 -0.1)\">\n       <use xlink:href=\"#DejaVuSans-50\"/>\n       <use x=\"63.623047\" xlink:href=\"#DejaVuSans-48\"/>\n      </g>\n     </g>\n    </g>\n   </g>\n   <g id=\"matplotlib.axis_8\">\n    <g id=\"ytick_10\">\n     <g id=\"line2d_18\">\n      <g>\n       <use style=\"stroke:#000000;stroke-width:0.8;\" x=\"288.942391\" xlink:href=\"#md981cc3382\" y=\"23.617814\"/>\n      </g>\n     </g>\n     <g id=\"text_21\">\n      <!-- 0 -->\n      <g transform=\"translate(275.579891 27.417033)scale(0.1 -0.1)\">\n       <use xlink:href=\"#DejaVuSans-48\"/>\n      </g>\n     </g>\n    </g>\n    <g id=\"ytick_11\">\n     <g id=\"line2d_19\">\n      <g>\n       <use style=\"stroke:#000000;stroke-width:0.8;\" x=\"288.942391\" xlink:href=\"#md981cc3382\" y=\"49.611603\"/>\n      </g>\n     </g>\n     <g id=\"text_22\">\n      <!-- 10 -->\n      <g transform=\"translate(269.217391 53.410822)scale(0.1 -0.1)\">\n       <use xlink:href=\"#DejaVuSans-49\"/>\n       <use x=\"63.623047\" xlink:href=\"#DejaVuSans-48\"/>\n      </g>\n     </g>\n    </g>\n    <g id=\"ytick_12\">\n     <g id=\"line2d_20\">\n      <g>\n       <use style=\"stroke:#000000;stroke-width:0.8;\" x=\"288.942391\" xlink:href=\"#md981cc3382\" y=\"75.605392\"/>\n      </g>\n     </g>\n     <g id=\"text_23\">\n      <!-- 20 -->\n      <g transform=\"translate(269.217391 79.404611)scale(0.1 -0.1)\">\n       <use xlink:href=\"#DejaVuSans-50\"/>\n       <use x=\"63.623047\" xlink:href=\"#DejaVuSans-48\"/>\n      </g>\n     </g>\n    </g>\n   </g>\n   <g id=\"patch_18\">\n    <path d=\"M 288.942391 95.100734 \nL 288.942391 22.318125 \n\" style=\"fill:none;stroke:#000000;stroke-linecap:square;stroke-linejoin:miter;stroke-width:0.8;\"/>\n   </g>\n   <g id=\"patch_19\">\n    <path d=\"M 361.725 95.100734 \nL 361.725 22.318125 \n\" style=\"fill:none;stroke:#000000;stroke-linecap:square;stroke-linejoin:miter;stroke-width:0.8;\"/>\n   </g>\n   <g id=\"patch_20\">\n    <path d=\"M 288.942391 95.100734 \nL 361.725 95.100734 \n\" style=\"fill:none;stroke:#000000;stroke-linecap:square;stroke-linejoin:miter;stroke-width:0.8;\"/>\n   </g>\n   <g id=\"patch_21\">\n    <path d=\"M 288.942391 22.318125 \nL 361.725 22.318125 \n\" style=\"fill:none;stroke:#000000;stroke-linecap:square;stroke-linejoin:miter;stroke-width:0.8;\"/>\n   </g>\n   <g id=\"text_24\">\n    <!-- 7 -->\n    <g transform=\"translate(321.516196 16.318125)scale(0.12 -0.12)\">\n     <use xlink:href=\"#DejaVuSans-55\"/>\n    </g>\n   </g>\n  </g>\n </g>\n <defs>\n  <clipPath id=\"pfa9127f9a0\">\n   <rect height=\"72.782609\" width=\"72.782609\" x=\"26.925\" y=\"22.318125\"/>\n  </clipPath>\n  <clipPath id=\"p22a336f0c9\">\n   <rect height=\"72.782609\" width=\"72.782609\" x=\"114.26413\" y=\"22.318125\"/>\n  </clipPath>\n  <clipPath id=\"pce7467d24a\">\n   <rect height=\"72.782609\" width=\"72.782609\" x=\"201.603261\" y=\"22.318125\"/>\n  </clipPath>\n  <clipPath id=\"p34f129cbbe\">\n   <rect height=\"72.782609\" width=\"72.782609\" x=\"288.942391\" y=\"22.318125\"/>\n  </clipPath>\n </defs>\n</svg>\n",
      "image/png": "[encoded data removed]"
     },
     "metadata": {
      "needs_background": "light"
     }
    }
   ],
   "source": [
    "# 将数据打乱后再输出\n",
    "mnist_dataset = tfds.load(\"mnist\", split=tfds.Split.TRAIN, as_supervised=True)\n",
    "mnist_dataset = mnist_dataset.shuffle(buffer_size=10000).batch(4)\n",
    "count = 0\n",
    "for images, lables in mnist_dataset:\n",
    "    fig, axs = plt.subplots(1,4)\n",
    "    count += 1\n",
    "    for i in range(4):\n",
    "        axs[i].set_title(lables.numpy()[i])\n",
    "        axs[i].imshow(images.numpy()[i, :, :, 0])\n",
    "    plt.show()\n",
    "    if count == 2:\n",
    "        break\n",
    "    \n"
   ]
  },
  {
   "cell_type": "markdown",
   "metadata": {},
   "source": [
    "tf.data.Dataset作为一个针对大规模数据设计的迭代器，本身无法方便的获取自身元素的数量或随机获取访问元素。 \n",
    "为了高效且充分的打散数据集，需要一些特定的方案。  \n",
    "Dataset.shuffle采用了以下方法：  \n",
    "- 设定一个固定大小的buffer_size的缓冲区\n",
    "- 初始化时，取出数据集中的前buffer_size个元素放入缓冲区\n",
    "- 每次需要从数据集中取元素时，即从缓冲区中随机采样一个元素并取出，然后从后续元素中取出一个放回到被取出的位置，以维持缓冲区大小  \n",
    "\n",
    "** 因此，缓冲区大小需要依据数据集特性和数据排列特点来进行设置 **\n",
    "- 当 buffer_size = 1 时， 相当于没有打散  \n",
    "- 当数据标签分布极不均匀时，较小的缓冲区大小会使训练时取出的batch数据很可能全部为同一便签，从而影响训练效果。  \n",
    "- 一般而言，数据集的分布若较为均匀，则缓冲区大小可较小，否则需要设置较大缓冲区 "
   ]
  },
  {
   "cell_type": "markdown",
   "metadata": {},
   "source": [
    "### 使用tf.data的并行化策略来提高训练流程效率\n",
    "有时训练过程中， 数据集的准备有时非常耗时，这时就会由cpu忙碌但是gpu空载的情况，造成数据的浪费。 \n",
    "\n",
    "<img src=\"https://tf.wiki/_images/datasets_without_pipelining_zh.png\">\n",
    "\n",
    "tf.data提供了Dataset.prefetch() 方法，使得可以让数据集对象Dataset在训练时预取出若干个元素。使得GPU训练的同时，CPU可以准备数据\n",
    "\n",
    "<img src=\"https://tf.wiki/_images/datasets_with_pipelining_zh.png\">\n",
    "\n",
    "使用方法和shuffle(). batch() 类似\n",
    "```python\n",
    "mnist_dataset = mnist_dataset.prefetch(buffer_size=tf.data.experimental.AUTOTUNE) \n",
    "``` \n",
    "buffer_size可以手动设置，也可以设置为AUTOTUNE由tensorflow自动选择合适的数值"
   ]
  },
  {
   "cell_type": "markdown",
   "metadata": {},
   "source": [
    "同样的，Dataset.map()也可以利用多GPU资源，并行化的对数据项进行变换，从而提高效率。  \n",
    "假设用于训练的计算机有2核的CPU，我们希望充分利用利用多核心的优势对数据进行并行化变化，可以使用：   \n",
    "```python\n",
    "    mnist_dataset = mnist_dataset.map(map_func=rot90, num_parallel_calls=2)\n",
    "```\n",
    "如下图： \n",
    "\n",
    "<img src=\"https://tf.wiki/_images/datasets_parallel_map_zh.png\">\n",
    "\n",
    "这里的num_parallel_calls也可以设置为 tf.data.experimental.AUTOTUNE 让 tensorflow 进行自行选择"
   ]
  },
  {
   "cell_type": "markdown",
   "metadata": {},
   "source": [
    "### 数据集元素的获取与使用\n",
    "td.data.Dataset是一个python的可迭代对象，可以直接在for循环中使用  \n",
    "```python\n",
    "    dataset = tf.data.Dataset.from_tensor_slices((A,B,C,..))\n",
    "````\n",
    "当然也可以使用iter()显性的构造一个迭代器  \n",
    "\n",
    "keras 支持使用tf.data.Dataset 直接作为输入，当调用 tf.keras.Model的fit和evaluate()方法时  \n",
    "可以将参数中的输入数据x指定为一个元素格式为(输入数据， 标签数据)的 Dataset, 并且忽略掉参数中的标签数据y"
   ]
  },
  {
   "cell_type": "code",
   "execution_count": null,
   "metadata": {},
   "outputs": [],
   "source": []
  }
 ]
}