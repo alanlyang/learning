{
 "cells": [
  {
   "cell_type": "markdown",
   "metadata": {},
   "source": [
    "### 2.6 比较运算符方法  \n",
    "当设计比较运算符时，需要考虑两个因素  \n",
    "- 1. 如何比较同一个类的两个对象  \n",
    "- 2. 如何比较不同类的对象  \n",
    "\n",
    "> 简洁的并不一定是最好的 "
   ]
  },
  {
   "cell_type": "code",
   "execution_count": 12,
   "metadata": {},
   "outputs": [],
   "source": [
    "\"\"\"\n",
    "同一个类的对象比较\n",
    "比较运算符至少要实现一组 \n",
    "\"\"\"\n",
    "\n",
    "class BlackJackCard:\n",
    "    def __init__(self, rank, suit, hard, soft):\n",
    "        \"\"\"\n",
    "        init a blackcard object \n",
    "        :param: rank  牌号 \n",
    "        :param: suit  花色\n",
    "        :hard\n",
    "        :soft\n",
    "        \"\"\"\n",
    "        self.rank = rank \n",
    "        self.suit = suit \n",
    "        self.hard = hard \n",
    "        self.soft = soft \n",
    "\n",
    "    def __lt__(self, other):\n",
    "        \"\"\"\n",
    "        less than : < \n",
    "        \"\"\"\n",
    "        # 显式的类型检查\n",
    "        if not isinstance(other, BlackJackCard): \n",
    "            return NotImplemented \n",
    "        return self.rank < other.rank  \n",
    "    \n",
    "    def __le__(self, other):\n",
    "        \"\"\"\n",
    "        less or equal than : <= \n",
    "        \"\"\"\n",
    "        # 隐式类型检查\n",
    "        try:\n",
    "            return self.rank <= other.rank \n",
    "        except AttributeError:\n",
    "            return NotImplemented \n",
    "\n",
    "    def __eq__(self, other):\n",
    "        \"\"\"\n",
    "        equal: = \n",
    "        \"\"\"\n",
    "        if not isinstance(other, BlackJackCard):\n",
    "            return NotImplemented \n",
    "        return self.rank == other.rank and self.suit == other.suit \n",
    "\n",
    "    def __ne__(self, other):\n",
    "        \"\"\"\n",
    "        not equal: ≠\n",
    "        \"\"\"\n",
    "        if not isinstance(other, BlackJackCard):\n",
    "            return NotImplemented \n",
    "        return self.rank != other.rank or self.suit != other.rank \n",
    "\n",
    "    def __str__(self):\n",
    "        return \"{__class__.__name__}, rank={rank}, suit={suit}\".format(__class__=self.__class__, **self.__dict__)"
   ]
  },
  {
   "cell_type": "markdown",
   "metadata": {},
   "source": [
    "理论上，try语句块有一个优点： 避免了重复的类命名 "
   ]
  },
  {
   "cell_type": "code",
   "execution_count": 13,
   "metadata": {},
   "outputs": [],
   "source": [
    "from functools import partial \n",
    "\n",
    "class NumberCard(BlackJackCard):\n",
    "    def __init__(self, rank, suit):\n",
    "        super().__init__(rank, suit, int(rank), int(rank))\n",
    "\n",
    "class FaceCard(BlackJackCard):\n",
    "    def __init__(self, rank, suit):\n",
    "        super().__init__(rank, suit, 10, 10)\n",
    "\n",
    "class AceCard(BlackJackCard):\n",
    "    def __init__(self, rank, suit):\n",
    "        super().__init__(rank, suit, 1, 11)\n",
    "\n",
    "def card21(rank, suit):\n",
    "    \"\"\" 工厂方法\n",
    "    \"\"\"\n",
    "    class_ = {\n",
    "        1: partial(AceCard, rank),\n",
    "        'J': partial(FaceCard, 11),\n",
    "        'Q': partial(FaceCard, 12),\n",
    "        'K': partial(FaceCard, 13)\n",
    "    }.get(rank, partial(NumberCard, rank))\n",
    "\n",
    "    return class_(suit)\n",
    "\n",
    "two = card21(2, '♠')\n",
    "three = card21(3, '♥')\n",
    "two_c = card21(2, '♣')\n",
    "eleven = card21('J', '♠')\n"
   ]
  },
  {
   "cell_type": "code",
   "execution_count": 19,
   "metadata": {},
   "outputs": [
    {
     "data": {
      "text/plain": [
       "False"
      ]
     },
     "execution_count": 19,
     "metadata": {},
     "output_type": "execute_result"
    }
   ],
   "source": [
    "two == two_c\n",
    "#two < 2 # 会抛出有异常 \n",
    "two == 2 # NotImplemented 抛出异常后会尝试交换顺序，由于默认有int.__eq__()方法，因此可以正常的执行 "
   ]
  },
  {
   "cell_type": "code",
   "execution_count": 15,
   "metadata": {},
   "outputs": [
    {
     "data": {
      "text/plain": [
       "''"
      ]
     },
     "execution_count": 15,
     "metadata": {},
     "output_type": "execute_result"
    }
   ],
   "source": [
    "\"\"\"\n",
    "实现不同类的对象比较 \n",
    "\"\"\"\n"
   ]
  }
 ],
 "metadata": {
  "kernelspec": {
   "display_name": "Python 3.9.12 ('base')",
   "language": "python",
   "name": "python3"
  },
  "language_info": {
   "codemirror_mode": {
    "name": "ipython",
    "version": 3
   },
   "file_extension": ".py",
   "mimetype": "text/x-python",
   "name": "python",
   "nbconvert_exporter": "python",
   "pygments_lexer": "ipython3",
   "version": "3.9.12"
  },
  "orig_nbformat": 4,
  "vscode": {
   "interpreter": {
    "hash": "7c4d1481346eac6a267ce2424748a276f0d081a15f13c03f31a199eff3add9c4"
   }
  }
 },
 "nbformat": 4,
 "nbformat_minor": 2
}
