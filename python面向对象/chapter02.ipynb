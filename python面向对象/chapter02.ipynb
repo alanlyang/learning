{
 "cells": [
  {
   "cell_type": "markdown",
   "metadata": {},
   "source": [
    "### 2.6 比较运算符方法  \n",
    "当设计比较运算符时，需要考虑两个因素  \n",
    "- 1. 如何比较同一个类的两个对象  \n",
    "- 2. 如何比较不同类的对象  \n",
    "\n",
    "> 简洁的并不一定是最好的 "
   ]
  },
  {
   "cell_type": "code",
   "execution_count": 8,
   "metadata": {},
   "outputs": [],
   "source": [
    "\"\"\"\n",
    "同一个类的对象比较\n",
    "比较运算符至少要实现一组 \n",
    "\"\"\"\n",
    "\n",
    "class BlackJackCard:\n",
    "    def __init__(self, rank, suit, hard, soft):\n",
    "        \"\"\"\n",
    "        init a blackcard object \n",
    "        :param: rank  牌号 \n",
    "        :param: suit  花色\n",
    "        :hard\n",
    "        :soft\n",
    "        \"\"\"\n",
    "        self.rank = rank \n",
    "        self.suit = suit \n",
    "        self.hard = hard \n",
    "        self.soft = soft \n",
    "\n",
    "    def __lt__(self, other):\n",
    "        \"\"\"\n",
    "        less than : < \n",
    "        \"\"\"\n",
    "        # 显式的类型检查\n",
    "        if not isinstance(other, BlackJackCard): \n",
    "            return NotImplemented \n",
    "        return self.rank < other.rank  \n",
    "    \n",
    "    def __le__(self, other):\n",
    "        \"\"\"\n",
    "        less or equal than : <= \n",
    "        \"\"\"\n",
    "        # 隐式类型检查\n",
    "        try:\n",
    "            return self.rank <= other.rank \n",
    "        except AttributeError:\n",
    "            return NotImplemented \n",
    "\n",
    "    def __eq__(self, other):\n",
    "        \"\"\"\n",
    "        equal: = \n",
    "        \"\"\"\n",
    "        if not isinstance(other, BlackJackCard):\n",
    "            return NotImplemented \n",
    "        return self.rank == other.rank and self.suit == other.suit \n",
    "\n",
    "    def __ne__(self, other):\n",
    "        \"\"\"\n",
    "        not equal: ≠\n",
    "        \"\"\"\n",
    "        if not isinstance(other, BlackJackCard):\n",
    "            return NotImplemented \n",
    "        return self.rank != other.rank or self.suit != other.rank \n",
    "\n",
    "    def __str__(self):\n",
    "        return \"{__class__.__name__}, rank={rank!r}, suit={suit!r}\".format(__class__=self.__class__, **self.__dict__)"
   ]
  },
  {
   "cell_type": "markdown",
   "metadata": {},
   "source": [
    "理论上，try语句块有一个优点： 避免了重复的类命名 "
   ]
  },
  {
   "cell_type": "code",
   "execution_count": 9,
   "metadata": {},
   "outputs": [],
   "source": [
    "from functools import partial \n",
    "\n",
    "class NumberCard(BlackJackCard):\n",
    "    def __init__(self, rank, suit):\n",
    "        super().__init__(rank, suit, int(rank), int(rank))\n",
    "\n",
    "class FaceCard(BlackJackCard):\n",
    "    def __init__(self, rank, suit):\n",
    "        super().__init__(rank, suit, 10, 10)\n",
    "\n",
    "class AceCard(BlackJackCard):\n",
    "    def __init__(self, rank, suit):\n",
    "        super().__init__(rank, suit, 1, 11)\n",
    "\n",
    "def card21(rank, suit):\n",
    "    \"\"\" 工厂方法\n",
    "    \"\"\"\n",
    "    class_ = {\n",
    "        1: partial(AceCard, rank),\n",
    "        'J': partial(FaceCard, 11),\n",
    "        'Q': partial(FaceCard, 12),\n",
    "        'K': partial(FaceCard, 13)\n",
    "    }.get(rank, partial(NumberCard, rank))\n",
    "\n",
    "    return class_(suit)\n",
    "\n",
    "two = card21(2, '♠')\n",
    "three = card21(3, '♥')\n",
    "two_c = card21(2, '♣')\n",
    "eleven = card21('J', '♠')\n"
   ]
  },
  {
   "cell_type": "code",
   "execution_count": 10,
   "metadata": {},
   "outputs": [
    {
     "data": {
      "text/plain": [
       "False"
      ]
     },
     "execution_count": 10,
     "metadata": {},
     "output_type": "execute_result"
    }
   ],
   "source": [
    "two == two_c\n",
    "#two < 2 # 会抛出有异常 \n",
    "two == 2 # NotImplemented 抛出异常后会尝试交换顺序，由于默认有int.__eq__()方法，因此可以正常的执行 "
   ]
  },
  {
   "cell_type": "markdown",
   "metadata": {},
   "source": [
    "通常情况下， 一个好的子类定义应该只以来于相同的方法签名   \n",
    "而不合理的多态设计则会广泛的使用 isinstance   \n",
    "在一些情况下， 尤其是在使用Python的内置类时，使用isinstance 时必须 的"
   ]
  },
  {
   "cell_type": "code",
   "execution_count": 21,
   "metadata": {},
   "outputs": [],
   "source": [
    "\"\"\"\n",
    "不同类型之间比较的一个例子\n",
    "\"\"\"\n",
    "class Hand:\n",
    "    def __init__(self, dealer_card, *cards):\n",
    "        self.dealer_card = dealer_card \n",
    "        self.cards = list(cards) \n",
    "\n",
    "    def __str__(self):\n",
    "        \"\"\" 返回所有手牌\"\"\"        \n",
    "        return ','.join(map(str, self.cards))\n",
    "\n",
    "    def __repr__(self):\n",
    "        \"\"\" 返回类名及参数值 \"\"\"\n",
    "        return \"{__class__.__name__} dealer_card={deal_card!r}, _card_str={_card_str}\".format(\n",
    "            __clas__ = self.__class__, \n",
    "            _card_str = ','.join(map(str, repr(self.cards))),\n",
    "            **self.__dict__\n",
    "        )\n",
    "    \n",
    "    def __eq__(self, other):\n",
    "        \"\"\"\n",
    "         = 重载\n",
    "         other: an instance of Int or Hand \n",
    "        \"\"\"\n",
    "        if isinstance(other, int):\n",
    "            return self.total() == other \n",
    "        try:\n",
    "            return self.cards == other.cards and self.dealer_card == other.dealer_card \n",
    "        except AttributeError:\n",
    "            return NotImplemented  # 表示没有实现该组类型对象的比较  \n",
    "\n",
    "    def __lt__(self, other):\n",
    "        \"\"\"\n",
    "        < 重载 \n",
    "        \"\"\" \n",
    "        if isinstance(other, int):\n",
    "            return self.total() < other \n",
    "        try:\n",
    "            return self.total() < other.total()\n",
    "        except AttributeError:\n",
    "            raise NotImplemented\n",
    "    \n",
    "    def __le__(self, other):\n",
    "        \"\"\"\n",
    "        <= 重载 \n",
    "        \"\"\"\n",
    "        if isinstance(other, int):\n",
    "            return self.total() <= other \n",
    "        try:\n",
    "            return self.total() <= other.total()\n",
    "        except AttributeError:\n",
    "            raise NotImplemented\n",
    "    \n",
    "    def total(self):\n",
    "        \"\"\" 计算手牌的soft总和 和 hard总和, 可以被外部调用\n",
    "        \"\"\"\n",
    "        delta_soft = max(card.soft - card.rank for card in self.cards)\n",
    "        hard = sum(card.rank for card in self.cards)\n",
    "        if hard + delta_soft <= 21:\n",
    "            return hard + delta_soft \n",
    "        else:\n",
    "            return hard \n"
   ]
  },
  {
   "cell_type": "code",
   "execution_count": 22,
   "metadata": {},
   "outputs": [
    {
     "name": "stdout",
     "output_type": "stream",
     "text": [
      "AceCard, rank=1, suit='♠',NumberCard, rank=2, suit='♠',NumberCard, rank=2, suit='♣',NumberCard, rank=3, suit='♠'\n",
      "18\n"
     ]
    }
   ],
   "source": [
    "two = card21(2, '♠')\n",
    "three = card21(3, '♠')\n",
    "two_c = card21(2, '♣')\n",
    "ace = card21(1, '♠') \n",
    "cards = [ace, two, two_c, three] # 这作者也是严谨，按牌的大小组合手牌 \n",
    "\n",
    "h = Hand(card21(10, '♠'), *cards)\n",
    "print(h)\n",
    "print(h.total())"
   ]
  },
  {
   "cell_type": "code",
   "execution_count": 23,
   "metadata": {},
   "outputs": [
    {
     "data": {
      "text/plain": [
       "13"
      ]
     },
     "execution_count": 23,
     "metadata": {},
     "output_type": "execute_result"
    }
   ],
   "source": [
    "h2 = Hand(card21(10, '♠'), card21(5, '♠'), *cards)\n",
    "h2.total()"
   ]
  },
  {
   "cell_type": "code",
   "execution_count": 24,
   "metadata": {},
   "outputs": [
    {
     "data": {
      "text/plain": [
       "False"
      ]
     },
     "execution_count": 24,
     "metadata": {},
     "output_type": "execute_result"
    }
   ],
   "source": [
    "h < h2 "
   ]
  },
  {
   "cell_type": "markdown",
   "metadata": {},
   "source": [
    "### 2.7 析构函数__del__方法"
   ]
  },
  {
   "cell_type": "markdown",
   "metadata": {},
   "source": [
    "该方法的目的是在将一个对象从内存中清除前，可以有机会做一些操作    \n",
    "如果一个python 对象包含了一些操作系统的资源,\\_\\_del\\_\\_()方法是将其释放的最后机会   \n",
    "\n",
    "> 由于析构函数的不稳定性， 通常更建议使用上下文管理器来进行对象的释放 "
   ]
  },
  {
   "cell_type": "markdown",
   "metadata": {},
   "source": [
    "Cpython的实现中，对象会包括一个引用计数器， 当对象被赋值给变量时， 计数器加一，变量删除时，计数器减一。当引用计数器为0时，表示改对象可以销毁 "
   ]
  },
  {
   "cell_type": "code",
   "execution_count": 14,
   "metadata": {},
   "outputs": [
    {
     "name": "stdout",
     "output_type": "stream",
     "text": [
      "Removing 140009616993392\n"
     ]
    }
   ],
   "source": [
    "class Noisy:\n",
    "    def __del__(self):\n",
    "        print(\"Removing {0}\".format(id(self))) \n",
    "\n",
    "x = Noisy() \n",
    "del x "
   ]
  },
  {
   "cell_type": "code",
   "execution_count": 15,
   "metadata": {},
   "outputs": [],
   "source": [
    "ln = [Noisy(), Noisy()]\n",
    "ln2 = ln[:]\n",
    "del ln"
   ]
  },
  {
   "cell_type": "code",
   "execution_count": 16,
   "metadata": {},
   "outputs": [
    {
     "name": "stdout",
     "output_type": "stream",
     "text": [
      "Removing 140009693820096\n",
      "Removing 140009693820768\n"
     ]
    }
   ],
   "source": [
    "del ln2"
   ]
  },
  {
   "cell_type": "code",
   "execution_count": null,
   "metadata": {},
   "outputs": [],
   "source": []
  }
 ],
 "metadata": {
  "kernelspec": {
   "display_name": "Python 3.9.12 ('base')",
   "language": "python",
   "name": "python3"
  },
  "language_info": {
   "codemirror_mode": {
    "name": "ipython",
    "version": 3
   },
   "file_extension": ".py",
   "mimetype": "text/x-python",
   "name": "python",
   "nbconvert_exporter": "python",
   "pygments_lexer": "ipython3",
   "version": "3.9.12"
  },
  "orig_nbformat": 4,
  "vscode": {
   "interpreter": {
    "hash": "7c4d1481346eac6a267ce2424748a276f0d081a15f13c03f31a199eff3add9c4"
   }
  }
 },
 "nbformat": 4,
 "nbformat_minor": 2
}
