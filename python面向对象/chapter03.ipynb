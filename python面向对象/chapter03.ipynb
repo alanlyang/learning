{
 "cells": [
  {
   "cell_type": "markdown",
   "metadata": {},
   "source": [
    "### 21点玩法介绍 \n",
    "- 游戏用到八副不含大小王的牌  (对应deck 类) \n",
    "- 游戏流程： 下注、发牌、买保险、闲家动作、庄家动作、比牌结算 \n",
    "> - 下注： 牌局开始后，自行选择下注金额  place_bet 函数 ，为 Table 对象的成员函数 \n",
    "> - 发牌： 首轮第一张牌都是名牌，第二张闲家为明牌，庄家为暗牌 \n",
    "> - 买保险： 发牌后若庄家名牌为A, 此时闲家可以选择是否买保险， 保险金为下注金额的一半 。 若庄家牌为 Black Jack （A 和 一张10点牌）, 则闲家获取保险金及保险金两倍金额， 并结束本局。\n",
    "> 若庄家牌型不为Black Jack, 则所有保险金为庄家所有， 游戏继续  \n",
    "> - 闲家动作： 依照发牌顺序询问是否双倍下注、分牌、要牌、停牌  \n",
    ">> - 下注： 只有两张手牌时，玩家可以选择双倍下注, 在补一张牌后将强制停牌  \n",
    ">> - 分牌： 当两张手牌相同时，可以选择分牌，将手牌一份为二，接着各补一张牌组成两幅牌，新组成的两幅手牌可分别进行双倍下注，要牌、停牌等操作  \n",
    ">> - 停牌： 停止要牌病报纸现有手牌，将以当前点数直至该局结束\n",
    ">> - 要牌： 只要当前手牌总和小于21点且数量 < 5张，即可要牌 \n",
    "> - 庄家动作 \n",
    ">> - 庄家点数 < 17 点则必须要牌， 大于17 点 则必须停牌 \n",
    "> - 比牌结算： 黑杰克 > 五小龙 > 普通21点 > 其他点数 \n",
    "\n",
    "\n",
    "\n"
   ]
  },
  {
   "cell_type": "markdown",
   "metadata": {},
   "source": [
    "### 3.2 创建特性   \n",
    "特性是一个函数，可以被调用，而不仅仅是用于存储对象的引用    \n",
    "和属性的另一个区别是，可以很容易给对象添加属性，而不可以轻易的为已有对象添加属性    \n",
    "\n",
    "特性的操作  \n",
    "- setter 设置\n",
    "- getter 获取\n",
    "- deleter 删除\n",
    "\n",
    "有两种方法创建特性   \n",
    "- @property 修饰符\n",
    "- property() 函数   \n",
    "\n",
    "关于特性的基本设计模式   \n",
    "- Eager Calculation(主动计算)： 每当更新特性值时，其他相关特性值都会被立即重新计算  \n",
    "- Lazy Calculation(延迟计算)： 仅仅当访问特性时，才会触发计算过程 \n",
    "\n"
   ]
  },
  {
   "cell_type": "code",
   "execution_count": 1,
   "metadata": {},
   "outputs": [],
   "source": [
    "# 牌定义\n",
    "class Card:\n",
    "    def __init__(self, rank, suit, hard, soft):\n",
    "        \"\"\"\n",
    "        rank: 号码 \n",
    "        suit: 花色 \n",
    "        hard: \n",
    "        soft\n",
    "        \"\"\"\n",
    "        self.rank = rank \n",
    "        self.suit = suit \n",
    "        self.hard = hard \n",
    "        self.soft = soft \n",
    "\n",
    "class AceCard(Card):\n",
    "    def __init__(self, rank, suit):\n",
    "        super().__init__('A', suit, 1, 11)\n",
    "    \n",
    "class NumberCard(Card):\n",
    "    def __init__(self, rank, suit):\n",
    "        super().__init__(str(rank), suit, int(rank), int(rank))\n",
    "\n",
    "class FaceCard(Card):\n",
    "    def __init__(self, rank, suit):\n",
    "        super().__init__({11: 'J', 12: 'Q', 13: 'K'}.get(int(rank)), suit, 10, 10)"
   ]
  },
  {
   "cell_type": "code",
   "execution_count": 2,
   "metadata": {},
   "outputs": [],
   "source": [
    "# 花色定义 \n",
    "class Suit:\n",
    "    def __init__(self, name, symbol):\n",
    "        \"\"\"\n",
    "        name: 花色名\n",
    "        symbol: 花色标识\n",
    "        \"\"\"\n",
    "        self.name = name \n",
    "        self.symbol = symbol \n",
    "\n",
    "Spade, Heart, Club, Diamond = Suit('Spade', '♠'), Suit('Heart', '♥'), Suit('Club', '♣'), Suit('Diamond', '♦')"
   ]
  },
  {
   "cell_type": "code",
   "execution_count": 3,
   "metadata": {},
   "outputs": [],
   "source": [
    "# 工厂方法\n",
    "def card(rank, suit):\n",
    "    \"\"\"\n",
    "    rank: 牌号\n",
    "    suti: 花色\n",
    "    \"\"\"\n",
    "    if rank == 1: return AceCard(rank, suit) \n",
    "    elif 1 < rank <= 10: return NumberCard(rank, suit)\n",
    "    elif 10 < rank <= 13: return FaceCard(rank, suit) \n",
    "    else: raise Exception ('rank is invalid : %s' % rank) \n",
    "\n",
    "# 牌堆类\n",
    "import random \n",
    "class Deck(list):\n",
    "    def __init__(self, decks=1):\n",
    "        \"\"\" decks 有几副牌\n",
    "        \"\"\"\n",
    "        super().__init__()\n",
    "        for i in range(decks):\n",
    "            self.extend([card(rank, suit) for rank in range(1, 14) for suit in [Spade, Heart, Club, Diamond]])\n",
    "        random.shuffle(self)"
   ]
  },
  {
   "cell_type": "code",
   "execution_count": 4,
   "metadata": {},
   "outputs": [],
   "source": [
    "\n",
    "class Hand:\n",
    "    def __str__(self):\n",
    "        return \",\".join(map(str, self.card))\n",
    "    \n",
    "    def __repr__(self):\n",
    "        return \"{__class__.__name__} ({dealer_card!r} {_cards_str})\".format(\n",
    "            __class__ = self.__class__,\n",
    "            _cards_str = ', '.join(map(str, self.card)),\n",
    "            **self.__dict__\n",
    "        )\n",
    "    \n",
    "class LazyHand(Hand):\n",
    "    def __init__(self, dealer_card, *cards):\n",
    "        self.dealer_card = dealer_card\n",
    "        self._cards = list(cards)\n",
    "\n",
    "    @property\n",
    "    def total(self):\n",
    "        delta_soft = max(c.soft - c.hard for c in self._cards)\n",
    "        hard_total = sum(map(int, [c.hard for c in self._cards]))\n",
    "        if hard_total + delta_soft <= 21: return hard_total + delta_soft \n",
    "        return hard_total \n",
    "    \n",
    "    @property\n",
    "    def card(self):\n",
    "        return self._cards \n",
    "    \n",
    "    @card.setter\n",
    "    def card(self, aCard):\n",
    "        self._cards.append(aCard)\n",
    "    \n",
    "    @card.deleter\n",
    "    def card(self):\n",
    "        self._cards.pop(-1)"
   ]
  },
  {
   "cell_type": "code",
   "execution_count": 6,
   "metadata": {},
   "outputs": [
    {
     "data": {
      "text/plain": [
       "21"
      ]
     },
     "execution_count": 6,
     "metadata": {},
     "output_type": "execute_result"
    }
   ],
   "source": [
    "# HandLazy 中 total 被定义为被动触发，每次触发时都会重新扫描每张牌并完成延迟计算，非常耗时\n",
    "d = Deck()\n",
    "h = LazyHand(d.pop(), d.pop(), d.pop())\n",
    "h.total "
   ]
  },
  {
   "cell_type": "code",
   "execution_count": 7,
   "metadata": {},
   "outputs": [],
   "source": [
    "## 主动计算  \n",
    "class EagerHand(Hand):\n",
    "    def __init__(self, dealer_card, *cards):\n",
    "        self.dealer_card = dealer_card\n",
    "        "
   ]
  }
 ],
 "metadata": {
  "kernelspec": {
   "display_name": "tf2",
   "language": "python",
   "name": "python3"
  },
  "language_info": {
   "codemirror_mode": {
    "name": "ipython",
    "version": 3
   },
   "file_extension": ".py",
   "mimetype": "text/x-python",
   "name": "python",
   "nbconvert_exporter": "python",
   "pygments_lexer": "ipython3",
   "version": "3.10.9"
  },
  "orig_nbformat": 4
 },
 "nbformat": 4,
 "nbformat_minor": 2
}
