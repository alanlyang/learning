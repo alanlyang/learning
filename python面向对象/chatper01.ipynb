{
 "cells": [
  {
   "attachments": {},
   "cell_type": "markdown",
   "metadata": {},
   "source": [
    "# 1.1 隐式基类 - Object \n",
    "每个python 定义的类都会隐式的继承object 类 "
   ]
  },
  {
   "cell_type": "code",
   "execution_count": 1,
   "metadata": {},
   "outputs": [
    {
     "name": "stdout",
     "output_type": "stream",
     "text": [
      "<class 'type'>\n",
      "<class 'object'>\n"
     ]
    }
   ],
   "source": [
    "class X:\n",
    "    pass \n",
    "print(X.__class__)\n",
    "print(X.__class__.__base__)"
   ]
  },
  {
   "attachments": {},
   "cell_type": "markdown",
   "metadata": {},
   "source": [
    "上述输出说明： 类其实是type类的一个对象， type类的基类为object 类"
   ]
  },
  {
   "attachments": {},
   "cell_type": "markdown",
   "metadata": {},
   "source": [
    "# 1.2 基类中的__init__()方法 \n",
    "对象的生命周期主要包括创建、初始化、销毁   \n",
    "继承自object类的子类，总是可以对它的属性进行拓展   \n",
    "例如下面这个例子不需要对width和height 进行初始化"
   ]
  },
  {
   "cell_type": "code",
   "execution_count": 3,
   "metadata": {},
   "outputs": [
    {
     "data": {
      "text/plain": [
       "6"
      ]
     },
     "execution_count": 3,
     "metadata": {},
     "output_type": "execute_result"
    }
   ],
   "source": [
    "class Rectangle:\n",
    "    def area(self):\n",
    "        return self.width * self.height  # 这种方式在python中是合法的，但不建议使用\n",
    "\n",
    "r = Rectangle()\n",
    "r.width, r.height = 2, 3 # 在使用时赋值\n",
    "r.area()"
   ]
  },
  {
   "attachments": {},
   "cell_type": "markdown",
   "metadata": {},
   "source": [
    "延迟初始化属性的设计虽然具有一定的灵活性，但从长远来看，这是一种糟糕的设计 "
   ]
  },
  {
   "cell_type": "code",
   "execution_count": 5,
   "metadata": {},
   "outputs": [
    {
     "name": "stdout",
     "output_type": "stream",
     "text": [
      "The Zen of Python, by Tim Peters\n",
      "\n",
      "Beautiful is better than ugly.\n",
      "Explicit is better than implicit.\n",
      "Simple is better than complex.\n",
      "Complex is better than complicated.\n",
      "Flat is better than nested.\n",
      "Sparse is better than dense.\n",
      "Readability counts.\n",
      "Special cases aren't special enough to break the rules.\n",
      "Although practicality beats purity.\n",
      "Errors should never pass silently.\n",
      "Unless explicitly silenced.\n",
      "In the face of ambiguity, refuse the temptation to guess.\n",
      "There should be one-- and preferably only one --obvious way to do it.\n",
      "Although that way may not be obvious at first unless you're Dutch.\n",
      "Now is better than never.\n",
      "Although never is often better than *right* now.\n",
      "If the implementation is hard to explain, it's a bad idea.\n",
      "If the implementation is easy to explain, it may be a good idea.\n",
      "Namespaces are one honking great idea -- let's do more of those!\n"
     ]
    }
   ],
   "source": [
    "import this "
   ]
  },
  {
   "attachments": {},
   "cell_type": "markdown",
   "metadata": {},
   "source": [
    "Explicit is better than implict 显示而非隐式，对于每个__init__都应当显示的指定要初始化的变量"
   ]
  },
  {
   "cell_type": "markdown",
   "metadata": {},
   "source": [
    "### 1.3 基类中实现 __init__方法 "
   ]
  },
  {
   "cell_type": "code",
   "execution_count": 2,
   "metadata": {},
   "outputs": [],
   "source": [
    "# 多态设计 \n",
    "class Card:\n",
    "    def __init__(self, rank, suit):\n",
    "        \"\"\"\n",
    "        rank: 号码 \n",
    "        suit: 花色\n",
    "        \"\"\"\n",
    "        self.suit = suit \n",
    "        self.rank = rank \n",
    "        self.hard, self.soft = self._points() # 类内部函数命名以_开始投， 表示该函数可以被继承访问 \n",
    "\n",
    "class NumberCard(Card):\n",
    "    def _points(self):\n",
    "        return int(self.rank), int(self.rank)\n",
    "\n",
    "class FaceCard(Card):\n",
    "    def _points(self):\n",
    "        return 10, 10 \n",
    "\n",
    "class AceCard(Card):\n",
    "    def _points(self):\n",
    "        return 1, 11\n"
   ]
  },
  {
   "cell_type": "markdown",
   "metadata": {},
   "source": [
    "> 内部函数以 _ 开头命名，表示该函数可被继承访问    \n",
    "> 以 __ 开头， 为类内私有函数命名， 该函数不可被继承访问  \n",
    "\n",
    "- 常见的多态设计， 每个子类为_points 提供特有的实现 \n",
    "- 所有的子类有相同的方法名和属性名 \n",
    "\n"
   ]
  },
  {
   "cell_type": "code",
   "execution_count": 3,
   "metadata": {},
   "outputs": [],
   "source": [
    "# 如果只是简单的去定义牌，可以使用如下方式 \n",
    "cards = [AceCard('A', '♠'), NumberCard('2', '♠')]"
   ]
  },
  {
   "cell_type": "markdown",
   "metadata": {},
   "source": [
    "但这样的枚举，需要枚举52张牌，麻烦且容易出错，可以考虑工厂函数   \n",
    "先看一些其他的方法 "
   ]
  },
  {
   "cell_type": "markdown",
   "metadata": {},
   "source": [
    "### 1.4 使用__init__创建常量清单  \n",
    "\n",
    "很多情况下，应用会包括一个常量集合， 静态常量 构成了 **策略(Strategy)** 或 **状态(State)** 的一部分  \n",
    "python 中并没有提供简单而直接的方式来定义一个不可变对象。  \n",
    "\n",
    "这个例子中，将花色定义为一个不可变对象是有意义的"
   ]
  },
  {
   "cell_type": "code",
   "execution_count": 4,
   "metadata": {},
   "outputs": [],
   "source": [
    "class Suit:\n",
    "    def __init__(self, name, symbol):\n",
    "        \"\"\"\n",
    "        name: 花色名\n",
    "        symbol: 花色标识\n",
    "        \"\"\"\n",
    "        self.name = name \n",
    "        self.symbol = symbol \n",
    "\n",
    "Spade, Heart, Club, Diamond = Suit('Spade', '♠'), Suit('Heart', '♥'), Suit('Club', '♣'), Suit('Diamond', '♦')"
   ]
  },
  {
   "cell_type": "markdown",
   "metadata": {},
   "source": [
    "把创建好的花色对象做缓存，使得在调用时对象可以被重复使用，性能将会得到显著提升 \n",
    "(python 对象只是概念上的常量，事实上仍然是可变的， 使用额外的代码使得对象完全不可变可能会更好)"
   ]
  },
  {
   "cell_type": "markdown",
   "metadata": {},
   "source": [
    "### 1.5 通过工厂函数调用__init__ "
   ]
  },
  {
   "cell_type": "markdown",
   "metadata": {},
   "source": [
    "实现工厂有两种途径 \n",
    "- 1. 定义一个函数， 返回不同的类 \n",
    "- 2. 定义一个类， 包含了创建对象的方法  \n",
    "\n",
    "第二种方式是完整的工厂设计模式，在类似java的语言中，工厂类层次结构是必须的， 因为*语言本身不支持脱离类而单独存在的函数* (好像还真是)  \n",
    "在 python 里 类不是必须的， 只有在特别复杂的场景下，工厂类才是不错的选择  \n",
    "python 的优势之一就是 对于只需要简单定义一个函数就能做到的事没有必要去定义类层次结构"
   ]
  },
  {
   "cell_type": "markdown",
   "metadata": {},
   "source": []
  }
 ],
 "metadata": {
  "kernelspec": {
   "display_name": "Python 3",
   "language": "python",
   "name": "python3"
  },
  "language_info": {
   "codemirror_mode": {
    "name": "ipython",
    "version": 3
   },
   "file_extension": ".py",
   "mimetype": "text/x-python",
   "name": "python",
   "nbconvert_exporter": "python",
   "pygments_lexer": "ipython3",
   "version": "3.9.13"
  },
  "orig_nbformat": 4
 },
 "nbformat": 4,
 "nbformat_minor": 2
}
