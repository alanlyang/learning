{
 "cells": [
  {
   "attachments": {},
   "cell_type": "markdown",
   "metadata": {},
   "source": [
    "# 1.1 隐式基类 - Object \n",
    "每个python 定义的类都会隐式的继承object 类 "
   ]
  },
  {
   "cell_type": "code",
   "execution_count": 1,
   "metadata": {},
   "outputs": [
    {
     "name": "stdout",
     "output_type": "stream",
     "text": [
      "<class 'type'>\n",
      "<class 'object'>\n"
     ]
    }
   ],
   "source": [
    "class X:\n",
    "    pass \n",
    "print(X.__class__)\n",
    "print(X.__class__.__base__)"
   ]
  },
  {
   "attachments": {},
   "cell_type": "markdown",
   "metadata": {},
   "source": [
    "上述输出说明： 类其实是type类的一个对象， type类的基类为object 类"
   ]
  },
  {
   "attachments": {},
   "cell_type": "markdown",
   "metadata": {},
   "source": [
    "# 1.2 基类中的__init__()方法 \n",
    "对象的生命周期主要包括创建、初始化、销毁   \n",
    "继承自object类的子类，总是可以对它的属性进行拓展   \n",
    "例如下面这个例子不需要对width和height 进行初始化"
   ]
  },
  {
   "cell_type": "code",
   "execution_count": 2,
   "metadata": {},
   "outputs": [
    {
     "data": {
      "text/plain": [
       "6"
      ]
     },
     "execution_count": 2,
     "metadata": {},
     "output_type": "execute_result"
    }
   ],
   "source": [
    "class Rectangle:\n",
    "    def area(self):\n",
    "        return self.width * self.height  # 这种方式在python中是合法的，但不建议使用\n",
    "\n",
    "r = Rectangle()\n",
    "r.width, r.height = 2, 3 # 在使用时赋值\n",
    "r.area()"
   ]
  },
  {
   "attachments": {},
   "cell_type": "markdown",
   "metadata": {},
   "source": [
    "延迟初始化属性的设计虽然具有一定的灵活性，但从长远来看，这是一种糟糕的设计 "
   ]
  },
  {
   "cell_type": "code",
   "execution_count": 3,
   "metadata": {},
   "outputs": [
    {
     "name": "stdout",
     "output_type": "stream",
     "text": [
      "The Zen of Python, by Tim Peters\n",
      "\n",
      "Beautiful is better than ugly.\n",
      "Explicit is better than implicit.\n",
      "Simple is better than complex.\n",
      "Complex is better than complicated.\n",
      "Flat is better than nested.\n",
      "Sparse is better than dense.\n",
      "Readability counts.\n",
      "Special cases aren't special enough to break the rules.\n",
      "Although practicality beats purity.\n",
      "Errors should never pass silently.\n",
      "Unless explicitly silenced.\n",
      "In the face of ambiguity, refuse the temptation to guess.\n",
      "There should be one-- and preferably only one --obvious way to do it.\n",
      "Although that way may not be obvious at first unless you're Dutch.\n",
      "Now is better than never.\n",
      "Although never is often better than *right* now.\n",
      "If the implementation is hard to explain, it's a bad idea.\n",
      "If the implementation is easy to explain, it may be a good idea.\n",
      "Namespaces are one honking great idea -- let's do more of those!\n"
     ]
    }
   ],
   "source": [
    "import this "
   ]
  },
  {
   "attachments": {},
   "cell_type": "markdown",
   "metadata": {},
   "source": [
    "Explicit is better than implict 显示而非隐式，对于每个__init__都应当显示的指定要初始化的变量"
   ]
  },
  {
   "cell_type": "markdown",
   "metadata": {},
   "source": [
    "### 1.3 基类中实现 __init__方法 "
   ]
  },
  {
   "cell_type": "code",
   "execution_count": 4,
   "metadata": {},
   "outputs": [],
   "source": [
    "# 多态设计 \n",
    "class Card:\n",
    "    def __init__(self, rank, suit):\n",
    "        \"\"\"\n",
    "        rank: 号码 \n",
    "        suit: 花色\n",
    "        \"\"\"\n",
    "        self.suit = suit \n",
    "        self.rank = rank \n",
    "        self.hard, self.soft = self._points() # 类内部函数命名以_开始投， 表示该函数可以被继承访问 \n",
    "\n",
    "class NumberCard(Card):\n",
    "    def _points(self):\n",
    "        return int(self.rank), int(self.rank)\n",
    "\n",
    "class FaceCard(Card):\n",
    "    def _points(self):\n",
    "        return 10, 10 \n",
    "\n",
    "class AceCard(Card):\n",
    "    def _points(self):\n",
    "        return 1, 11\n"
   ]
  },
  {
   "cell_type": "markdown",
   "metadata": {},
   "source": [
    "> 内部函数以 _ 开头命名，表示该函数可被继承访问    \n",
    "> 以 __ 开头， 为类内私有函数命名， 该函数不可被继承访问  \n",
    "\n",
    "- 常见的多态设计， 每个子类为_points 提供特有的实现 \n",
    "- 所有的子类有相同的方法名和属性名 \n",
    "\n"
   ]
  },
  {
   "cell_type": "code",
   "execution_count": 5,
   "metadata": {},
   "outputs": [],
   "source": [
    "# 如果只是简单的去定义牌，可以使用如下方式 \n",
    "cards = [AceCard('A', '♠'), NumberCard('2', '♠')]"
   ]
  },
  {
   "cell_type": "markdown",
   "metadata": {},
   "source": [
    "但这样的枚举，需要枚举52张牌，麻烦且容易出错，可以考虑工厂函数   \n",
    "先看一些其他的方法 "
   ]
  },
  {
   "cell_type": "markdown",
   "metadata": {},
   "source": [
    "### 1.4 使用__init__创建常量清单  \n",
    "\n",
    "很多情况下，应用会包括一个常量集合， 静态常量 构成了 **策略(Strategy)** 或 **状态(State)** 的一部分  \n",
    "python 中并没有提供简单而直接的方式来定义一个不可变对象。  \n",
    "\n",
    "这个例子中，将花色定义为一个不可变对象是有意义的"
   ]
  },
  {
   "cell_type": "code",
   "execution_count": 6,
   "metadata": {},
   "outputs": [],
   "source": [
    "class Suit:\n",
    "    def __init__(self, name, symbol):\n",
    "        \"\"\"\n",
    "        name: 花色名\n",
    "        symbol: 花色标识\n",
    "        \"\"\"\n",
    "        self.name = name \n",
    "        self.symbol = symbol \n",
    "\n",
    "Spade, Heart, Club, Diamond = Suit('Spade', '♠'), Suit('Heart', '♥'), Suit('Club', '♣'), Suit('Diamond', '♦')"
   ]
  },
  {
   "cell_type": "markdown",
   "metadata": {},
   "source": [
    "把创建好的花色对象做缓存，使得在调用时对象可以被重复使用，性能将会得到显著提升 \n",
    "(python 对象只是概念上的常量，事实上仍然是可变的， 使用额外的代码使得对象完全不可变可能会更好)"
   ]
  },
  {
   "cell_type": "markdown",
   "metadata": {},
   "source": [
    "### 1.5 通过工厂函数调用__init__ "
   ]
  },
  {
   "cell_type": "markdown",
   "metadata": {},
   "source": [
    "实现工厂有两种途径 \n",
    "- 1. 定义一个函数， 返回不同的类 \n",
    "- 2. 定义一个类， 包含了创建对象的方法  \n",
    "\n",
    "第二种方式是完整的工厂设计模式，在类似java的语言中，工厂类层次结构是必须的， 因为*语言本身不支持脱离类而单独存在的函数* (好像还真是)  \n",
    "在 python 里 类不是必须的， 只有在特别复杂的场景下，工厂类才是不错的选择  \n",
    "python 的优势之一就是 对于只需要简单定义一个函数就能做到的事没有必要去定义类层次结构  \n",
    "\n",
    "类定义的优势是 可以通过继承来使得代码被更好的重用  （而不仅仅是封装起来比较好看而已 ）\n",
    "\n",
    "如果工厂类并没有重用任何代码，那么类层次结构在python中并没有多大用处， 完全可以用函数替代  \n",
    "\n",
    "如下是一个工厂函数的例子"
   ]
  },
  {
   "cell_type": "code",
   "execution_count": 7,
   "metadata": {},
   "outputs": [],
   "source": [
    "def card(rank, suit):\n",
    "    \"\"\" 生成对应的card 对象的工厂函数 \n",
    "    rank: 号码 \n",
    "    suit: 花色\n",
    "    \"\"\"\n",
    "    if rank == 1: \n",
    "        return AceCard('A', suit) \n",
    "    elif 2 <= rank <= 10:\n",
    "        return NumberCard(str(rank), suit) \n",
    "    elif 11<= rank <= 13:\n",
    "        name = {\n",
    "            11: 'J',\n",
    "            12: 'Q',\n",
    "            13: 'K'\n",
    "        }\n",
    "        return FaceCard(name[rank], suit)\n",
    "    else: # 应当尽量避免不明确的分支， 枚举所有场景后通过 else throw exception 是一个更明智的方法 \n",
    "        raise Exception('Rank out of range')\n",
    "    \n",
    "# 可以通过这种方式来构建卡片对象 \n",
    "deck = [card(rank, suit) for rank in range(1, 14) for suit in (Spade, Heart, Club, Diamond)]"
   ]
  },
  {
   "cell_type": "code",
   "execution_count": 8,
   "metadata": {},
   "outputs": [],
   "source": [
    "## version 2  使用映射来简化设计 \n",
    "def card4(rank, suit):\n",
    "    \"\"\"\n",
    "    使用映射来简化上述工厂方法  \n",
    "    \"\"\"\n",
    "    return {\n",
    "        1: AceCard('A', suit),\n",
    "        11: FaceCard('J', suit),\n",
    "        12: FaceCard('Q', suit),\n",
    "        13: FaceCard('K', suit)\n",
    "    }.get(rank, NumberCard(str(rank), suit))\n",
    "\n",
    "### v3: 代码重复度进一步减少 \n",
    "def card5(rank, suit):\n",
    "    \"\"\"  映射到一个二元组\n",
    "    \"\"\"\n",
    "    class_, rank_str = {\n",
    "        1: (AceCard, 'A'),  # 类本身也是一个对象 \n",
    "        11: (FaceCard, 'J'),\n",
    "        12: (FaceCard, 'Q'),\n",
    "        13: (FaceCard, 'K')\n",
    "    }.get(rank, (NumberCard, str(rank)))\n",
    "    return class_(rank_str, suit)\n",
    "\n",
    "deck = [card4(rank, suit) for rank in range(1, 14) for suit in (Spade, Heart, Club, Diamond)]"
   ]
  },
  {
   "cell_type": "markdown",
   "metadata": {},
   "source": [
    "上述card5 实现由两个缺点 \n",
    "- 从rank 值 映射到 类对象 很少见   \n",
    "- 两个参数只有一个用于类的初始化 \n",
    "\n",
    "从rank 映射到一个相对简单的类或函数对象，而不必提供目的不明确的参数，是一个更好的选择"
   ]
  },
  {
   "cell_type": "code",
   "execution_count": 9,
   "metadata": {},
   "outputs": [],
   "source": [
    "from functools import partial \n",
    "def card6(rank, suit):\n",
    "    \"\"\" 使用partial 函数来进行类对象的生产 \n",
    "    \"\"\"\n",
    "    class_ = {\n",
    "        1: partial(AceCard, 'A'),\n",
    "        11: partial(FaceCard, 'J'),\n",
    "        12: partial(FaceCard, 'Q'),\n",
    "        13: partial(FaceCard, 'K')\n",
    "    }.get(rank, partial(NumberCard, str(rank)))\n",
    "    return class_(suit)\n",
    "\n",
    "# 重写花色类方法的生成 \n",
    "def suit2(symbol):\n",
    "    \"\"\" 花色类重写 \"\"\"\n",
    "    class_ = {\n",
    "        '♠': partial(Suit, 'Spade'),\n",
    "        '♥': partial(Suit, 'Heart'),\n",
    "        '♣': partial(Suit, 'Club'),\n",
    "        '♦': partial(Suit, 'Diamond')\n",
    "    }.get(symbol)\n",
    "\n",
    "    return class_(symbol)\n"
   ]
  },
  {
   "cell_type": "markdown",
   "metadata": {},
   "source": [
    "partial() 函数的使用在函数式编程中很常见 "
   ]
  },
  {
   "cell_type": "markdown",
   "metadata": {},
   "source": [
    "### 1.6 在每个子类中实现__init__()方法  \n",
    "考虑重构card类，并将部分初始化在card类中实现 "
   ]
  },
  {
   "cell_type": "code",
   "execution_count": 10,
   "metadata": {},
   "outputs": [],
   "source": [
    "class Card:\n",
    "    def __init__(self, rank, suit, hard, soft):\n",
    "        \"\"\"\n",
    "        rank: 号码 \n",
    "        suit: 花色 \n",
    "        hard: \n",
    "        soft\n",
    "        \"\"\"\n",
    "        self.rank = rank \n",
    "        self.suit = suit \n",
    "        self.hard = hard \n",
    "        self.soft = soft \n",
    "\n",
    "class AceCard(Card):\n",
    "    def __init__(self, rank, suit):\n",
    "        super().__init__('A', suit, 1, 11)\n",
    "    \n",
    "class NumberCard(Card):\n",
    "    def __init__(self, rank, suit):\n",
    "        super().__init__(str(rank), suit, int(rank), int(rank))\n",
    "\n",
    "class FaceCard(Card):\n",
    "    def __init__(self, rank, suit):\n",
    "        super().__init__({11: 'J', 12: 'Q', 13: 'K'}.get(int(rank)), suit, 10, 10)"
   ]
  },
  {
   "cell_type": "markdown",
   "metadata": {},
   "source": [
    "经过上述重写以后，工厂函数的实现也会变得简洁 \n",
    "> 事实上， 在__init__ 函数和 工厂函数之间有些权衡，通常直接调用 比 __init___并把构造复杂性分发给工厂函数 更好， 当需要封装复杂的构造逻辑时，工厂函数才是一个更好的选择 "
   ]
  },
  {
   "cell_type": "code",
   "execution_count": 11,
   "metadata": {},
   "outputs": [],
   "source": [
    "def card10(rank, suit):\n",
    "    \"\"\" 工厂方法v10 \"\"\"\n",
    "    if rank == 1: return AceCard(rank, suit) \n",
    "    elif 2 <= rank < 11: return NumberCard(rank, suit) \n",
    "    elif 11 <= rank < 14: return FaceCard(rank, suit) \n",
    "    else: raise Exception('rank is invalid ')\n",
    "    "
   ]
  },
  {
   "cell_type": "markdown",
   "metadata": {},
   "source": [
    "### 1.7 简单的组合对象 \n",
    "一个组合对象也可以被称为**容器** \n",
    "> 面向对象的设计原则 \n",
    "> 单一功能原则 : 对象应该仅具有一种单一功能   \n",
    "> 开闭原则： 对于拓展开发，对于修改封闭    \n",
    "> 里氏替换原则： 程序中的对象应该是在可以不改变程序正确性的前提下被它的子类所替换   \n",
    "> 接口隔离原则： 多个特定的客户端接口要好于一个用途宽泛的接口    \n",
    "> 依赖反转原则： 一个方法应该遵守依赖于抽象而不是一个实例原则    \n",
    "\n",
    "类定义的一个优势： 类给对象提供了简单的、不需要实现的接口 （然而对于python来说，却不是必须的，可能这就是脚本语言的特性吧）"
   ]
  },
  {
   "cell_type": "markdown",
   "metadata": {},
   "source": [
    "设计一个集合类，通常有一下三种方法：  \n",
    "- 封装： 这个设计是基于现有集合类来定义一个新类，属于外观模式的一个使用场景 \n",
    "- 扩展： 对现有集合类进行拓展， 通常使用定义子类的方式来实现  \n",
    "- 创建： 重新设计 "
   ]
  },
  {
   "cell_type": "code",
   "execution_count": 15,
   "metadata": {},
   "outputs": [],
   "source": [
    "\"\"\"\n",
    "如下是一个封装的例子， 内部事实上是对 list 的一个封装， 调用方法也都是list 的方法\n",
    "\"\"\"\n",
    "import random \n",
    "class Deck:\n",
    "    def __init__(self):\n",
    "        # 牌堆\n",
    "        self._cards = [card10(rank, suit) for rank in range(1, 14) for suit in [Spade, Heart, Club, Diamond]]\n",
    "        random.shuffle(self._cards) \n",
    "\n",
    "    def pop(self):\n",
    "        \"\"\" 发牌 \"\"\"\n",
    "        return self._cards.pop()\n",
    "    "
   ]
  },
  {
   "cell_type": "markdown",
   "metadata": {},
   "source": [
    "一般来说， 外观模式或者封装类中的方法实现只是对底层对象相应函数的代理调用（有点多余?）"
   ]
  },
  {
   "cell_type": "code",
   "execution_count": 16,
   "metadata": {},
   "outputs": [],
   "source": [
    "\"\"\"\n",
    "拓展集合类, 好处是不用重新实现Pop方法, 只需继承即可\n",
    "\"\"\"\n",
    "class Deck(list):\n",
    "    def __init__(self):\n",
    "        _cards = [card10(rank, suit) for rank in range(1, 14) for suit in [Spade, Heart, Club, Diamond]]\n",
    "        super().__init__(_cards)\n",
    "        random.shuffle(self) #  牛啊？self 还可以这么用 ？ "
   ]
  },
  {
   "cell_type": "code",
   "execution_count": 19,
   "metadata": {},
   "outputs": [
    {
     "name": "stdout",
     "output_type": "stream",
     "text": [
      "Q\n"
     ]
    }
   ],
   "source": [
    "deck = Deck()\n",
    "print(deck[0].rank)"
   ]
  },
  {
   "cell_type": "code",
   "execution_count": null,
   "metadata": {},
   "outputs": [],
   "source": []
  }
 ],
 "metadata": {
  "kernelspec": {
   "display_name": "Python 3.9.12 ('base')",
   "language": "python",
   "name": "python3"
  },
  "language_info": {
   "codemirror_mode": {
    "name": "ipython",
    "version": 3
   },
   "file_extension": ".py",
   "mimetype": "text/x-python",
   "name": "python",
   "nbconvert_exporter": "python",
   "pygments_lexer": "ipython3",
   "version": "3.9.12"
  },
  "orig_nbformat": 4,
  "vscode": {
   "interpreter": {
    "hash": "7c4d1481346eac6a267ce2424748a276f0d081a15f13c03f31a199eff3add9c4"
   }
  }
 },
 "nbformat": 4,
 "nbformat_minor": 2
}
