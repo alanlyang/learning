{
 "cells": [
  {
   "attachments": {},
   "cell_type": "markdown",
   "metadata": {},
   "source": [
    "# 1.1 隐式基类 - Object \n",
    "每个python 定义的类都会隐式的继承object 类 "
   ]
  },
  {
   "cell_type": "code",
   "execution_count": 1,
   "metadata": {},
   "outputs": [
    {
     "name": "stdout",
     "output_type": "stream",
     "text": [
      "<class 'type'>\n",
      "<class 'object'>\n"
     ]
    }
   ],
   "source": [
    "class X:\n",
    "    pass \n",
    "print(X.__class__)\n",
    "print(X.__class__.__base__)"
   ]
  },
  {
   "attachments": {},
   "cell_type": "markdown",
   "metadata": {},
   "source": [
    "上述输出说明： 类其实是type类的一个对象， type类的基类为object 类"
   ]
  },
  {
   "attachments": {},
   "cell_type": "markdown",
   "metadata": {},
   "source": [
    "# 1.2 基类中的__init__()方法 \n",
    "对象的生命周期主要包括创建、初始化、销毁   \n",
    "继承自object类的子类，总是可以对它的属性进行拓展   \n",
    "例如下面这个例子不需要对width和height 进行初始化"
   ]
  },
  {
   "cell_type": "code",
   "execution_count": 2,
   "metadata": {},
   "outputs": [
    {
     "data": {
      "text/plain": [
       "6"
      ]
     },
     "execution_count": 2,
     "metadata": {},
     "output_type": "execute_result"
    }
   ],
   "source": [
    "class Rectangle:\n",
    "    def area(self):\n",
    "        return self.width * self.height  # 这种方式在python中是合法的，但不建议使用\n",
    "\n",
    "r = Rectangle()\n",
    "r.width, r.height = 2, 3 # 在使用时赋值\n",
    "r.area()"
   ]
  },
  {
   "attachments": {},
   "cell_type": "markdown",
   "metadata": {},
   "source": [
    "延迟初始化属性的设计虽然具有一定的灵活性，但从长远来看，这是一种糟糕的设计 "
   ]
  },
  {
   "cell_type": "code",
   "execution_count": 3,
   "metadata": {},
   "outputs": [
    {
     "name": "stdout",
     "output_type": "stream",
     "text": [
      "The Zen of Python, by Tim Peters\n",
      "\n",
      "Beautiful is better than ugly.\n",
      "Explicit is better than implicit.\n",
      "Simple is better than complex.\n",
      "Complex is better than complicated.\n",
      "Flat is better than nested.\n",
      "Sparse is better than dense.\n",
      "Readability counts.\n",
      "Special cases aren't special enough to break the rules.\n",
      "Although practicality beats purity.\n",
      "Errors should never pass silently.\n",
      "Unless explicitly silenced.\n",
      "In the face of ambiguity, refuse the temptation to guess.\n",
      "There should be one-- and preferably only one --obvious way to do it.\n",
      "Although that way may not be obvious at first unless you're Dutch.\n",
      "Now is better than never.\n",
      "Although never is often better than *right* now.\n",
      "If the implementation is hard to explain, it's a bad idea.\n",
      "If the implementation is easy to explain, it may be a good idea.\n",
      "Namespaces are one honking great idea -- let's do more of those!\n"
     ]
    }
   ],
   "source": [
    "import this "
   ]
  },
  {
   "attachments": {},
   "cell_type": "markdown",
   "metadata": {},
   "source": [
    "Explicit is better than implict 显示而非隐式，对于每个__init__都应当显示的指定要初始化的变量"
   ]
  },
  {
   "cell_type": "markdown",
   "metadata": {},
   "source": [
    "### 1.3 基类中实现 __init__方法 "
   ]
  },
  {
   "cell_type": "code",
   "execution_count": 4,
   "metadata": {},
   "outputs": [],
   "source": [
    "# 多态设计 \n",
    "class Card:\n",
    "    def __init__(self, rank, suit):\n",
    "        \"\"\"\n",
    "        rank: 号码 \n",
    "        suit: 花色\n",
    "        \"\"\"\n",
    "        self.suit = suit \n",
    "        self.rank = rank \n",
    "        self.hard, self.soft = self._points() # 类内部函数命名以_开始投， 表示该函数可以被继承访问 \n",
    "\n",
    "class NumberCard(Card):\n",
    "    def _points(self):\n",
    "        return int(self.rank), int(self.rank)\n",
    "\n",
    "class FaceCard(Card):\n",
    "    def _points(self):\n",
    "        return 10, 10 \n",
    "\n",
    "class AceCard(Card):\n",
    "    def _points(self):\n",
    "        return 1, 11\n"
   ]
  },
  {
   "cell_type": "markdown",
   "metadata": {},
   "source": [
    "> 内部函数以 _ 开头命名，表示该函数可被继承访问    \n",
    "> 以 __ 开头， 为类内私有函数命名， 该函数不可被继承访问  \n",
    "\n",
    "- 常见的多态设计， 每个子类为_points 提供特有的实现 \n",
    "- 所有的子类有相同的方法名和属性名 \n",
    "\n"
   ]
  },
  {
   "cell_type": "code",
   "execution_count": 5,
   "metadata": {},
   "outputs": [],
   "source": [
    "# 如果只是简单的去定义牌，可以使用如下方式 \n",
    "cards = [AceCard('A', '♠'), NumberCard('2', '♠')]"
   ]
  },
  {
   "cell_type": "markdown",
   "metadata": {},
   "source": [
    "但这样的枚举，需要枚举52张牌，麻烦且容易出错，可以考虑工厂函数   \n",
    "先看一些其他的方法 "
   ]
  },
  {
   "cell_type": "markdown",
   "metadata": {},
   "source": [
    "### 1.4 使用__init__创建常量清单  \n",
    "\n",
    "很多情况下，应用会包括一个常量集合， 静态常量 构成了 **策略(Strategy)** 或 **状态(State)** 的一部分  \n",
    "python 中并没有提供简单而直接的方式来定义一个不可变对象。  \n",
    "\n",
    "这个例子中，将花色定义为一个不可变对象是有意义的"
   ]
  },
  {
   "cell_type": "code",
   "execution_count": 6,
   "metadata": {},
   "outputs": [],
   "source": [
    "class Suit:\n",
    "    def __init__(self, name, symbol):\n",
    "        \"\"\"\n",
    "        name: 花色名\n",
    "        symbol: 花色标识\n",
    "        \"\"\"\n",
    "        self.name = name \n",
    "        self.symbol = symbol \n",
    "\n",
    "Spade, Heart, Club, Diamond = Suit('Spade', '♠'), Suit('Heart', '♥'), Suit('Club', '♣'), Suit('Diamond', '♦')"
   ]
  },
  {
   "cell_type": "markdown",
   "metadata": {},
   "source": [
    "把创建好的花色对象做缓存，使得在调用时对象可以被重复使用，性能将会得到显著提升 \n",
    "(python 对象只是概念上的常量，事实上仍然是可变的， 使用额外的代码使得对象完全不可变可能会更好)"
   ]
  },
  {
   "cell_type": "markdown",
   "metadata": {},
   "source": [
    "### 1.5 通过工厂函数调用__init__ "
   ]
  },
  {
   "cell_type": "markdown",
   "metadata": {},
   "source": [
    "实现工厂有两种途径 \n",
    "- 1. 定义一个函数， 返回不同的类 \n",
    "- 2. 定义一个类， 包含了创建对象的方法  \n",
    "\n",
    "第二种方式是完整的工厂设计模式，在类似java的语言中，工厂类层次结构是必须的， 因为*语言本身不支持脱离类而单独存在的函数* (好像还真是)  \n",
    "在 python 里 类不是必须的， 只有在特别复杂的场景下，工厂类才是不错的选择  \n",
    "python 的优势之一就是 对于只需要简单定义一个函数就能做到的事没有必要去定义类层次结构  \n",
    "\n",
    "类定义的优势是 可以通过继承来使得代码被更好的重用  （而不仅仅是封装起来比较好看而已 ）\n",
    "\n",
    "如果工厂类并没有重用任何代码，那么类层次结构在python中并没有多大用处， 完全可以用函数替代  \n",
    "\n",
    "如下是一个工厂函数的例子"
   ]
  },
  {
   "cell_type": "code",
   "execution_count": 7,
   "metadata": {},
   "outputs": [],
   "source": [
    "def card(rank, suit):\n",
    "    \"\"\" 生成对应的card 对象的工厂函数 \n",
    "    rank: 号码 \n",
    "    suit: 花色\n",
    "    \"\"\"\n",
    "    if rank == 1: \n",
    "        return AceCard('A', suit) \n",
    "    elif 2 <= rank <= 10:\n",
    "        return NumberCard(str(rank), suit) \n",
    "    elif 11<= rank <= 13:\n",
    "        name = {\n",
    "            11: 'J',\n",
    "            12: 'Q',\n",
    "            13: 'K'\n",
    "        }\n",
    "        return FaceCard(name[rank], suit)\n",
    "    else: # 应当尽量避免不明确的分支， 枚举所有场景后通过 else throw exception 是一个更明智的方法 \n",
    "        raise Exception('Rank out of range')\n",
    "    \n",
    "# 可以通过这种方式来构建卡片对象 \n",
    "deck = [card(rank, suit) for rank in range(1, 14) for suit in (Spade, Heart, Club, Diamond)]"
   ]
  },
  {
   "cell_type": "code",
   "execution_count": 8,
   "metadata": {},
   "outputs": [],
   "source": [
    "## version 2  使用映射来简化设计 \n",
    "def card4(rank, suit):\n",
    "    \"\"\"\n",
    "    使用映射来简化上述工厂方法  \n",
    "    \"\"\"\n",
    "    return {\n",
    "        1: AceCard('A', suit),\n",
    "        11: FaceCard('J', suit),\n",
    "        12: FaceCard('Q', suit),\n",
    "        13: FaceCard('K', suit)\n",
    "    }.get(rank, NumberCard(str(rank), suit))\n",
    "\n",
    "### v3: 代码重复度进一步减少 \n",
    "def card5(rank, suit):\n",
    "    \"\"\"  映射到一个二元组\n",
    "    \"\"\"\n",
    "    class_, rank_str = {\n",
    "        1: (AceCard, 'A'),  # 类本身也是一个对象 \n",
    "        11: (FaceCard, 'J'),\n",
    "        12: (FaceCard, 'Q'),\n",
    "        13: (FaceCard, 'K')\n",
    "    }.get(rank, (NumberCard, str(rank)))\n",
    "    return class_(rank_str, suit)\n",
    "\n",
    "deck = [card4(rank, suit) for rank in range(1, 14) for suit in (Spade, Heart, Club, Diamond)]"
   ]
  },
  {
   "cell_type": "markdown",
   "metadata": {},
   "source": [
    "上述card5 实现由两个缺点 \n",
    "- 从rank 值 映射到 类对象 很少见   \n",
    "- 两个参数只有一个用于类的初始化 \n",
    "\n",
    "从rank 映射到一个相对简单的类或函数对象，而不必提供目的不明确的参数，是一个更好的选择"
   ]
  },
  {
   "cell_type": "code",
   "execution_count": 9,
   "metadata": {},
   "outputs": [],
   "source": [
    "from functools import partial \n",
    "def card6(rank, suit):\n",
    "    \"\"\" 使用partial 函数来进行类对象的生产 \n",
    "    \"\"\"\n",
    "    class_ = {\n",
    "        1: partial(AceCard, 'A'),\n",
    "        11: partial(FaceCard, 'J'),\n",
    "        12: partial(FaceCard, 'Q'),\n",
    "        13: partial(FaceCard, 'K')\n",
    "    }.get(rank, partial(NumberCard, str(rank)))\n",
    "    return class_(suit)\n",
    "\n",
    "# 重写花色类方法的生成 \n",
    "def suit2(symbol):\n",
    "    \"\"\" 花色类重写 \"\"\"\n",
    "    class_ = {\n",
    "        '♠': partial(Suit, 'Spade'),\n",
    "        '♥': partial(Suit, 'Heart'),\n",
    "        '♣': partial(Suit, 'Club'),\n",
    "        '♦': partial(Suit, 'Diamond')\n",
    "    }.get(symbol)\n",
    "\n",
    "    return class_(symbol)\n"
   ]
  },
  {
   "cell_type": "markdown",
   "metadata": {},
   "source": [
    "partial() 函数的使用在函数式编程中很常见 "
   ]
  },
  {
   "cell_type": "markdown",
   "metadata": {},
   "source": [
    "### 1.6 在每个子类中实现__init__()方法  \n",
    "考虑重构card类，并将部分初始化在card类中实现 "
   ]
  },
  {
   "cell_type": "code",
   "execution_count": 10,
   "metadata": {},
   "outputs": [],
   "source": [
    "class Card:\n",
    "    def __init__(self, rank, suit, hard, soft):\n",
    "        \"\"\"\n",
    "        rank: 号码 \n",
    "        suit: 花色 \n",
    "        hard: \n",
    "        soft\n",
    "        \"\"\"\n",
    "        self.rank = rank \n",
    "        self.suit = suit \n",
    "        self.hard = hard \n",
    "        self.soft = soft \n",
    "\n",
    "class AceCard(Card):\n",
    "    def __init__(self, rank, suit):\n",
    "        super().__init__('A', suit, 1, 11)\n",
    "    \n",
    "class NumberCard(Card):\n",
    "    def __init__(self, rank, suit):\n",
    "        super().__init__(str(rank), suit, int(rank), int(rank))\n",
    "\n",
    "class FaceCard(Card):\n",
    "    def __init__(self, rank, suit):\n",
    "        super().__init__({11: 'J', 12: 'Q', 13: 'K'}.get(int(rank)), suit, 10, 10)"
   ]
  },
  {
   "cell_type": "markdown",
   "metadata": {},
   "source": [
    "经过上述重写以后，工厂函数的实现也会变得简洁 \n",
    "> 事实上， 在__init__ 函数和 工厂函数之间有些权衡，通常直接调用 比 __init___并把构造复杂性分发给工厂函数 更好， 当需要封装复杂的构造逻辑时，工厂函数才是一个更好的选择 "
   ]
  },
  {
   "cell_type": "code",
   "execution_count": 11,
   "metadata": {},
   "outputs": [],
   "source": [
    "def card10(rank, suit):\n",
    "    \"\"\" 工厂方法v10 \"\"\"\n",
    "    if rank == 1: return AceCard(rank, suit) \n",
    "    elif 2 <= rank < 11: return NumberCard(rank, suit) \n",
    "    elif 11 <= rank < 14: return FaceCard(rank, suit) \n",
    "    else: raise Exception('rank is invalid ')\n",
    "    "
   ]
  },
  {
   "cell_type": "markdown",
   "metadata": {},
   "source": [
    "### 1.7 简单的组合对象 \n",
    "一个组合对象也可以被称为**容器** \n",
    "> 面向对象的设计原则 \n",
    "> 单一功能原则 : 对象应该仅具有一种单一功能   \n",
    "> 开闭原则： 对于拓展开发，对于修改封闭    \n",
    "> 里氏替换原则： 程序中的对象应该是在可以不改变程序正确性的前提下被它的子类所替换   \n",
    "> 接口隔离原则： 多个特定的客户端接口要好于一个用途宽泛的接口    \n",
    "> 依赖反转原则： 一个方法应该遵守依赖于抽象而不是一个实例原则    \n",
    "\n",
    "类定义的一个优势： 类给对象提供了简单的、不需要实现的接口 （然而对于python来说，却不是必须的，可能这就是脚本语言的特性吧）"
   ]
  },
  {
   "cell_type": "markdown",
   "metadata": {},
   "source": [
    "设计一个集合类，通常有一下三种方法：  \n",
    "- 封装： 这个设计是基于现有集合类来定义一个新类，属于外观模式的一个使用场景 \n",
    "- 扩展： 对现有集合类进行拓展， 通常使用定义子类的方式来实现  \n",
    "- 创建： 重新设计 "
   ]
  },
  {
   "cell_type": "code",
   "execution_count": 12,
   "metadata": {},
   "outputs": [],
   "source": [
    "\"\"\"\n",
    "如下是一个封装的例子， 内部事实上是对 list 的一个封装， 调用方法也都是list 的方法\n",
    "\"\"\"\n",
    "import random \n",
    "class Deck:\n",
    "    def __init__(self):\n",
    "        # 牌堆\n",
    "        self._cards = [card10(rank, suit) for rank in range(1, 14) for suit in [Spade, Heart, Club, Diamond]]\n",
    "        random.shuffle(self._cards) \n",
    "\n",
    "    def pop(self):\n",
    "        \"\"\" 发牌 \"\"\"\n",
    "        return self._cards.pop()\n",
    "    "
   ]
  },
  {
   "cell_type": "markdown",
   "metadata": {},
   "source": [
    "一般来说， 外观模式或者封装类中的方法实现只是对底层对象相应函数的代理调用（有点多余?）"
   ]
  },
  {
   "cell_type": "code",
   "execution_count": 13,
   "metadata": {},
   "outputs": [],
   "source": [
    "\"\"\"\n",
    "拓展集合类, 好处是不用重新实现Pop方法, 只需继承即可\n",
    "\"\"\"\n",
    "class Deck(list):\n",
    "    def __init__(self):\n",
    "        _cards = [card10(rank, suit) for rank in range(1, 14) for suit in [Spade, Heart, Club, Diamond]]\n",
    "        super().__init__(_cards)\n",
    "        random.shuffle(self) #  牛啊？self 还可以这么用 ？ "
   ]
  },
  {
   "cell_type": "markdown",
   "metadata": {},
   "source": [
    "在一些场景下，在子类中需要显示的调用基类的函数来完成适当的实现"
   ]
  },
  {
   "cell_type": "code",
   "execution_count": 15,
   "metadata": {},
   "outputs": [],
   "source": [
    "\"\"\"\n",
    "以下是一个可以适应更多需求的设计(模拟发牌机，可以有多副牌)\n",
    "\"\"\"\n",
    "class Deck3(list):\n",
    "    def __init__(self, decks=1):\n",
    "        super().__init__() \n",
    "        for i in range(decks):\n",
    "            self.extend([card10(rank, suit) for rank in range(1, 14) for suit in [Spade, Heart, Club, Diamond]])\n",
    "        \n",
    "        random.shuffle(self)\n",
    "        burn = random.randint(1, 52)\n",
    "        for i in range(burn): self.pop() "
   ]
  },
  {
   "cell_type": "markdown",
   "metadata": {},
   "source": [
    "### 1.8 复合的组合对象  \n",
    "\n",
    "定义Hand类，用来模拟打牌策略 "
   ]
  },
  {
   "cell_type": "code",
   "execution_count": 16,
   "metadata": {},
   "outputs": [],
   "source": [
    "class Hand:\n",
    "    def __init__(self, dealer_card):\n",
    "        self.dealer_card = dealer_card \n",
    "        self.cards = [] \n",
    "\n",
    "    def hard_total(self):\n",
    "        \"\"\" 手牌hard点数 \"\"\"\n",
    "        return sum(c.hard for c in self.cards) \n",
    "    \n",
    "    def soft_total(self):\n",
    "        \"\"\" 手牌soft点数\"\"\"\n",
    "        return sum(c.soft for c in self.cards)\n"
   ]
  },
  {
   "cell_type": "code",
   "execution_count": 17,
   "metadata": {},
   "outputs": [],
   "source": [
    "# 以下是初始化一个Hand对象，事实上非常麻烦\n",
    "d = Deck() \n",
    "h = Hand(d.pop())\n",
    "h.cards.append(h.cards.append(d.pop())) "
   ]
  },
  {
   "cell_type": "code",
   "execution_count": 23,
   "metadata": {},
   "outputs": [
    {
     "data": {
      "text/plain": [
       "'♥'"
      ]
     },
     "execution_count": 23,
     "metadata": {},
     "output_type": "execute_result"
    }
   ],
   "source": [
    "h.cards[0].suit.symbol"
   ]
  },
  {
   "cell_type": "markdown",
   "metadata": {},
   "source": [
    "\\__init__()方法通常应该返回一个完整的对象，但对象的构造可能是复合的。 \n",
    "通常考虑使用一个流畅接口来完成逐个将对象添加到集合，同时将集合对象作为构造函数的参数来完成初始化 "
   ]
  },
  {
   "cell_type": "code",
   "execution_count": 26,
   "metadata": {},
   "outputs": [
    {
     "data": {
      "text/plain": [
       "[<__main__.FaceCard at 0x21dd37d6940>, <__main__.NumberCard at 0x21dd37d6a30>]"
      ]
     },
     "execution_count": 26,
     "metadata": {},
     "output_type": "execute_result"
    }
   ],
   "source": [
    "class Hand2:\n",
    "    # * 号运算符为解包操作 \n",
    "    def __init__(self, dealer_card, *cards):\n",
    "        \"\"\" \n",
    "        dealer_card: 新发的牌\n",
    "        cards: 手牌 \n",
    "        \"\"\"\n",
    "        self.dealer_card = dealer_card \n",
    "        self.cards = list(cards)\n",
    "    \n",
    "    def hard_total(self):\n",
    "        return sum(c.hard for c in self.cards)\n",
    "    \n",
    "    def soft_total(self):\n",
    "        return sum(c.soft for c in self.cards)\n",
    "    \n",
    "d = Deck() \n",
    "h = Hand2(d.pop(), d.pop(), d.pop())\n",
    "h.cards"
   ]
  },
  {
   "cell_type": "markdown",
   "metadata": {},
   "source": [
    "### 1.9 不带__init__()方法的无状态对象 \n",
    "\n",
    "对于策略模式的对象来说，这是常见的设计。一个策略对象以插件的形式复合在主对象上来完成一种算法或逻辑  \n",
    "策略类通常和享元模式一起使用： 在策略对象中避免内部存储。所有需要的值都从策略对象的方法参数传入。 策略对象本省是无状态的，是一系列函数的集合  \n",
    "在策略对象中，避免内部存储 \n",
    "> 策略模式：\n",
    "> - 上下文Context 维护指向具体策略的引用， 且仅通过策略接口与该对象进行交流 \n",
    "> - 策略Strategy 接口是所有具体策略的通用接口，声明一个上下文用于执行策略的方法 \n",
    "> - 具体策略 Concrete Strategy 实现了上下文所有不同算法， 当上下文需要计算的时候，会调用对应的execute方法  \n",
    "> - 客户端 Client 会创建一个特定策略对象并将其传递给上下文， 上下文会提供一个设置器以方便客户端在运行时替换相关联的策略 \n",
    "> ![Alt text](image-1.png)    \n",
    "\n",
    "> 享元模式： 结构型设计模式，摒弃了在所有对象中保存数据的模式，在有限内存中可以存储更多对象    \n",
    "> - 享元模式是一种优化    \n",
    ">![Alt text](image-2.png)"
   ]
  },
  {
   "cell_type": "code",
   "execution_count": 30,
   "metadata": {},
   "outputs": [],
   "source": [
    "\"\"\"\n",
    "21 点 策略类 (当前阻断的架构也可以用这种方式来写，避免每次大量的对象构造和重复工作) \n",
    "供player 实例提供游戏模式选择 \n",
    "\"\"\"\n",
    "\n",
    "class GameStrategy:\n",
    "    def insurance(self, hand):\n",
    "        \"\"\" 保险 \"\"\"\n",
    "        return False \n",
    "    \n",
    "    def split(self, hand):\n",
    "        \"\"\" 分牌 \"\"\"\n",
    "        return False\n",
    "     \n",
    "    def double(self, hand):\n",
    "        \"\"\" 双倍 \"\"\"\n",
    "        return False \n",
    "    \n",
    "    def hit(self, hand):\n",
    "        \"\"\" 叫牌 \"\"\"\n",
    "        return sum(c.hard for c in hand.cards) <= 17\n",
    "    \n",
    "dump = GameStrategy() # 单例策略对象"
   ]
  },
  {
   "cell_type": "markdown",
   "metadata": {},
   "source": [
    "### 1.10 一些其他类的定义  \n",
    "Table 类， 模拟器类， 用于追踪与players 集合所有相关操作的状态  "
   ]
  },
  {
   "cell_type": "code",
   "execution_count": 31,
   "metadata": {},
   "outputs": [],
   "source": [
    "class Table:\n",
    "    def __init__(self):\n",
    "        \"\"\" 初始化牌局 \"\"\"\n",
    "        self.deck = Deck() \n",
    "\n",
    "    def place_bet(self, amount):\n",
    "        \"\"\" 下注 \"\"\"\n",
    "        print('Bet', amount) \n",
    "\n",
    "    def get_hand(self):\n",
    "        \"\"\" 分牌 \"\"\"\n",
    "        try:\n",
    "            self.hand = Hand2(d.pop(), d.pop(), d.pop())\n",
    "            self.hole_card = d.pop() \n",
    "        except IndexError:\n",
    "            # 牌堆用完，需要重新洗牌 \n",
    "            self.deck = Deck() \n",
    "            return self.get_hand()\n",
    "        \n",
    "        print ('Deal', self.hand)\n",
    "        return self.hand\n",
    "    \n",
    "    def can_insure(self, hand):\n",
    "        \"\"\" 下注 \"\"\"\n",
    "        return hand.deader_card.insure"
   ]
  },
  {
   "cell_type": "markdown",
   "metadata": {},
   "source": [
    "python 的 abc 类定 可以用来创建抽象基类 (Abstract Base Classes)"
   ]
  },
  {
   "cell_type": "code",
   "execution_count": 32,
   "metadata": {},
   "outputs": [],
   "source": [
    "# 不使用abc 创建抽象基类，通过在基类函数中抛出异常来实现 \n",
    "class BettingStrategy:\n",
    "    def bet(self):\n",
    "        raise NotImplementedError('No bet method') \n",
    "    \n",
    "    def record_win(self):\n",
    "        pass \n",
    "\n",
    "    def record_loss(self):\n",
    "        pass \n",
    "\n",
    "class Flat(BettingStrategy):\n",
    "    def bet(self):\n",
    "        return 1"
   ]
  },
  {
   "cell_type": "code",
   "execution_count": 33,
   "metadata": {},
   "outputs": [],
   "source": [
    "\"\"\" \n",
    "使用abc 来创建 抽象基类\n",
    "\"\"\"\n",
    "import abc \n",
    "from abc import ABC, ABCMeta, abstractmethod \n",
    "\n",
    "class BettingStrategy2(ABCMeta):\n",
    "    \n",
    "    @abstractmethod \n",
    "    def bet(self):\n",
    "        return 1 \n",
    "    \n",
    "    def record_win(self):\n",
    "        pass \n",
    "\n",
    "    def record_loss(self):\n",
    "        pass \n",
    "    "
   ]
  },
  {
   "cell_type": "markdown",
   "metadata": {},
   "source": [
    "使用这种方法有两种好处   \n",
    "- 阻止了对抽象基类BettingStrategy2 的实例化 \n",
    "- 任何没有提供bet 方法的子类无法被实例化 \n",
    "\n",
    "如果抽象基类实现了对bet 方法， 那么就是合法的，且可以通过 super().bet() 来调用"
   ]
  },
  {
   "cell_type": "markdown",
   "metadata": {},
   "source": [
    "### 1.11 多策略的__init__()方法 \n",
    "\n",
    "备忘录模式 ：行为设计模式， 允许在不暴露实现细节的情况下保存和恢复对象之前的状态 \n",
    "> ![Alt text](image.png)"
   ]
  },
  {
   "cell_type": "code",
   "execution_count": 37,
   "metadata": {},
   "outputs": [
    {
     "name": "stdout",
     "output_type": "stream",
     "text": [
      "existing hand \n"
     ]
    }
   ],
   "source": [
    "\"\"\"\n",
    "两种Hand类的实现方法 \n",
    "\"\"\"\n",
    "class Hand3:\n",
    "    def __init__(self, *args, **kw):\n",
    "        if len(args) == 1 and isinstance(args[0], Hand3):\n",
    "            # Clone an existing hand; offen a bad idead \n",
    "            print('existing hand ')\n",
    "            other = args[0]\n",
    "            self.dealer_card = other.dealer_card \n",
    "            self.cards = other.cards \n",
    "        else:\n",
    "            # build a new hand, \n",
    "            dealer_card, *cards = args \n",
    "            self.dealer_card = dealer_card \n",
    "            self.cards = list(cards)\n",
    "\n",
    "# 基于一个已有的对象，创建一个Hand对象， 可以用来创建一个Hand对象的备忘录模式 \n",
    "h = Hand3(deck.pop(), deck.pop(), deck.pop())\n",
    "memento = Hand3(h) "
   ]
  },
  {
   "cell_type": "code",
   "execution_count": 62,
   "metadata": {},
   "outputs": [
    {
     "name": "stdout",
     "output_type": "stream",
     "text": [
      "['A', '2'] 2\n",
      "['A', '9'] 2\n",
      "['2', '10'] 2\n"
     ]
    }
   ],
   "source": [
    "\"\"\"\n",
    "多种策略用于初始化 , 以下这种方式需要大量的文档来说明初始化逻辑 \n",
    "\"\"\"\n",
    "class Hand4:\n",
    "    def __init__(self, *args, **kw):\n",
    "        if len(args) == 1 and isinstance(args[0], Hand4):\n",
    "            # Clone an existing hand \n",
    "            other = args[0]\n",
    "            self.dealer_card = other.dealer_card\n",
    "            self.cards = other.cards \n",
    "        elif len(args) == 2 and isinstance(args[0], Hand4) and 'split' in kw:\n",
    "            # 玩家选择分牌\n",
    "            other, card = args  # other 为原来的 手牌， cards 为新牌 \n",
    "            self.dealer_card = other.dealer_card \n",
    "            self.cards = [other.cards[kw['split']], card]\n",
    "        elif len(args) == 3:\n",
    "            # build a new fresh hand\n",
    "            dealer_card, *cards = args\n",
    "            self.dealer_card = dealer_card \n",
    "            self.cards = list(cards)\n",
    "        else:\n",
    "            raise TypeError('Invalid constructor args={0!r} kw={1!r}'.format(args, kw))  # 0!r 表示将第一个参数表示为字符串形式\n",
    "        \n",
    "    def __str__(self):\n",
    "        return ','.join(map(str, self.cards))\n",
    "    \n",
    "d = Deck() \n",
    "h = Hand4(d.pop(), d.pop(), d.pop()) \n",
    "print([card.rank for card in h.cards], h.dealer_card.rank)\n",
    "s1 = Hand4(h, d.pop(), split=0)\n",
    "print([card.rank for card in s1.cards], s1.dealer_card.rank)\n",
    "s2 = Hand4(h, d.pop(), split=1)\n",
    "print([card.rank for card in s2.cards], s2.dealer_card.rank)\n",
    "\n",
    "# s2 = Hand4(h, d.pop(), split=1)"
   ]
  },
  {
   "cell_type": "code",
   "execution_count": 65,
   "metadata": {},
   "outputs": [],
   "source": [
    "\"\"\"\n",
    "使用静态函数作为代理函数, 在代码结构上将更加具有优势 \n",
    "\"\"\"\n",
    "class Hand5:\n",
    "    def __init__(self, dealer_card, *cards):\n",
    "        \"\"\" \n",
    "        dealer_card: 庄家的明牌 \n",
    "        cards: 闲家的手牌\n",
    "        \"\"\"\n",
    "        self.dealer_card = dealer_card \n",
    "        self.cards = list(cards) \n",
    "    \n",
    "    @staticmethod\n",
    "    def freeze(other):\n",
    "        \"\"\" 备忘录模式 \"\"\"\n",
    "        hand = Hand5(other.dealer_card, *other.cards)\n",
    "        return hand\n",
    "\n",
    "    @staticmethod\n",
    "    def split(other, card0, card1):\n",
    "        \"\"\" 分牌 \"\"\"\n",
    "        hand0 = Hand5(other.dealer_card, other.cards[0], card0)\n",
    "        hand1 = Hand5(other.dealer_card, other.cards[1], card1)\n",
    "        return hand0, hand1\n",
    "\n",
    "    def __str__(self):\n",
    "        return \",\".join(map(str, self.cards))\n",
    "    \n",
    "\n",
    "d = Deck() \n",
    "h = Hand5(d.pop(), d.pop(), d.pop())\n",
    "s1, s2 = Hand5.split(h, d.pop(), d.pop())\n"
   ]
  },
  {
   "cell_type": "markdown",
   "metadata": {},
   "source": [
    "尽管使用静态方法作为代理相对于V1 直接使用__init__() 方法已经简化了很多，但是违背了一个原则：   \n",
    "**使用已有的set对象来建立frozenset对象** "
   ]
  },
  {
   "cell_type": "markdown",
   "metadata": {},
   "source": [
    "### 1.12 更多的__init__()技术 \n",
    "以建立 Player 类为例    \n",
    "> 突然发想，本章的代码应该是要在对游戏进行号抽象的情况下进行的，应该首先就有了一个比较详细的文档  \n",
    "> 而这样的抽象也是有很高的技术含量的，后续需要增强这方面的能力  "
   ]
  },
  {
   "cell_type": "code",
   "execution_count": 66,
   "metadata": {},
   "outputs": [],
   "source": [
    "class Player:\n",
    "    def __init__(self, table, bet_strategy, game_strategy):\n",
    "        \"\"\" \n",
    "        table: 模拟牌桌  \n",
    "        bet_strategy: 下注策略 \n",
    "        game_strateyg： 游戏策略 \n",
    "        \"\"\"\n",
    "        self.table = table \n",
    "        self.bet_strategy = bet_strategy \n",
    "        self.game_strategy = game_strategy \n",
    "\n",
    "    def game(self):\n",
    "        # 下注 \n",
    "        self.table.place_bet(self.bet_strategy.bet()) \n",
    "        \n",
    "        # 发牌\n",
    "        self.table.get_hand()\n",
    "\n",
    "        # 是否可以买保险 \n",
    "        if self.table.can_insurance(self.hand):\n",
    "            if self.game_strategy.insurance(self.hand):\n",
    "                self.table.insure(self.bet_strategy.bet())\n",
    "\n",
    "        # 后续补充更多的逻辑 \n",
    "\n"
   ]
  },
  {
   "cell_type": "markdown",
   "metadata": {},
   "source": [
    "上述实现中__init__()函数只是进行了对象保存的功能，如果有很多的参数，那么复制将会变得非常臃肿   \n",
    "可以通过把关键字参数直接转换为内部变量，以提供一个非常短且灵活的初始化方式  "
   ]
  },
  {
   "cell_type": "code",
   "execution_count": 68,
   "metadata": {},
   "outputs": [],
   "source": [
    "class Player2:\n",
    "    def __init__(self, **args):\n",
    "        \"\"\" 必须提供 table, bet_strategy, game_strategy 对象=\"\"\"\n",
    "        self.__dict__.update(args)  # __dict__ 是一个特殊的属性，用于存储一个对象的可变属性  \n",
    "\n",
    "    def game(self):\n",
    "        # 下注 \n",
    "        self.table.place_bet(self.bet_strategy.bet()) \n",
    "        \n",
    "        # 发牌\n",
    "        self.table.get_hand()\n",
    "\n",
    "        # 是否可以买保险 \n",
    "        if self.table.can_insurance(self.hand):\n",
    "            if self.game_strategy.insurance(self.hand):\n",
    "                self.table.insure(self.bet_strategy.bet())\n",
    "\n",
    "        # 后续补充更多的逻辑 \n",
    "\n",
    "table = Table()\n",
    "flat_bet = Flat()\n",
    "dump = GameStrategy()\n",
    "p1 = Player2(table=table, bet_strategy=flat_bet, game_strategy=dump)\n"
   ]
  },
  {
   "cell_type": "markdown",
   "metadata": {},
   "source": [
    "这种方式牺牲了大量的可读性来换来代码的简洁性， 需要再初始化时提供对应的变量名   \n",
    "这种方式需要避免参数名的冲突，而 **kw 提供了很少的信息  \n",
    "在设计之初， 应当考虑设计一些灵活的子类，而不是完美的基类  "
   ]
  },
  {
   "cell_type": "code",
   "execution_count": 70,
   "metadata": {},
   "outputs": [],
   "source": [
    "\"\"\"\n",
    "必须参数设置为位置参数 \n",
    "可选参数设置为关键字参数 \n",
    "\"\"\"\n",
    "class Player3:\n",
    "    def __init__(self, table, bet_strategy, game_strategy, **extras):\n",
    "        self.table = table \n",
    "        self.bet_strategy = bet_strategy \n",
    "        self.game_strategy = game_strategy \n",
    "        self.__dict__.update(extras)"
   ]
  },
  {
   "cell_type": "markdown",
   "metadata": {},
   "source": [
    "#### 1.12.1 带有类型验证的初始化  \n",
    "\n",
    "类型验证是为了验证所有的参数是恰当的类型。 "
   ]
  },
  {
   "cell_type": "code",
   "execution_count": 71,
   "metadata": {},
   "outputs": [],
   "source": [
    "\"\"\" 以下的实现可能会带来问题 : 不得不创建子类 \"\"\"\n",
    "\n",
    "class ValidPlayer:\n",
    "    def __init__(self, table, bet_strategy, game_strategy):\n",
    "        assert isinstance(table, Table) \n",
    "        assert isinstance(bet_strategy, BettingStrategy) \n",
    "        assert isinstance(game_strategy, GameStrategy)\n",
    "\n",
    "        self.bet_strategy = bet_strategy \n",
    "        self.game_strategy = game_strategy \n",
    "        self.table = table "
   ]
  },
  {
   "cell_type": "markdown",
   "metadata": {},
   "source": [
    "**为了使工作量最小化，无论如何我们都必须提供文档、日志和测试用例**"
   ]
  },
  {
   "cell_type": "code",
   "execution_count": 72,
   "metadata": {},
   "outputs": [],
   "source": [
    "class Player:\n",
    "    def __init__(self, table, bet_strategy, game_strategy):\n",
    "        \"\"\"\n",
    "        create a new palyer associated with a table, and configured  with proper betting and game strategies \n",
    "        :param table: an instance of class: Table \n",
    "        :param bet_strategy: an instance of class: BettingStrategy \n",
    "        :param game_strategy: an instance of class: GameStrategy \n",
    "        \"\"\"\n",
    "        self.table = table \n",
    "        self.bet_strategy = bet_strategy \n",
    "        self.game_strategy = game_strategy \n",
    "        \n",
    "    "
   ]
  },
  {
   "cell_type": "markdown",
   "metadata": {},
   "source": [
    "命名规范：  \n",
    "- 大部分名称是公有的  \n",
    "- 以 _ 开头的名字通常不完全公有， 这些函数通常是实现细节 \n",
    "- 以 __ 开头的是 python 内部的，程序中一般不应该使用  \n",
    "\n",
    "\n",
    "通常接口函数会有说明文档和测试用例， 而实现细节的函数只需提供简单的说明即可  "
   ]
  },
  {
   "cell_type": "markdown",
   "metadata": {},
   "source": []
  }
 ],
 "metadata": {
  "kernelspec": {
   "display_name": "Python 3.9.12 ('base')",
   "language": "python",
   "name": "python3"
  },
  "language_info": {
   "codemirror_mode": {
    "name": "ipython",
    "version": 3
   },
   "file_extension": ".py",
   "mimetype": "text/x-python",
   "name": "python",
   "nbconvert_exporter": "python",
   "pygments_lexer": "ipython3",
   "version": "3.9.12"
  },
  "orig_nbformat": 4,
  "vscode": {
   "interpreter": {
    "hash": "7c4d1481346eac6a267ce2424748a276f0d081a15f13c03f31a199eff3add9c4"
   }
  }
 },
 "nbformat": 4,
 "nbformat_minor": 2
}
